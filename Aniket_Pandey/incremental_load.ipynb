{
 "cells": [
  {
   "cell_type": "code",
   "execution_count": 0,
   "metadata": {
    "application/vnd.databricks.v1+cell": {
     "cellMetadata": {
      "byteLimit": 2048000,
      "rowLimit": 10000
     },
     "inputWidgets": {},
     "nuid": "bd5fa626-da40-48bb-8443-db3ba8207a4a",
     "showTitle": false,
     "tableResultSettingsMap": {},
     "title": ""
    }
   },
   "outputs": [],
   "source": [
    "from pyspark.sql import SparkSession\n",
    "from pyspark.sql.functions import col"
   ]
  },
  {
   "cell_type": "code",
   "execution_count": 0,
   "metadata": {
    "application/vnd.databricks.v1+cell": {
     "cellMetadata": {
      "byteLimit": 2048000,
      "rowLimit": 10000
     },
     "inputWidgets": {},
     "nuid": "a798e6bc-5b66-4b93-b0ab-553618e0e6a6",
     "showTitle": false,
     "tableResultSettingsMap": {},
     "title": ""
    }
   },
   "outputs": [],
   "source": [
    "spark = SparkSession.builder.appName(\"Inc Load\").getOrCreate()"
   ]
  },
  {
   "cell_type": "code",
   "execution_count": 0,
   "metadata": {
    "application/vnd.databricks.v1+cell": {
     "cellMetadata": {
      "byteLimit": 2048000,
      "rowLimit": 10000
     },
     "inputWidgets": {},
     "nuid": "e9a07a1f-eebd-4658-9b1c-9302ffaf380a",
     "showTitle": false,
     "tableResultSettingsMap": {},
     "title": ""
    }
   },
   "outputs": [],
   "source": [
    "# Define the initial data\n",
    "initial_data = [\n",
    "    (1, \"Alice\", \"2024-08-01 10:00:00\"),\n",
    "    (2, \"Bob\", \"2024-08-02 11:30:00\"),\n",
    "    (3, \"Charlie\", \"2024-08-03 14:15:00\"),\n",
    "    (4, \"David\", \"2024-08-04 09:45:00\"),\n",
    "    (5, \"Eva\", \"2024-08-05 13:00:00\")\n",
    "]\n",
    "\n",
    "# Create a DataFrame\n",
    "columns = [\"id\", \"name\", \"last_modified\"]\n",
    "df_initial = spark.createDataFrame(initial_data, columns)\n",
    "\n",
    "# Write the initial data to a Delta table\n",
    "df_initial.write.format(\"delta\").mode(\"overwrite\").save(\"dbfs:/user/hive/warehouse/load\")\n",
    "\n",
    "\n",
    "df_initial=df_initial.withColumn(\"last_modified\",col(\"last_modified\").cast(\"timestamp\"))\n",
    "\n",
    "watermark_df = df_initial.selectExpr(\"max(last_modified) as max_last_modified\")\n",
    "\n",
    "# Write the watermark value to another Delta table\n",
    "watermark_df.write.format(\"delta\").mode(\"overwrite\").save(\"dbfs:/user/hive/warehouse/watermark_table\")"
   ]
  },
  {
   "cell_type": "code",
   "execution_count": 0,
   "metadata": {
    "application/vnd.databricks.v1+cell": {
     "cellMetadata": {
      "byteLimit": 2048000,
      "rowLimit": 10000
     },
     "inputWidgets": {},
     "nuid": "61425420-bb00-4ee1-af17-3eb2c23f2f1f",
     "showTitle": false,
     "tableResultSettingsMap": {},
     "title": ""
    }
   },
   "outputs": [],
   "source": [
    "# Define the incremental data\n",
    "incremental_data = [\n",
    "    (2, \"Bob Smith\", \"2024-08-06 11:30:00\"),  # Updated record for id=2\n",
    "    (5, \"Eva\", \"2024-08-07 13:00:00\"),        # Updated record for id=5\n",
    "    (6, \"Frank\", \"2024-08-07 15:00:00\"),      # New record\n",
    "    (7, \"Grace\", \"2024-08-07 16:00:00\")       # New record\n",
    "]\n",
    "\n",
    "# Create a DataFrame\n",
    "df_incremental = spark.createDataFrame(incremental_data, columns)\n",
    "\n",
    "df_incremental=df_incremental.withColumn(\"last_modified\",col(\"last_modified\").cast(\"timestamp\"))\n",
    "\n",
    "# Read the last watermark\n",
    "last_load_timestamp = spark.read.format(\"delta\").load(\"dbfs:/user/hive/warehouse/watermark_table\").selectExpr(\"max(max_last_modified)\").collect()[0][0]\n",
    "\n",
    "# Filter the incremental data based on the last load timestamp\n",
    "new_changes_df = df_incremental.filter(f\"last_modified > '{last_load_timestamp}'\")\n",
    "\n",
    "# Load the Delta table\n",
    "from delta.tables import DeltaTable\n",
    "deltaTable = DeltaTable.forPath(spark, \"dbfs:/user/hive/warehouse/load\")\n",
    "\n",
    "# Merge new changes into the existing Delta table\n",
    "deltaTable.alias(\"target\").merge(\n",
    "    new_changes_df.alias(\"source\"),\n",
    "    \"target.id = source.id\"\n",
    ").whenMatchedUpdateAll().whenNotMatchedInsertAll().execute()\n",
    "\n",
    "# Update the watermark with the new last_modified\n",
    "new_last_modified = new_changes_df.selectExpr(\"max(last_modified) as max_last_modified\").collect()[0][0]\n",
    "new_last_modified\n",
    "spark.createDataFrame([(new_last_modified,)], [\"max_last_modified\"] ).write.format(\"delta\").mode(\"overwrite\").save(\"dbfs:/user/hive/warehouse/watermark_table\") \n"
   ]
  },
  {
   "cell_type": "code",
   "execution_count": 0,
   "metadata": {
    "application/vnd.databricks.v1+cell": {
     "cellMetadata": {
      "byteLimit": 2048000,
      "rowLimit": 10000
     },
     "inputWidgets": {},
     "nuid": "6e9172f4-5e5b-4acb-b522-25c3d79d4cb0",
     "showTitle": false,
     "tableResultSettingsMap": {},
     "title": ""
    }
   },
   "outputs": [
    {
     "output_type": "display_data",
     "data": {
      "text/html": [
       "<style scoped>\n",
       "  .table-result-container {\n",
       "    max-height: 300px;\n",
       "    overflow: auto;\n",
       "  }\n",
       "  table, th, td {\n",
       "    border: 1px solid black;\n",
       "    border-collapse: collapse;\n",
       "  }\n",
       "  th, td {\n",
       "    padding: 5px;\n",
       "  }\n",
       "  th {\n",
       "    text-align: left;\n",
       "  }\n",
       "</style><div class='table-result-container'><table class='table-result'><thead style='background-color: white'><tr><th>id</th><th>name</th><th>last_modified</th></tr></thead><tbody><tr><td>2</td><td>Bob Smith</td><td>2024-08-06 11:30:00</td></tr><tr><td>3</td><td>Charlie</td><td>2024-08-03 14:15:00</td></tr><tr><td>1</td><td>Alice</td><td>2024-08-01 10:00:00</td></tr><tr><td>4</td><td>David</td><td>2024-08-04 09:45:00</td></tr><tr><td>7</td><td>Grace</td><td>2024-08-07 16:00:00</td></tr><tr><td>6</td><td>Frank</td><td>2024-08-07 15:00:00</td></tr><tr><td>5</td><td>Eva</td><td>2024-08-07 13:00:00</td></tr></tbody></table></div>"
      ]
     },
     "metadata": {
      "application/vnd.databricks.v1+output": {
       "addedWidgets": {},
       "aggData": [],
       "aggError": "",
       "aggOverflow": false,
       "aggSchema": [],
       "aggSeriesLimitReached": false,
       "aggType": "",
       "arguments": {},
       "columnCustomDisplayInfos": {},
       "data": [
        [
         2,
         "Bob Smith",
         "2024-08-06 11:30:00"
        ],
        [
         3,
         "Charlie",
         "2024-08-03 14:15:00"
        ],
        [
         1,
         "Alice",
         "2024-08-01 10:00:00"
        ],
        [
         4,
         "David",
         "2024-08-04 09:45:00"
        ],
        [
         7,
         "Grace",
         "2024-08-07 16:00:00"
        ],
        [
         6,
         "Frank",
         "2024-08-07 15:00:00"
        ],
        [
         5,
         "Eva",
         "2024-08-07 13:00:00"
        ]
       ],
       "datasetInfos": [],
       "dbfsResultPath": null,
       "isJsonSchema": true,
       "metadata": {},
       "overflow": false,
       "plotOptions": {
        "customPlotOptions": {},
        "displayType": "table",
        "pivotAggregation": null,
        "pivotColumns": null,
        "xColumns": null,
        "yColumns": null
       },
       "removedWidgets": [],
       "schema": [
        {
         "metadata": "{}",
         "name": "id",
         "type": "\"long\""
        },
        {
         "metadata": "{}",
         "name": "name",
         "type": "\"string\""
        },
        {
         "metadata": "{}",
         "name": "last_modified",
         "type": "\"string\""
        }
       ],
       "type": "table"
      }
     },
     "output_type": "display_data"
    },
    {
     "output_type": "display_data",
     "data": {
      "text/html": [
       "<style scoped>\n",
       "  .table-result-container {\n",
       "    max-height: 300px;\n",
       "    overflow: auto;\n",
       "  }\n",
       "  table, th, td {\n",
       "    border: 1px solid black;\n",
       "    border-collapse: collapse;\n",
       "  }\n",
       "  th, td {\n",
       "    padding: 5px;\n",
       "  }\n",
       "  th {\n",
       "    text-align: left;\n",
       "  }\n",
       "</style><div class='table-result-container'><table class='table-result'><thead style='background-color: white'><tr><th>max_last_modified</th></tr></thead><tbody><tr><td>2024-08-07T16:00:00.000+0000</td></tr></tbody></table></div>"
      ]
     },
     "metadata": {
      "application/vnd.databricks.v1+output": {
       "addedWidgets": {},
       "aggData": [],
       "aggError": "",
       "aggOverflow": false,
       "aggSchema": [],
       "aggSeriesLimitReached": false,
       "aggType": "",
       "arguments": {},
       "columnCustomDisplayInfos": {},
       "data": [
        [
         "2024-08-07T16:00:00.000+0000"
        ]
       ],
       "datasetInfos": [],
       "dbfsResultPath": null,
       "isJsonSchema": true,
       "metadata": {},
       "overflow": false,
       "plotOptions": {
        "customPlotOptions": {},
        "displayType": "table",
        "pivotAggregation": null,
        "pivotColumns": null,
        "xColumns": null,
        "yColumns": null
       },
       "removedWidgets": [],
       "schema": [
        {
         "metadata": "{}",
         "name": "max_last_modified",
         "type": "\"timestamp\""
        }
       ],
       "type": "table"
      }
     },
     "output_type": "display_data"
    }
   ],
   "source": [
    "spark.read.format('delta').load(\"dbfs:/user/hive/warehouse/load\").display()\n",
    "spark.read.format('delta').load(\"dbfs:/user/hive/warehouse/watermark_table\").display()\n"
   ]
  },
  {
   "cell_type": "code",
   "execution_count": 0,
   "metadata": {
    "application/vnd.databricks.v1+cell": {
     "cellMetadata": {
      "byteLimit": 2048000,
      "rowLimit": 10000
     },
     "inputWidgets": {},
     "nuid": "a8092493-ace8-437a-a669-706bb2d86d25",
     "showTitle": false,
     "tableResultSettingsMap": {},
     "title": ""
    }
   },
   "outputs": [],
   "source": [
    "from pyspark.sql import SparkSession\n",
    "from pyspark.sql.functions import col\n",
    "\n",
    "spark = SparkSession.builder.appName(\"Inc Load\").getOrCreate()\n",
    "\n",
    "# Define the initial data\n",
    "initial_data = [\n",
    "    (1, \"Alice\", \"2024-08-01 10:00:00\"),\n",
    "    (2, \"Bob\", \"2024-08-02 11:30:00\"),\n",
    "    (3, \"Charlie\", \"2024-08-03 14:15:00\"),\n",
    "    (4, \"David\", \"2024-08-04 09:45:00\"),\n",
    "    (5, \"Eva\", \"2024-08-05 13:00:00\")\n",
    "]\n",
    "\n",
    "# Create a DataFrame\n",
    "columns = [\"id\", \"name\", \"last_modified\"]\n",
    "df_initial = spark.createDataFrame(initial_data, columns)\n",
    "\n",
    "# Write the initial data to a Delta table\n",
    "df_initial.write.format(\"delta\").mode(\"overwrite\").save(\"dbfs:/user/hive/warehouse/load\")\n",
    "\n",
    "\n",
    "df_initial=df_initial.withColumn(\"last_modified\",col(\"last_modified\").cast(\"timestamp\"))\n",
    "\n",
    "watermark_df = df_initial.selectExpr(\"max(last_modified) as max_last_modified\")\n",
    "\n",
    "# Write the watermark value to another Delta table\n",
    "watermark_df.write.format(\"delta\").mode(\"overwrite\").save(\"dbfs:/user/hive/warehouse/watermark_table\")\n",
    "\n",
    "\n",
    "# Define the incremental data\n",
    "incremental_data = [\n",
    "    (2, \"Bob Smith\", \"2024-08-06 11:30:00\"),  # Updated record for id=2\n",
    "    (5, \"Eva\", \"2024-08-07 13:00:00\"),        # Updated record for id=5\n",
    "    (6, \"Frank\", \"2024-08-07 15:00:00\"),      # New record\n",
    "    (7, \"Grace\", \"2024-08-07 16:00:00\")       # New record\n",
    "]\n",
    "\n",
    "# Create a DataFrame\n",
    "df_incremental = spark.createDataFrame(incremental_data, columns)\n",
    "\n",
    "df_incremental=df_incremental.withColumn(\"last_modified\",col(\"last_modified\").cast(\"timestamp\"))\n",
    "\n",
    "# Read the last watermark\n",
    "last_load_timestamp = spark.read.format(\"delta\").load(\"dbfs:/user/hive/warehouse/watermark_table\").selectExpr(\"max(max_last_modified)\").collect()[0][0]\n",
    "\n",
    "# Filter the incremental data based on the last load timestamp\n",
    "new_changes_df = df_incremental.filter(f\"last_modified > '{last_load_timestamp}'\")\n",
    "\n",
    "# Load the Delta table\n",
    "from delta.tables import DeltaTable\n",
    "deltaTable = DeltaTable.forPath(spark, \"dbfs:/user/hive/warehouse/load\")\n",
    "\n",
    "# Merge new changes into the existing Delta table\n",
    "deltaTable.alias(\"target\").merge(\n",
    "    new_changes_df.alias(\"source\"),\n",
    "    \"target.id = source.id\"\n",
    ").whenMatchedUpdateAll().whenNotMatchedInsertAll().execute()\n",
    "\n",
    "# Update the watermark with the new last_modified\n",
    "new_last_modified = new_changes_df.selectExpr(\"max(last_modified) as max_last_modified\").collect()[0][0]\n",
    "new_last_modified\n",
    "spark.createDataFrame([(new_last_modified,)], [\"max_last_modified\"] ).write.format(\"delta\").mode(\"overwrite\").save(\"dbfs:/user/hive/warehouse/watermark_table\") \n"
   ]
  }
 ],
 "metadata": {
  "application/vnd.databricks.v1+notebook": {
   "dashboards": [],
   "environmentMetadata": null,
   "language": "python",
   "notebookMetadata": {
    "pythonIndentUnit": 4
   },
   "notebookName": "incremental_load",
   "widgets": {}
  }
 },
 "nbformat": 4,
 "nbformat_minor": 0
}
