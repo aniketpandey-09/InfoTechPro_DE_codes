{
 "cells": [
  {
   "cell_type": "code",
   "execution_count": 0,
   "metadata": {
    "application/vnd.databricks.v1+cell": {
     "cellMetadata": {
      "byteLimit": 2048000,
      "rowLimit": 10000
     },
     "inputWidgets": {},
     "nuid": "130dada1-cc75-44e4-aaa9-ae569f1059fc",
     "showTitle": false,
     "tableResultSettingsMap": {},
     "title": ""
    }
   },
   "outputs": [],
   "source": [
    "from pyspark.sql import SparkSession"
   ]
  },
  {
   "cell_type": "code",
   "execution_count": 0,
   "metadata": {
    "application/vnd.databricks.v1+cell": {
     "cellMetadata": {
      "byteLimit": 2048000,
      "rowLimit": 10000
     },
     "inputWidgets": {},
     "nuid": "41c5a9c5-3ef2-4eee-a7e3-6ee4cb3b2d84",
     "showTitle": false,
     "tableResultSettingsMap": {},
     "title": ""
    }
   },
   "outputs": [],
   "source": [
    "spark = SparkSession.builder.appName(\"window Func\").getOrCreate()"
   ]
  },
  {
   "cell_type": "code",
   "execution_count": 0,
   "metadata": {
    "application/vnd.databricks.v1+cell": {
     "cellMetadata": {
      "byteLimit": 2048000,
      "implicitDf": true,
      "rowLimit": 10000
     },
     "inputWidgets": {},
     "nuid": "6f8a2eaa-4d5a-4073-bb60-dd6bdc96c4ae",
     "showTitle": false,
     "tableResultSettingsMap": {},
     "title": ""
    }
   },
   "outputs": [
    {
     "output_type": "display_data",
     "data": {
      "text/plain": [
       "\u001B[0;31m---------------------------------------------------------------------------\u001B[0m\n",
       "\u001B[0;31mAnalysisException\u001B[0m                         Traceback (most recent call last)\n",
       "File \u001B[0;32m<command-992396078211867>:7\u001B[0m\n",
       "\u001B[1;32m      5\u001B[0m     display(df)\n",
       "\u001B[1;32m      6\u001B[0m     \u001B[38;5;28;01mreturn\u001B[39;00m df\n",
       "\u001B[0;32m----> 7\u001B[0m   _sqldf \u001B[38;5;241m=\u001B[39m \u001B[43m____databricks_percent_sql\u001B[49m\u001B[43m(\u001B[49m\u001B[43m)\u001B[49m\n",
       "\u001B[1;32m      8\u001B[0m \u001B[38;5;28;01mfinally\u001B[39;00m:\n",
       "\u001B[1;32m      9\u001B[0m   \u001B[38;5;28;01mdel\u001B[39;00m ____databricks_percent_sql\n",
       "\n",
       "File \u001B[0;32m<command-992396078211867>:4\u001B[0m, in \u001B[0;36m____databricks_percent_sql\u001B[0;34m()\u001B[0m\n",
       "\u001B[1;32m      2\u001B[0m \u001B[38;5;28;01mdef\u001B[39;00m \u001B[38;5;21m____databricks_percent_sql\u001B[39m():\n",
       "\u001B[1;32m      3\u001B[0m   \u001B[38;5;28;01mimport\u001B[39;00m \u001B[38;5;21;01mbase64\u001B[39;00m\n",
       "\u001B[0;32m----> 4\u001B[0m   df \u001B[38;5;241m=\u001B[39m \u001B[43mspark\u001B[49m\u001B[38;5;241;43m.\u001B[39;49m\u001B[43msql\u001B[49m\u001B[43m(\u001B[49m\u001B[43mbase64\u001B[49m\u001B[38;5;241;43m.\u001B[39;49m\u001B[43mstandard_b64decode\u001B[49m\u001B[43m(\u001B[49m\u001B[38;5;124;43m\"\u001B[39;49m\u001B[38;5;124;43mLS0gQ3JlYXRlIHRoZSBzYW1wbGUgZW1wbG95ZWVzIHRhYmxlCkNSRUFURSBPUiBSRVBMQUNFIFRFTVAgVklFVyBlbXBsb3llZXMgKAogICAgaWQgSU5ULAogICAgbmFtZSBTVFJJTkcsCiAgICBzYWxhcnkgREVDSU1BTCgxMCwgMiksCiAgICBkZXBhcnRtZW50IFNUUklORywKICAgIGdlbmRlciBTVFJJTkcsCiAgICBoaXJlX2RhdGUgREFURQop\u001B[39;49m\u001B[38;5;124;43m\"\u001B[39;49m\u001B[43m)\u001B[49m\u001B[38;5;241;43m.\u001B[39;49m\u001B[43mdecode\u001B[49m\u001B[43m(\u001B[49m\u001B[43m)\u001B[49m\u001B[43m)\u001B[49m\n",
       "\u001B[1;32m      5\u001B[0m   display(df)\n",
       "\u001B[1;32m      6\u001B[0m   \u001B[38;5;28;01mreturn\u001B[39;00m df\n",
       "\n",
       "File \u001B[0;32m/databricks/spark/python/pyspark/instrumentation_utils.py:48\u001B[0m, in \u001B[0;36m_wrap_function.<locals>.wrapper\u001B[0;34m(*args, **kwargs)\u001B[0m\n",
       "\u001B[1;32m     46\u001B[0m start \u001B[38;5;241m=\u001B[39m time\u001B[38;5;241m.\u001B[39mperf_counter()\n",
       "\u001B[1;32m     47\u001B[0m \u001B[38;5;28;01mtry\u001B[39;00m:\n",
       "\u001B[0;32m---> 48\u001B[0m     res \u001B[38;5;241m=\u001B[39m \u001B[43mfunc\u001B[49m\u001B[43m(\u001B[49m\u001B[38;5;241;43m*\u001B[39;49m\u001B[43margs\u001B[49m\u001B[43m,\u001B[49m\u001B[43m \u001B[49m\u001B[38;5;241;43m*\u001B[39;49m\u001B[38;5;241;43m*\u001B[39;49m\u001B[43mkwargs\u001B[49m\u001B[43m)\u001B[49m\n",
       "\u001B[1;32m     49\u001B[0m     logger\u001B[38;5;241m.\u001B[39mlog_success(\n",
       "\u001B[1;32m     50\u001B[0m         module_name, class_name, function_name, time\u001B[38;5;241m.\u001B[39mperf_counter() \u001B[38;5;241m-\u001B[39m start, signature\n",
       "\u001B[1;32m     51\u001B[0m     )\n",
       "\u001B[1;32m     52\u001B[0m     \u001B[38;5;28;01mreturn\u001B[39;00m res\n",
       "\n",
       "File \u001B[0;32m/databricks/spark/python/pyspark/sql/session.py:1387\u001B[0m, in \u001B[0;36mSparkSession.sql\u001B[0;34m(self, sqlQuery, args, **kwargs)\u001B[0m\n",
       "\u001B[1;32m   1385\u001B[0m \u001B[38;5;28;01mtry\u001B[39;00m:\n",
       "\u001B[1;32m   1386\u001B[0m     litArgs \u001B[38;5;241m=\u001B[39m {k: _to_java_column(lit(v)) \u001B[38;5;28;01mfor\u001B[39;00m k, v \u001B[38;5;129;01min\u001B[39;00m (args \u001B[38;5;129;01mor\u001B[39;00m {})\u001B[38;5;241m.\u001B[39mitems()}\n",
       "\u001B[0;32m-> 1387\u001B[0m     \u001B[38;5;28;01mreturn\u001B[39;00m DataFrame(\u001B[38;5;28;43mself\u001B[39;49m\u001B[38;5;241;43m.\u001B[39;49m\u001B[43m_jsparkSession\u001B[49m\u001B[38;5;241;43m.\u001B[39;49m\u001B[43msql\u001B[49m\u001B[43m(\u001B[49m\u001B[43msqlQuery\u001B[49m\u001B[43m,\u001B[49m\u001B[43m \u001B[49m\u001B[43mlitArgs\u001B[49m\u001B[43m)\u001B[49m, \u001B[38;5;28mself\u001B[39m)\n",
       "\u001B[1;32m   1388\u001B[0m \u001B[38;5;28;01mfinally\u001B[39;00m:\n",
       "\u001B[1;32m   1389\u001B[0m     \u001B[38;5;28;01mif\u001B[39;00m \u001B[38;5;28mlen\u001B[39m(kwargs) \u001B[38;5;241m>\u001B[39m \u001B[38;5;241m0\u001B[39m:\n",
       "\n",
       "File \u001B[0;32m/databricks/spark/python/lib/py4j-0.10.9.5-src.zip/py4j/java_gateway.py:1321\u001B[0m, in \u001B[0;36mJavaMember.__call__\u001B[0;34m(self, *args)\u001B[0m\n",
       "\u001B[1;32m   1315\u001B[0m command \u001B[38;5;241m=\u001B[39m proto\u001B[38;5;241m.\u001B[39mCALL_COMMAND_NAME \u001B[38;5;241m+\u001B[39m\\\n",
       "\u001B[1;32m   1316\u001B[0m     \u001B[38;5;28mself\u001B[39m\u001B[38;5;241m.\u001B[39mcommand_header \u001B[38;5;241m+\u001B[39m\\\n",
       "\u001B[1;32m   1317\u001B[0m     args_command \u001B[38;5;241m+\u001B[39m\\\n",
       "\u001B[1;32m   1318\u001B[0m     proto\u001B[38;5;241m.\u001B[39mEND_COMMAND_PART\n",
       "\u001B[1;32m   1320\u001B[0m answer \u001B[38;5;241m=\u001B[39m \u001B[38;5;28mself\u001B[39m\u001B[38;5;241m.\u001B[39mgateway_client\u001B[38;5;241m.\u001B[39msend_command(command)\n",
       "\u001B[0;32m-> 1321\u001B[0m return_value \u001B[38;5;241m=\u001B[39m \u001B[43mget_return_value\u001B[49m\u001B[43m(\u001B[49m\n",
       "\u001B[1;32m   1322\u001B[0m \u001B[43m    \u001B[49m\u001B[43manswer\u001B[49m\u001B[43m,\u001B[49m\u001B[43m \u001B[49m\u001B[38;5;28;43mself\u001B[39;49m\u001B[38;5;241;43m.\u001B[39;49m\u001B[43mgateway_client\u001B[49m\u001B[43m,\u001B[49m\u001B[43m \u001B[49m\u001B[38;5;28;43mself\u001B[39;49m\u001B[38;5;241;43m.\u001B[39;49m\u001B[43mtarget_id\u001B[49m\u001B[43m,\u001B[49m\u001B[43m \u001B[49m\u001B[38;5;28;43mself\u001B[39;49m\u001B[38;5;241;43m.\u001B[39;49m\u001B[43mname\u001B[49m\u001B[43m)\u001B[49m\n",
       "\u001B[1;32m   1324\u001B[0m \u001B[38;5;28;01mfor\u001B[39;00m temp_arg \u001B[38;5;129;01min\u001B[39;00m temp_args:\n",
       "\u001B[1;32m   1325\u001B[0m     temp_arg\u001B[38;5;241m.\u001B[39m_detach()\n",
       "\n",
       "File \u001B[0;32m/databricks/spark/python/pyspark/errors/exceptions.py:234\u001B[0m, in \u001B[0;36mcapture_sql_exception.<locals>.deco\u001B[0;34m(*a, **kw)\u001B[0m\n",
       "\u001B[1;32m    230\u001B[0m converted \u001B[38;5;241m=\u001B[39m convert_exception(e\u001B[38;5;241m.\u001B[39mjava_exception)\n",
       "\u001B[1;32m    231\u001B[0m \u001B[38;5;28;01mif\u001B[39;00m \u001B[38;5;129;01mnot\u001B[39;00m \u001B[38;5;28misinstance\u001B[39m(converted, UnknownException):\n",
       "\u001B[1;32m    232\u001B[0m     \u001B[38;5;66;03m# Hide where the exception came from that shows a non-Pythonic\u001B[39;00m\n",
       "\u001B[1;32m    233\u001B[0m     \u001B[38;5;66;03m# JVM exception message.\u001B[39;00m\n",
       "\u001B[0;32m--> 234\u001B[0m     \u001B[38;5;28;01mraise\u001B[39;00m converted \u001B[38;5;28;01mfrom\u001B[39;00m \u001B[38;5;28mNone\u001B[39m\n",
       "\u001B[1;32m    235\u001B[0m \u001B[38;5;28;01melse\u001B[39;00m:\n",
       "\u001B[1;32m    236\u001B[0m     \u001B[38;5;28;01mraise\u001B[39;00m\n",
       "\n",
       "\u001B[0;31mAnalysisException\u001B[0m: [TABLE_OR_VIEW_ALREADY_EXISTS] Cannot create table or view `default`.`employees` because it already exists.\n",
       "Choose a different name, drop or replace the existing object, add the IF NOT EXISTS clause to tolerate pre-existing objects, or add the OR REFRESH clause to refresh the existing streaming table."
      ]
     },
     "metadata": {
      "application/vnd.databricks.v1+output": {
       "arguments": {},
       "data": "\u001B[0;31m---------------------------------------------------------------------------\u001B[0m\n\u001B[0;31mAnalysisException\u001B[0m                         Traceback (most recent call last)\nFile \u001B[0;32m<command-992396078211867>:7\u001B[0m\n\u001B[1;32m      5\u001B[0m     display(df)\n\u001B[1;32m      6\u001B[0m     \u001B[38;5;28;01mreturn\u001B[39;00m df\n\u001B[0;32m----> 7\u001B[0m   _sqldf \u001B[38;5;241m=\u001B[39m \u001B[43m____databricks_percent_sql\u001B[49m\u001B[43m(\u001B[49m\u001B[43m)\u001B[49m\n\u001B[1;32m      8\u001B[0m \u001B[38;5;28;01mfinally\u001B[39;00m:\n\u001B[1;32m      9\u001B[0m   \u001B[38;5;28;01mdel\u001B[39;00m ____databricks_percent_sql\n\nFile \u001B[0;32m<command-992396078211867>:4\u001B[0m, in \u001B[0;36m____databricks_percent_sql\u001B[0;34m()\u001B[0m\n\u001B[1;32m      2\u001B[0m \u001B[38;5;28;01mdef\u001B[39;00m \u001B[38;5;21m____databricks_percent_sql\u001B[39m():\n\u001B[1;32m      3\u001B[0m   \u001B[38;5;28;01mimport\u001B[39;00m \u001B[38;5;21;01mbase64\u001B[39;00m\n\u001B[0;32m----> 4\u001B[0m   df \u001B[38;5;241m=\u001B[39m \u001B[43mspark\u001B[49m\u001B[38;5;241;43m.\u001B[39;49m\u001B[43msql\u001B[49m\u001B[43m(\u001B[49m\u001B[43mbase64\u001B[49m\u001B[38;5;241;43m.\u001B[39;49m\u001B[43mstandard_b64decode\u001B[49m\u001B[43m(\u001B[49m\u001B[38;5;124;43m\"\u001B[39;49m\u001B[38;5;124;43mLS0gQ3JlYXRlIHRoZSBzYW1wbGUgZW1wbG95ZWVzIHRhYmxlCkNSRUFURSBPUiBSRVBMQUNFIFRFTVAgVklFVyBlbXBsb3llZXMgKAogICAgaWQgSU5ULAogICAgbmFtZSBTVFJJTkcsCiAgICBzYWxhcnkgREVDSU1BTCgxMCwgMiksCiAgICBkZXBhcnRtZW50IFNUUklORywKICAgIGdlbmRlciBTVFJJTkcsCiAgICBoaXJlX2RhdGUgREFURQop\u001B[39;49m\u001B[38;5;124;43m\"\u001B[39;49m\u001B[43m)\u001B[49m\u001B[38;5;241;43m.\u001B[39;49m\u001B[43mdecode\u001B[49m\u001B[43m(\u001B[49m\u001B[43m)\u001B[49m\u001B[43m)\u001B[49m\n\u001B[1;32m      5\u001B[0m   display(df)\n\u001B[1;32m      6\u001B[0m   \u001B[38;5;28;01mreturn\u001B[39;00m df\n\nFile \u001B[0;32m/databricks/spark/python/pyspark/instrumentation_utils.py:48\u001B[0m, in \u001B[0;36m_wrap_function.<locals>.wrapper\u001B[0;34m(*args, **kwargs)\u001B[0m\n\u001B[1;32m     46\u001B[0m start \u001B[38;5;241m=\u001B[39m time\u001B[38;5;241m.\u001B[39mperf_counter()\n\u001B[1;32m     47\u001B[0m \u001B[38;5;28;01mtry\u001B[39;00m:\n\u001B[0;32m---> 48\u001B[0m     res \u001B[38;5;241m=\u001B[39m \u001B[43mfunc\u001B[49m\u001B[43m(\u001B[49m\u001B[38;5;241;43m*\u001B[39;49m\u001B[43margs\u001B[49m\u001B[43m,\u001B[49m\u001B[43m \u001B[49m\u001B[38;5;241;43m*\u001B[39;49m\u001B[38;5;241;43m*\u001B[39;49m\u001B[43mkwargs\u001B[49m\u001B[43m)\u001B[49m\n\u001B[1;32m     49\u001B[0m     logger\u001B[38;5;241m.\u001B[39mlog_success(\n\u001B[1;32m     50\u001B[0m         module_name, class_name, function_name, time\u001B[38;5;241m.\u001B[39mperf_counter() \u001B[38;5;241m-\u001B[39m start, signature\n\u001B[1;32m     51\u001B[0m     )\n\u001B[1;32m     52\u001B[0m     \u001B[38;5;28;01mreturn\u001B[39;00m res\n\nFile \u001B[0;32m/databricks/spark/python/pyspark/sql/session.py:1387\u001B[0m, in \u001B[0;36mSparkSession.sql\u001B[0;34m(self, sqlQuery, args, **kwargs)\u001B[0m\n\u001B[1;32m   1385\u001B[0m \u001B[38;5;28;01mtry\u001B[39;00m:\n\u001B[1;32m   1386\u001B[0m     litArgs \u001B[38;5;241m=\u001B[39m {k: _to_java_column(lit(v)) \u001B[38;5;28;01mfor\u001B[39;00m k, v \u001B[38;5;129;01min\u001B[39;00m (args \u001B[38;5;129;01mor\u001B[39;00m {})\u001B[38;5;241m.\u001B[39mitems()}\n\u001B[0;32m-> 1387\u001B[0m     \u001B[38;5;28;01mreturn\u001B[39;00m DataFrame(\u001B[38;5;28;43mself\u001B[39;49m\u001B[38;5;241;43m.\u001B[39;49m\u001B[43m_jsparkSession\u001B[49m\u001B[38;5;241;43m.\u001B[39;49m\u001B[43msql\u001B[49m\u001B[43m(\u001B[49m\u001B[43msqlQuery\u001B[49m\u001B[43m,\u001B[49m\u001B[43m \u001B[49m\u001B[43mlitArgs\u001B[49m\u001B[43m)\u001B[49m, \u001B[38;5;28mself\u001B[39m)\n\u001B[1;32m   1388\u001B[0m \u001B[38;5;28;01mfinally\u001B[39;00m:\n\u001B[1;32m   1389\u001B[0m     \u001B[38;5;28;01mif\u001B[39;00m \u001B[38;5;28mlen\u001B[39m(kwargs) \u001B[38;5;241m>\u001B[39m \u001B[38;5;241m0\u001B[39m:\n\nFile \u001B[0;32m/databricks/spark/python/lib/py4j-0.10.9.5-src.zip/py4j/java_gateway.py:1321\u001B[0m, in \u001B[0;36mJavaMember.__call__\u001B[0;34m(self, *args)\u001B[0m\n\u001B[1;32m   1315\u001B[0m command \u001B[38;5;241m=\u001B[39m proto\u001B[38;5;241m.\u001B[39mCALL_COMMAND_NAME \u001B[38;5;241m+\u001B[39m\\\n\u001B[1;32m   1316\u001B[0m     \u001B[38;5;28mself\u001B[39m\u001B[38;5;241m.\u001B[39mcommand_header \u001B[38;5;241m+\u001B[39m\\\n\u001B[1;32m   1317\u001B[0m     args_command \u001B[38;5;241m+\u001B[39m\\\n\u001B[1;32m   1318\u001B[0m     proto\u001B[38;5;241m.\u001B[39mEND_COMMAND_PART\n\u001B[1;32m   1320\u001B[0m answer \u001B[38;5;241m=\u001B[39m \u001B[38;5;28mself\u001B[39m\u001B[38;5;241m.\u001B[39mgateway_client\u001B[38;5;241m.\u001B[39msend_command(command)\n\u001B[0;32m-> 1321\u001B[0m return_value \u001B[38;5;241m=\u001B[39m \u001B[43mget_return_value\u001B[49m\u001B[43m(\u001B[49m\n\u001B[1;32m   1322\u001B[0m \u001B[43m    \u001B[49m\u001B[43manswer\u001B[49m\u001B[43m,\u001B[49m\u001B[43m \u001B[49m\u001B[38;5;28;43mself\u001B[39;49m\u001B[38;5;241;43m.\u001B[39;49m\u001B[43mgateway_client\u001B[49m\u001B[43m,\u001B[49m\u001B[43m \u001B[49m\u001B[38;5;28;43mself\u001B[39;49m\u001B[38;5;241;43m.\u001B[39;49m\u001B[43mtarget_id\u001B[49m\u001B[43m,\u001B[49m\u001B[43m \u001B[49m\u001B[38;5;28;43mself\u001B[39;49m\u001B[38;5;241;43m.\u001B[39;49m\u001B[43mname\u001B[49m\u001B[43m)\u001B[49m\n\u001B[1;32m   1324\u001B[0m \u001B[38;5;28;01mfor\u001B[39;00m temp_arg \u001B[38;5;129;01min\u001B[39;00m temp_args:\n\u001B[1;32m   1325\u001B[0m     temp_arg\u001B[38;5;241m.\u001B[39m_detach()\n\nFile \u001B[0;32m/databricks/spark/python/pyspark/errors/exceptions.py:234\u001B[0m, in \u001B[0;36mcapture_sql_exception.<locals>.deco\u001B[0;34m(*a, **kw)\u001B[0m\n\u001B[1;32m    230\u001B[0m converted \u001B[38;5;241m=\u001B[39m convert_exception(e\u001B[38;5;241m.\u001B[39mjava_exception)\n\u001B[1;32m    231\u001B[0m \u001B[38;5;28;01mif\u001B[39;00m \u001B[38;5;129;01mnot\u001B[39;00m \u001B[38;5;28misinstance\u001B[39m(converted, UnknownException):\n\u001B[1;32m    232\u001B[0m     \u001B[38;5;66;03m# Hide where the exception came from that shows a non-Pythonic\u001B[39;00m\n\u001B[1;32m    233\u001B[0m     \u001B[38;5;66;03m# JVM exception message.\u001B[39;00m\n\u001B[0;32m--> 234\u001B[0m     \u001B[38;5;28;01mraise\u001B[39;00m converted \u001B[38;5;28;01mfrom\u001B[39;00m \u001B[38;5;28mNone\u001B[39m\n\u001B[1;32m    235\u001B[0m \u001B[38;5;28;01melse\u001B[39;00m:\n\u001B[1;32m    236\u001B[0m     \u001B[38;5;28;01mraise\u001B[39;00m\n\n\u001B[0;31mAnalysisException\u001B[0m: [TABLE_OR_VIEW_ALREADY_EXISTS] Cannot create table or view `default`.`employees` because it already exists.\nChoose a different name, drop or replace the existing object, add the IF NOT EXISTS clause to tolerate pre-existing objects, or add the OR REFRESH clause to refresh the existing streaming table.",
       "errorSummary": "<span class='ansi-red-fg'>AnalysisException</span>: [TABLE_OR_VIEW_ALREADY_EXISTS] Cannot create table or view `default`.`employees` because it already exists.\nChoose a different name, drop or replace the existing object, add the IF NOT EXISTS clause to tolerate pre-existing objects, or add the OR REFRESH clause to refresh the existing streaming table.",
       "errorTraceType": "ansi",
       "metadata": {},
       "type": "ipynbError"
      }
     },
     "output_type": "display_data"
    }
   ],
   "source": [
    "%sql\n",
    "-- Create the sample employees table\n",
    "CREATE Table employees (\n",
    "    id INT,\n",
    "    name STRING,\n",
    "    salary DECIMAL(10, 2),\n",
    "    department STRING,\n",
    "    gender STRING,\n",
    "    hire_date DATE\n",
    ");\n"
   ]
  },
  {
   "cell_type": "code",
   "execution_count": 0,
   "metadata": {
    "application/vnd.databricks.v1+cell": {
     "cellMetadata": {
      "byteLimit": 2048000,
      "implicitDf": true,
      "rowLimit": 10000
     },
     "inputWidgets": {},
     "nuid": "e06011a8-32ba-4085-8026-889bbb189dfe",
     "showTitle": false,
     "tableResultSettingsMap": {},
     "title": ""
    }
   },
   "outputs": [
    {
     "output_type": "display_data",
     "data": {
      "text/html": [
       "<style scoped>\n",
       "  .table-result-container {\n",
       "    max-height: 300px;\n",
       "    overflow: auto;\n",
       "  }\n",
       "  table, th, td {\n",
       "    border: 1px solid black;\n",
       "    border-collapse: collapse;\n",
       "  }\n",
       "  th, td {\n",
       "    padding: 5px;\n",
       "  }\n",
       "  th {\n",
       "    text-align: left;\n",
       "  }\n",
       "</style><div class='table-result-container'><table class='table-result'><thead style='background-color: white'><tr><th>num_affected_rows</th><th>num_inserted_rows</th></tr></thead><tbody><tr><td>25</td><td>25</td></tr></tbody></table></div>"
      ]
     },
     "metadata": {
      "application/vnd.databricks.v1+output": {
       "addedWidgets": {},
       "aggData": [],
       "aggError": "",
       "aggOverflow": false,
       "aggSchema": [],
       "aggSeriesLimitReached": false,
       "aggType": "",
       "arguments": {},
       "columnCustomDisplayInfos": {},
       "data": [
        [
         25,
         25
        ]
       ],
       "datasetInfos": [],
       "dbfsResultPath": null,
       "isJsonSchema": true,
       "metadata": {},
       "overflow": false,
       "plotOptions": {
        "customPlotOptions": {},
        "displayType": "table",
        "pivotAggregation": null,
        "pivotColumns": null,
        "xColumns": null,
        "yColumns": null
       },
       "removedWidgets": [],
       "schema": [
        {
         "metadata": "{}",
         "name": "num_affected_rows",
         "type": "\"long\""
        },
        {
         "metadata": "{}",
         "name": "num_inserted_rows",
         "type": "\"long\""
        }
       ],
       "type": "table"
      }
     },
     "output_type": "display_data"
    }
   ],
   "source": [
    "%sql\n",
    "-- Insert sample data into the employees table\n",
    "INSERT INTO employees VALUES\n",
    "(1, 'Alice', 70000, 'HR', 'F', '2020-01-15'),\n",
    "(2, 'Bob', 80000, 'Finance', 'M', '2019-11-10'),\n",
    "(3, 'Charlie', 90000, 'IT', 'M', '2021-06-05'),\n",
    "(4, 'Diana', 85000, 'HR', 'F', '2018-03-22'),\n",
    "(5, 'Evan', 75000, 'Finance', 'M', '2020-07-12'),\n",
    "(6, 'Fay', 95000, 'IT', 'F', '2021-08-19'),\n",
    "(7, 'George', 72000, 'HR', 'M', '2020-10-29'),\n",
    "(8, 'Hannah', 68000, 'Finance', 'F', '2019-09-15'),\n",
    "(9, 'Ian', 56000, 'IT', 'M', '2021-01-01'),\n",
    "(10, 'Jane', 79000, 'HR', 'F', '2020-02-25'),\n",
    "(11, 'Kyle', 82000, 'Finance', 'M', '2020-04-30'),\n",
    "(12, 'Liam', 91000, 'IT', 'M', '2021-07-07'),\n",
    "(13, 'Mia', 86000, 'HR', 'F', '2019-08-20'),\n",
    "(14, 'Nina', 72000, 'Finance', 'F', '2018-05-30'),\n",
    "(15, 'Oscar', 67000, 'IT', 'M', '2021-02-10'),\n",
    "(16, 'Paula', 70000, 'HR', 'F', '2021-03-15'),\n",
    "(17, 'Quincy', 82000, 'Finance', 'M', '2019-12-20'),\n",
    "(18, 'Rita', 94000, 'IT', 'F', '2020-09-05'),\n",
    "(19, 'Sam', 89000, 'HR', 'M', '2020-11-18'),\n",
    "(20, 'Tina', 73000, 'Finance', 'F', '2020-12-25'),\n",
    "(21, 'Uma', 69000, 'IT', 'F', '2021-05-14'),\n",
    "(22, 'Victor', 61000, 'HR', 'M', '2018-07-22'),\n",
    "(23, 'Wendy', 93000, 'Finance', 'F', '2020-06-18'),\n",
    "(24, 'Xander', 75000, 'IT', 'M', '2019-04-14'),\n",
    "(25, 'Yara', 87000, 'HR', 'F', '2021-09-01');\n"
   ]
  },
  {
   "cell_type": "code",
   "execution_count": 0,
   "metadata": {
    "application/vnd.databricks.v1+cell": {
     "cellMetadata": {
      "byteLimit": 2048000,
      "implicitDf": true,
      "rowLimit": 10000
     },
     "inputWidgets": {},
     "nuid": "82cca269-a89c-403f-bca2-24171293ad94",
     "showTitle": false,
     "tableResultSettingsMap": {},
     "title": ""
    }
   },
   "outputs": [
    {
     "output_type": "display_data",
     "data": {
      "text/html": [
       "<style scoped>\n",
       "  .table-result-container {\n",
       "    max-height: 300px;\n",
       "    overflow: auto;\n",
       "  }\n",
       "  table, th, td {\n",
       "    border: 1px solid black;\n",
       "    border-collapse: collapse;\n",
       "  }\n",
       "  th, td {\n",
       "    padding: 5px;\n",
       "  }\n",
       "  th {\n",
       "    text-align: left;\n",
       "  }\n",
       "</style><div class='table-result-container'><table class='table-result'><thead style='background-color: white'><tr><th>id</th><th>name</th><th>department</th><th>salary</th><th>row_num</th></tr></thead><tbody><tr><td>23</td><td>Wendy</td><td>Finance</td><td>93000.00</td><td>1</td></tr><tr><td>11</td><td>Kyle</td><td>Finance</td><td>82000.00</td><td>2</td></tr><tr><td>17</td><td>Quincy</td><td>Finance</td><td>82000.00</td><td>3</td></tr><tr><td>2</td><td>Bob</td><td>Finance</td><td>80000.00</td><td>4</td></tr><tr><td>5</td><td>Evan</td><td>Finance</td><td>75000.00</td><td>5</td></tr><tr><td>20</td><td>Tina</td><td>Finance</td><td>73000.00</td><td>6</td></tr><tr><td>14</td><td>Nina</td><td>Finance</td><td>72000.00</td><td>7</td></tr><tr><td>8</td><td>Hannah</td><td>Finance</td><td>68000.00</td><td>8</td></tr><tr><td>19</td><td>Sam</td><td>HR</td><td>89000.00</td><td>1</td></tr><tr><td>25</td><td>Yara</td><td>HR</td><td>87000.00</td><td>2</td></tr><tr><td>13</td><td>Mia</td><td>HR</td><td>86000.00</td><td>3</td></tr><tr><td>4</td><td>Diana</td><td>HR</td><td>85000.00</td><td>4</td></tr><tr><td>10</td><td>Jane</td><td>HR</td><td>79000.00</td><td>5</td></tr><tr><td>7</td><td>George</td><td>HR</td><td>72000.00</td><td>6</td></tr><tr><td>1</td><td>Alice</td><td>HR</td><td>70000.00</td><td>7</td></tr><tr><td>16</td><td>Paula</td><td>HR</td><td>70000.00</td><td>8</td></tr><tr><td>22</td><td>Victor</td><td>HR</td><td>61000.00</td><td>9</td></tr><tr><td>6</td><td>Fay</td><td>IT</td><td>95000.00</td><td>1</td></tr><tr><td>18</td><td>Rita</td><td>IT</td><td>94000.00</td><td>2</td></tr><tr><td>12</td><td>Liam</td><td>IT</td><td>91000.00</td><td>3</td></tr><tr><td>3</td><td>Charlie</td><td>IT</td><td>90000.00</td><td>4</td></tr><tr><td>24</td><td>Xander</td><td>IT</td><td>75000.00</td><td>5</td></tr><tr><td>21</td><td>Uma</td><td>IT</td><td>69000.00</td><td>6</td></tr><tr><td>15</td><td>Oscar</td><td>IT</td><td>67000.00</td><td>7</td></tr><tr><td>9</td><td>Ian</td><td>IT</td><td>56000.00</td><td>8</td></tr></tbody></table></div>"
      ]
     },
     "metadata": {
      "application/vnd.databricks.v1+output": {
       "addedWidgets": {},
       "aggData": [],
       "aggError": "",
       "aggOverflow": false,
       "aggSchema": [],
       "aggSeriesLimitReached": false,
       "aggType": "",
       "arguments": {},
       "columnCustomDisplayInfos": {},
       "data": [
        [
         23,
         "Wendy",
         "Finance",
         "93000.00",
         1
        ],
        [
         11,
         "Kyle",
         "Finance",
         "82000.00",
         2
        ],
        [
         17,
         "Quincy",
         "Finance",
         "82000.00",
         3
        ],
        [
         2,
         "Bob",
         "Finance",
         "80000.00",
         4
        ],
        [
         5,
         "Evan",
         "Finance",
         "75000.00",
         5
        ],
        [
         20,
         "Tina",
         "Finance",
         "73000.00",
         6
        ],
        [
         14,
         "Nina",
         "Finance",
         "72000.00",
         7
        ],
        [
         8,
         "Hannah",
         "Finance",
         "68000.00",
         8
        ],
        [
         19,
         "Sam",
         "HR",
         "89000.00",
         1
        ],
        [
         25,
         "Yara",
         "HR",
         "87000.00",
         2
        ],
        [
         13,
         "Mia",
         "HR",
         "86000.00",
         3
        ],
        [
         4,
         "Diana",
         "HR",
         "85000.00",
         4
        ],
        [
         10,
         "Jane",
         "HR",
         "79000.00",
         5
        ],
        [
         7,
         "George",
         "HR",
         "72000.00",
         6
        ],
        [
         1,
         "Alice",
         "HR",
         "70000.00",
         7
        ],
        [
         16,
         "Paula",
         "HR",
         "70000.00",
         8
        ],
        [
         22,
         "Victor",
         "HR",
         "61000.00",
         9
        ],
        [
         6,
         "Fay",
         "IT",
         "95000.00",
         1
        ],
        [
         18,
         "Rita",
         "IT",
         "94000.00",
         2
        ],
        [
         12,
         "Liam",
         "IT",
         "91000.00",
         3
        ],
        [
         3,
         "Charlie",
         "IT",
         "90000.00",
         4
        ],
        [
         24,
         "Xander",
         "IT",
         "75000.00",
         5
        ],
        [
         21,
         "Uma",
         "IT",
         "69000.00",
         6
        ],
        [
         15,
         "Oscar",
         "IT",
         "67000.00",
         7
        ],
        [
         9,
         "Ian",
         "IT",
         "56000.00",
         8
        ]
       ],
       "datasetInfos": [],
       "dbfsResultPath": null,
       "isJsonSchema": true,
       "metadata": {},
       "overflow": false,
       "plotOptions": {
        "customPlotOptions": {},
        "displayType": "table",
        "pivotAggregation": null,
        "pivotColumns": null,
        "xColumns": null,
        "yColumns": null
       },
       "removedWidgets": [],
       "schema": [
        {
         "metadata": "{}",
         "name": "id",
         "type": "\"integer\""
        },
        {
         "metadata": "{}",
         "name": "name",
         "type": "\"string\""
        },
        {
         "metadata": "{}",
         "name": "department",
         "type": "\"string\""
        },
        {
         "metadata": "{}",
         "name": "salary",
         "type": "\"decimal(10,2)\""
        },
        {
         "metadata": "{}",
         "name": "row_num",
         "type": "\"integer\""
        }
       ],
       "type": "table"
      }
     },
     "output_type": "display_data"
    }
   ],
   "source": [
    "%sql\n",
    "-- Use ROW_NUMBER() to generate row numbers within each department\n",
    "SELECT\n",
    "    id,\n",
    "    name,\n",
    "    department,\n",
    "    salary,\n",
    "    ROW_NUMBER() OVER (PARTITION BY department ORDER BY salary DESC) AS row_num\n",
    "FROM\n",
    "    employees;\n"
   ]
  },
  {
   "cell_type": "code",
   "execution_count": 0,
   "metadata": {
    "application/vnd.databricks.v1+cell": {
     "cellMetadata": {
      "byteLimit": 2048000,
      "implicitDf": true,
      "rowLimit": 10000
     },
     "inputWidgets": {},
     "nuid": "d12fa1e6-75dc-4f27-8af1-94fa7645885c",
     "showTitle": false,
     "tableResultSettingsMap": {},
     "title": ""
    }
   },
   "outputs": [
    {
     "output_type": "display_data",
     "data": {
      "text/html": [
       "<style scoped>\n",
       "  .table-result-container {\n",
       "    max-height: 300px;\n",
       "    overflow: auto;\n",
       "  }\n",
       "  table, th, td {\n",
       "    border: 1px solid black;\n",
       "    border-collapse: collapse;\n",
       "  }\n",
       "  th, td {\n",
       "    padding: 5px;\n",
       "  }\n",
       "  th {\n",
       "    text-align: left;\n",
       "  }\n",
       "</style><div class='table-result-container'><table class='table-result'><thead style='background-color: white'><tr><th>id</th><th>name</th><th>department</th><th>salary</th><th>rank</th></tr></thead><tbody><tr><td>23</td><td>Wendy</td><td>Finance</td><td>93000.00</td><td>1</td></tr><tr><td>11</td><td>Kyle</td><td>Finance</td><td>82000.00</td><td>2</td></tr><tr><td>17</td><td>Quincy</td><td>Finance</td><td>82000.00</td><td>2</td></tr><tr><td>2</td><td>Bob</td><td>Finance</td><td>80000.00</td><td>4</td></tr><tr><td>5</td><td>Evan</td><td>Finance</td><td>75000.00</td><td>5</td></tr><tr><td>20</td><td>Tina</td><td>Finance</td><td>73000.00</td><td>6</td></tr><tr><td>14</td><td>Nina</td><td>Finance</td><td>72000.00</td><td>7</td></tr><tr><td>8</td><td>Hannah</td><td>Finance</td><td>68000.00</td><td>8</td></tr><tr><td>19</td><td>Sam</td><td>HR</td><td>89000.00</td><td>1</td></tr><tr><td>25</td><td>Yara</td><td>HR</td><td>87000.00</td><td>2</td></tr><tr><td>13</td><td>Mia</td><td>HR</td><td>86000.00</td><td>3</td></tr><tr><td>4</td><td>Diana</td><td>HR</td><td>85000.00</td><td>4</td></tr><tr><td>10</td><td>Jane</td><td>HR</td><td>79000.00</td><td>5</td></tr><tr><td>7</td><td>George</td><td>HR</td><td>72000.00</td><td>6</td></tr><tr><td>1</td><td>Alice</td><td>HR</td><td>70000.00</td><td>7</td></tr><tr><td>16</td><td>Paula</td><td>HR</td><td>70000.00</td><td>7</td></tr><tr><td>22</td><td>Victor</td><td>HR</td><td>61000.00</td><td>9</td></tr><tr><td>6</td><td>Fay</td><td>IT</td><td>95000.00</td><td>1</td></tr><tr><td>18</td><td>Rita</td><td>IT</td><td>94000.00</td><td>2</td></tr><tr><td>12</td><td>Liam</td><td>IT</td><td>91000.00</td><td>3</td></tr><tr><td>3</td><td>Charlie</td><td>IT</td><td>90000.00</td><td>4</td></tr><tr><td>24</td><td>Xander</td><td>IT</td><td>75000.00</td><td>5</td></tr><tr><td>21</td><td>Uma</td><td>IT</td><td>69000.00</td><td>6</td></tr><tr><td>15</td><td>Oscar</td><td>IT</td><td>67000.00</td><td>7</td></tr><tr><td>9</td><td>Ian</td><td>IT</td><td>56000.00</td><td>8</td></tr></tbody></table></div>"
      ]
     },
     "metadata": {
      "application/vnd.databricks.v1+output": {
       "addedWidgets": {},
       "aggData": [],
       "aggError": "",
       "aggOverflow": false,
       "aggSchema": [],
       "aggSeriesLimitReached": false,
       "aggType": "",
       "arguments": {},
       "columnCustomDisplayInfos": {},
       "data": [
        [
         23,
         "Wendy",
         "Finance",
         "93000.00",
         1
        ],
        [
         11,
         "Kyle",
         "Finance",
         "82000.00",
         2
        ],
        [
         17,
         "Quincy",
         "Finance",
         "82000.00",
         2
        ],
        [
         2,
         "Bob",
         "Finance",
         "80000.00",
         4
        ],
        [
         5,
         "Evan",
         "Finance",
         "75000.00",
         5
        ],
        [
         20,
         "Tina",
         "Finance",
         "73000.00",
         6
        ],
        [
         14,
         "Nina",
         "Finance",
         "72000.00",
         7
        ],
        [
         8,
         "Hannah",
         "Finance",
         "68000.00",
         8
        ],
        [
         19,
         "Sam",
         "HR",
         "89000.00",
         1
        ],
        [
         25,
         "Yara",
         "HR",
         "87000.00",
         2
        ],
        [
         13,
         "Mia",
         "HR",
         "86000.00",
         3
        ],
        [
         4,
         "Diana",
         "HR",
         "85000.00",
         4
        ],
        [
         10,
         "Jane",
         "HR",
         "79000.00",
         5
        ],
        [
         7,
         "George",
         "HR",
         "72000.00",
         6
        ],
        [
         1,
         "Alice",
         "HR",
         "70000.00",
         7
        ],
        [
         16,
         "Paula",
         "HR",
         "70000.00",
         7
        ],
        [
         22,
         "Victor",
         "HR",
         "61000.00",
         9
        ],
        [
         6,
         "Fay",
         "IT",
         "95000.00",
         1
        ],
        [
         18,
         "Rita",
         "IT",
         "94000.00",
         2
        ],
        [
         12,
         "Liam",
         "IT",
         "91000.00",
         3
        ],
        [
         3,
         "Charlie",
         "IT",
         "90000.00",
         4
        ],
        [
         24,
         "Xander",
         "IT",
         "75000.00",
         5
        ],
        [
         21,
         "Uma",
         "IT",
         "69000.00",
         6
        ],
        [
         15,
         "Oscar",
         "IT",
         "67000.00",
         7
        ],
        [
         9,
         "Ian",
         "IT",
         "56000.00",
         8
        ]
       ],
       "datasetInfos": [],
       "dbfsResultPath": null,
       "isJsonSchema": true,
       "metadata": {},
       "overflow": false,
       "plotOptions": {
        "customPlotOptions": {},
        "displayType": "table",
        "pivotAggregation": null,
        "pivotColumns": null,
        "xColumns": null,
        "yColumns": null
       },
       "removedWidgets": [],
       "schema": [
        {
         "metadata": "{}",
         "name": "id",
         "type": "\"integer\""
        },
        {
         "metadata": "{}",
         "name": "name",
         "type": "\"string\""
        },
        {
         "metadata": "{}",
         "name": "department",
         "type": "\"string\""
        },
        {
         "metadata": "{}",
         "name": "salary",
         "type": "\"decimal(10,2)\""
        },
        {
         "metadata": "{}",
         "name": "rank",
         "type": "\"integer\""
        }
       ],
       "type": "table"
      }
     },
     "output_type": "display_data"
    }
   ],
   "source": [
    "%sql\n",
    "-- Use RANK() to rank employees within each department by salary\n",
    "SELECT\n",
    "    id,\n",
    "    name,\n",
    "    department,\n",
    "    salary,\n",
    "    RANK() OVER (PARTITION BY department ORDER BY salary DESC) AS rank\n",
    "FROM\n",
    "    employees;\n"
   ]
  },
  {
   "cell_type": "code",
   "execution_count": 0,
   "metadata": {
    "application/vnd.databricks.v1+cell": {
     "cellMetadata": {
      "byteLimit": 2048000,
      "implicitDf": true,
      "rowLimit": 10000
     },
     "inputWidgets": {},
     "nuid": "68f9c3c1-f8cc-4539-bf71-ceb2fc4ea33b",
     "showTitle": false,
     "tableResultSettingsMap": {},
     "title": ""
    }
   },
   "outputs": [
    {
     "output_type": "display_data",
     "data": {
      "text/html": [
       "<style scoped>\n",
       "  .table-result-container {\n",
       "    max-height: 300px;\n",
       "    overflow: auto;\n",
       "  }\n",
       "  table, th, td {\n",
       "    border: 1px solid black;\n",
       "    border-collapse: collapse;\n",
       "  }\n",
       "  th, td {\n",
       "    padding: 5px;\n",
       "  }\n",
       "  th {\n",
       "    text-align: left;\n",
       "  }\n",
       "</style><div class='table-result-container'><table class='table-result'><thead style='background-color: white'><tr><th>id</th><th>name</th><th>department</th><th>salary</th><th>cumulative_salary</th></tr></thead><tbody><tr><td>14</td><td>Nina</td><td>Finance</td><td>72000.00</td><td>72000.00</td></tr><tr><td>8</td><td>Hannah</td><td>Finance</td><td>68000.00</td><td>140000.00</td></tr><tr><td>2</td><td>Bob</td><td>Finance</td><td>80000.00</td><td>220000.00</td></tr><tr><td>17</td><td>Quincy</td><td>Finance</td><td>82000.00</td><td>302000.00</td></tr><tr><td>11</td><td>Kyle</td><td>Finance</td><td>82000.00</td><td>384000.00</td></tr><tr><td>23</td><td>Wendy</td><td>Finance</td><td>93000.00</td><td>477000.00</td></tr><tr><td>5</td><td>Evan</td><td>Finance</td><td>75000.00</td><td>552000.00</td></tr><tr><td>20</td><td>Tina</td><td>Finance</td><td>73000.00</td><td>625000.00</td></tr><tr><td>4</td><td>Diana</td><td>HR</td><td>85000.00</td><td>85000.00</td></tr><tr><td>22</td><td>Victor</td><td>HR</td><td>61000.00</td><td>146000.00</td></tr><tr><td>13</td><td>Mia</td><td>HR</td><td>86000.00</td><td>232000.00</td></tr><tr><td>1</td><td>Alice</td><td>HR</td><td>70000.00</td><td>302000.00</td></tr><tr><td>10</td><td>Jane</td><td>HR</td><td>79000.00</td><td>381000.00</td></tr><tr><td>7</td><td>George</td><td>HR</td><td>72000.00</td><td>453000.00</td></tr><tr><td>19</td><td>Sam</td><td>HR</td><td>89000.00</td><td>542000.00</td></tr><tr><td>16</td><td>Paula</td><td>HR</td><td>70000.00</td><td>612000.00</td></tr><tr><td>25</td><td>Yara</td><td>HR</td><td>87000.00</td><td>699000.00</td></tr><tr><td>24</td><td>Xander</td><td>IT</td><td>75000.00</td><td>75000.00</td></tr><tr><td>18</td><td>Rita</td><td>IT</td><td>94000.00</td><td>169000.00</td></tr><tr><td>9</td><td>Ian</td><td>IT</td><td>56000.00</td><td>225000.00</td></tr><tr><td>15</td><td>Oscar</td><td>IT</td><td>67000.00</td><td>292000.00</td></tr><tr><td>21</td><td>Uma</td><td>IT</td><td>69000.00</td><td>361000.00</td></tr><tr><td>3</td><td>Charlie</td><td>IT</td><td>90000.00</td><td>451000.00</td></tr><tr><td>12</td><td>Liam</td><td>IT</td><td>91000.00</td><td>542000.00</td></tr><tr><td>6</td><td>Fay</td><td>IT</td><td>95000.00</td><td>637000.00</td></tr></tbody></table></div>"
      ]
     },
     "metadata": {
      "application/vnd.databricks.v1+output": {
       "addedWidgets": {},
       "aggData": [],
       "aggError": "",
       "aggOverflow": false,
       "aggSchema": [],
       "aggSeriesLimitReached": false,
       "aggType": "",
       "arguments": {},
       "columnCustomDisplayInfos": {},
       "data": [
        [
         14,
         "Nina",
         "Finance",
         "72000.00",
         "72000.00"
        ],
        [
         8,
         "Hannah",
         "Finance",
         "68000.00",
         "140000.00"
        ],
        [
         2,
         "Bob",
         "Finance",
         "80000.00",
         "220000.00"
        ],
        [
         17,
         "Quincy",
         "Finance",
         "82000.00",
         "302000.00"
        ],
        [
         11,
         "Kyle",
         "Finance",
         "82000.00",
         "384000.00"
        ],
        [
         23,
         "Wendy",
         "Finance",
         "93000.00",
         "477000.00"
        ],
        [
         5,
         "Evan",
         "Finance",
         "75000.00",
         "552000.00"
        ],
        [
         20,
         "Tina",
         "Finance",
         "73000.00",
         "625000.00"
        ],
        [
         4,
         "Diana",
         "HR",
         "85000.00",
         "85000.00"
        ],
        [
         22,
         "Victor",
         "HR",
         "61000.00",
         "146000.00"
        ],
        [
         13,
         "Mia",
         "HR",
         "86000.00",
         "232000.00"
        ],
        [
         1,
         "Alice",
         "HR",
         "70000.00",
         "302000.00"
        ],
        [
         10,
         "Jane",
         "HR",
         "79000.00",
         "381000.00"
        ],
        [
         7,
         "George",
         "HR",
         "72000.00",
         "453000.00"
        ],
        [
         19,
         "Sam",
         "HR",
         "89000.00",
         "542000.00"
        ],
        [
         16,
         "Paula",
         "HR",
         "70000.00",
         "612000.00"
        ],
        [
         25,
         "Yara",
         "HR",
         "87000.00",
         "699000.00"
        ],
        [
         24,
         "Xander",
         "IT",
         "75000.00",
         "75000.00"
        ],
        [
         18,
         "Rita",
         "IT",
         "94000.00",
         "169000.00"
        ],
        [
         9,
         "Ian",
         "IT",
         "56000.00",
         "225000.00"
        ],
        [
         15,
         "Oscar",
         "IT",
         "67000.00",
         "292000.00"
        ],
        [
         21,
         "Uma",
         "IT",
         "69000.00",
         "361000.00"
        ],
        [
         3,
         "Charlie",
         "IT",
         "90000.00",
         "451000.00"
        ],
        [
         12,
         "Liam",
         "IT",
         "91000.00",
         "542000.00"
        ],
        [
         6,
         "Fay",
         "IT",
         "95000.00",
         "637000.00"
        ]
       ],
       "datasetInfos": [],
       "dbfsResultPath": null,
       "isJsonSchema": true,
       "metadata": {},
       "overflow": false,
       "plotOptions": {
        "customPlotOptions": {},
        "displayType": "table",
        "pivotAggregation": null,
        "pivotColumns": null,
        "xColumns": null,
        "yColumns": null
       },
       "removedWidgets": [],
       "schema": [
        {
         "metadata": "{}",
         "name": "id",
         "type": "\"integer\""
        },
        {
         "metadata": "{}",
         "name": "name",
         "type": "\"string\""
        },
        {
         "metadata": "{}",
         "name": "department",
         "type": "\"string\""
        },
        {
         "metadata": "{}",
         "name": "salary",
         "type": "\"decimal(10,2)\""
        },
        {
         "metadata": "{}",
         "name": "cumulative_salary",
         "type": "\"decimal(20,2)\""
        }
       ],
       "type": "table"
      }
     },
     "output_type": "display_data"
    }
   ],
   "source": [
    "%sql\n",
    "-- Calculate a cumulative sum of salary for each department\n",
    "SELECT\n",
    "    id,\n",
    "    name,\n",
    "    department,\n",
    "    salary,\n",
    "    SUM(salary) OVER (PARTITION BY department ORDER BY hire_date) AS cumulative_salary\n",
    "FROM\n",
    "    employees;\n"
   ]
  },
  {
   "cell_type": "code",
   "execution_count": 0,
   "metadata": {
    "application/vnd.databricks.v1+cell": {
     "cellMetadata": {
      "byteLimit": 2048000,
      "implicitDf": true,
      "rowLimit": 10000
     },
     "inputWidgets": {},
     "nuid": "10f8c3f5-3daa-418c-a923-9b9865b19dd4",
     "showTitle": false,
     "tableResultSettingsMap": {},
     "title": ""
    }
   },
   "outputs": [
    {
     "output_type": "display_data",
     "data": {
      "text/html": [
       "<style scoped>\n",
       "  .table-result-container {\n",
       "    max-height: 300px;\n",
       "    overflow: auto;\n",
       "  }\n",
       "  table, th, td {\n",
       "    border: 1px solid black;\n",
       "    border-collapse: collapse;\n",
       "  }\n",
       "  th, td {\n",
       "    padding: 5px;\n",
       "  }\n",
       "  th {\n",
       "    text-align: left;\n",
       "  }\n",
       "</style><div class='table-result-container'><table class='table-result'><thead style='background-color: white'><tr><th>id</th><th>name</th><th>hire_date</th><th>previous_hire_date</th></tr></thead><tbody><tr><td>4</td><td>Diana</td><td>2018-03-22</td><td>null</td></tr><tr><td>14</td><td>Nina</td><td>2018-05-30</td><td>2018-03-22</td></tr><tr><td>22</td><td>Victor</td><td>2018-07-22</td><td>2018-05-30</td></tr><tr><td>24</td><td>Xander</td><td>2019-04-14</td><td>2018-07-22</td></tr><tr><td>13</td><td>Mia</td><td>2019-08-20</td><td>2019-04-14</td></tr><tr><td>8</td><td>Hannah</td><td>2019-09-15</td><td>2019-08-20</td></tr><tr><td>2</td><td>Bob</td><td>2019-11-10</td><td>2019-09-15</td></tr><tr><td>17</td><td>Quincy</td><td>2019-12-20</td><td>2019-11-10</td></tr><tr><td>1</td><td>Alice</td><td>2020-01-15</td><td>2019-12-20</td></tr><tr><td>10</td><td>Jane</td><td>2020-02-25</td><td>2020-01-15</td></tr><tr><td>11</td><td>Kyle</td><td>2020-04-30</td><td>2020-02-25</td></tr><tr><td>23</td><td>Wendy</td><td>2020-06-18</td><td>2020-04-30</td></tr><tr><td>5</td><td>Evan</td><td>2020-07-12</td><td>2020-06-18</td></tr><tr><td>18</td><td>Rita</td><td>2020-09-05</td><td>2020-07-12</td></tr><tr><td>7</td><td>George</td><td>2020-10-29</td><td>2020-09-05</td></tr><tr><td>19</td><td>Sam</td><td>2020-11-18</td><td>2020-10-29</td></tr><tr><td>20</td><td>Tina</td><td>2020-12-25</td><td>2020-11-18</td></tr><tr><td>9</td><td>Ian</td><td>2021-01-01</td><td>2020-12-25</td></tr><tr><td>15</td><td>Oscar</td><td>2021-02-10</td><td>2021-01-01</td></tr><tr><td>16</td><td>Paula</td><td>2021-03-15</td><td>2021-02-10</td></tr><tr><td>21</td><td>Uma</td><td>2021-05-14</td><td>2021-03-15</td></tr><tr><td>3</td><td>Charlie</td><td>2021-06-05</td><td>2021-05-14</td></tr><tr><td>12</td><td>Liam</td><td>2021-07-07</td><td>2021-06-05</td></tr><tr><td>6</td><td>Fay</td><td>2021-08-19</td><td>2021-07-07</td></tr><tr><td>25</td><td>Yara</td><td>2021-09-01</td><td>2021-08-19</td></tr></tbody></table></div>"
      ]
     },
     "metadata": {
      "application/vnd.databricks.v1+output": {
       "addedWidgets": {},
       "aggData": [],
       "aggError": "",
       "aggOverflow": false,
       "aggSchema": [],
       "aggSeriesLimitReached": false,
       "aggType": "",
       "arguments": {},
       "columnCustomDisplayInfos": {},
       "data": [
        [
         4,
         "Diana",
         "2018-03-22",
         null
        ],
        [
         14,
         "Nina",
         "2018-05-30",
         "2018-03-22"
        ],
        [
         22,
         "Victor",
         "2018-07-22",
         "2018-05-30"
        ],
        [
         24,
         "Xander",
         "2019-04-14",
         "2018-07-22"
        ],
        [
         13,
         "Mia",
         "2019-08-20",
         "2019-04-14"
        ],
        [
         8,
         "Hannah",
         "2019-09-15",
         "2019-08-20"
        ],
        [
         2,
         "Bob",
         "2019-11-10",
         "2019-09-15"
        ],
        [
         17,
         "Quincy",
         "2019-12-20",
         "2019-11-10"
        ],
        [
         1,
         "Alice",
         "2020-01-15",
         "2019-12-20"
        ],
        [
         10,
         "Jane",
         "2020-02-25",
         "2020-01-15"
        ],
        [
         11,
         "Kyle",
         "2020-04-30",
         "2020-02-25"
        ],
        [
         23,
         "Wendy",
         "2020-06-18",
         "2020-04-30"
        ],
        [
         5,
         "Evan",
         "2020-07-12",
         "2020-06-18"
        ],
        [
         18,
         "Rita",
         "2020-09-05",
         "2020-07-12"
        ],
        [
         7,
         "George",
         "2020-10-29",
         "2020-09-05"
        ],
        [
         19,
         "Sam",
         "2020-11-18",
         "2020-10-29"
        ],
        [
         20,
         "Tina",
         "2020-12-25",
         "2020-11-18"
        ],
        [
         9,
         "Ian",
         "2021-01-01",
         "2020-12-25"
        ],
        [
         15,
         "Oscar",
         "2021-02-10",
         "2021-01-01"
        ],
        [
         16,
         "Paula",
         "2021-03-15",
         "2021-02-10"
        ],
        [
         21,
         "Uma",
         "2021-05-14",
         "2021-03-15"
        ],
        [
         3,
         "Charlie",
         "2021-06-05",
         "2021-05-14"
        ],
        [
         12,
         "Liam",
         "2021-07-07",
         "2021-06-05"
        ],
        [
         6,
         "Fay",
         "2021-08-19",
         "2021-07-07"
        ],
        [
         25,
         "Yara",
         "2021-09-01",
         "2021-08-19"
        ]
       ],
       "datasetInfos": [],
       "dbfsResultPath": null,
       "isJsonSchema": true,
       "metadata": {},
       "overflow": false,
       "plotOptions": {
        "customPlotOptions": {},
        "displayType": "table",
        "pivotAggregation": null,
        "pivotColumns": null,
        "xColumns": null,
        "yColumns": null
       },
       "removedWidgets": [],
       "schema": [
        {
         "metadata": "{}",
         "name": "id",
         "type": "\"integer\""
        },
        {
         "metadata": "{}",
         "name": "name",
         "type": "\"string\""
        },
        {
         "metadata": "{}",
         "name": "hire_date",
         "type": "\"date\""
        },
        {
         "metadata": "{}",
         "name": "previous_hire_date",
         "type": "\"date\""
        }
       ],
       "type": "table"
      }
     },
     "output_type": "display_data"
    }
   ],
   "source": [
    "%sql\n",
    "-- Use LAG() to show each employee's hire date and the hire date of the previous employee\n",
    "SELECT\n",
    "    id,\n",
    "    name,\n",
    "    hire_date,\n",
    "    LAG(hire_date, 1) OVER (ORDER BY hire_date) AS previous_hire_date\n",
    "FROM\n",
    "    employees;\n"
   ]
  },
  {
   "cell_type": "code",
   "execution_count": 0,
   "metadata": {
    "application/vnd.databricks.v1+cell": {
     "cellMetadata": {
      "byteLimit": 2048000,
      "implicitDf": true,
      "rowLimit": 10000
     },
     "inputWidgets": {},
     "nuid": "70acfcd8-f68d-444d-8904-e27b59597b73",
     "showTitle": false,
     "tableResultSettingsMap": {},
     "title": ""
    }
   },
   "outputs": [
    {
     "output_type": "display_data",
     "data": {
      "text/html": [
       "<style scoped>\n",
       "  .table-result-container {\n",
       "    max-height: 300px;\n",
       "    overflow: auto;\n",
       "  }\n",
       "  table, th, td {\n",
       "    border: 1px solid black;\n",
       "    border-collapse: collapse;\n",
       "  }\n",
       "  th, td {\n",
       "    padding: 5px;\n",
       "  }\n",
       "  th {\n",
       "    text-align: left;\n",
       "  }\n",
       "</style><div class='table-result-container'><table class='table-result'><thead style='background-color: white'><tr><th>id</th><th>name</th><th>hire_date</th><th>salary</th><th>moving_avg_salary</th></tr></thead><tbody><tr><td>4</td><td>Diana</td><td>2018-03-22</td><td>85000.00</td><td>85000.000000</td></tr><tr><td>14</td><td>Nina</td><td>2018-05-30</td><td>72000.00</td><td>78500.000000</td></tr><tr><td>22</td><td>Victor</td><td>2018-07-22</td><td>61000.00</td><td>72666.666667</td></tr><tr><td>24</td><td>Xander</td><td>2019-04-14</td><td>75000.00</td><td>69333.333333</td></tr><tr><td>13</td><td>Mia</td><td>2019-08-20</td><td>86000.00</td><td>74000.000000</td></tr><tr><td>8</td><td>Hannah</td><td>2019-09-15</td><td>68000.00</td><td>76333.333333</td></tr><tr><td>2</td><td>Bob</td><td>2019-11-10</td><td>80000.00</td><td>78000.000000</td></tr><tr><td>17</td><td>Quincy</td><td>2019-12-20</td><td>82000.00</td><td>76666.666667</td></tr><tr><td>1</td><td>Alice</td><td>2020-01-15</td><td>70000.00</td><td>77333.333333</td></tr><tr><td>10</td><td>Jane</td><td>2020-02-25</td><td>79000.00</td><td>77000.000000</td></tr><tr><td>11</td><td>Kyle</td><td>2020-04-30</td><td>82000.00</td><td>77000.000000</td></tr><tr><td>23</td><td>Wendy</td><td>2020-06-18</td><td>93000.00</td><td>84666.666667</td></tr><tr><td>5</td><td>Evan</td><td>2020-07-12</td><td>75000.00</td><td>83333.333333</td></tr><tr><td>18</td><td>Rita</td><td>2020-09-05</td><td>94000.00</td><td>87333.333333</td></tr><tr><td>7</td><td>George</td><td>2020-10-29</td><td>72000.00</td><td>80333.333333</td></tr><tr><td>19</td><td>Sam</td><td>2020-11-18</td><td>89000.00</td><td>85000.000000</td></tr><tr><td>20</td><td>Tina</td><td>2020-12-25</td><td>73000.00</td><td>78000.000000</td></tr><tr><td>9</td><td>Ian</td><td>2021-01-01</td><td>56000.00</td><td>72666.666667</td></tr><tr><td>15</td><td>Oscar</td><td>2021-02-10</td><td>67000.00</td><td>65333.333333</td></tr><tr><td>16</td><td>Paula</td><td>2021-03-15</td><td>70000.00</td><td>64333.333333</td></tr><tr><td>21</td><td>Uma</td><td>2021-05-14</td><td>69000.00</td><td>68666.666667</td></tr><tr><td>3</td><td>Charlie</td><td>2021-06-05</td><td>90000.00</td><td>76333.333333</td></tr><tr><td>12</td><td>Liam</td><td>2021-07-07</td><td>91000.00</td><td>83333.333333</td></tr><tr><td>6</td><td>Fay</td><td>2021-08-19</td><td>95000.00</td><td>92000.000000</td></tr><tr><td>25</td><td>Yara</td><td>2021-09-01</td><td>87000.00</td><td>91000.000000</td></tr></tbody></table></div>"
      ]
     },
     "metadata": {
      "application/vnd.databricks.v1+output": {
       "addedWidgets": {},
       "aggData": [],
       "aggError": "",
       "aggOverflow": false,
       "aggSchema": [],
       "aggSeriesLimitReached": false,
       "aggType": "",
       "arguments": {},
       "columnCustomDisplayInfos": {},
       "data": [
        [
         4,
         "Diana",
         "2018-03-22",
         "85000.00",
         "85000.000000"
        ],
        [
         14,
         "Nina",
         "2018-05-30",
         "72000.00",
         "78500.000000"
        ],
        [
         22,
         "Victor",
         "2018-07-22",
         "61000.00",
         "72666.666667"
        ],
        [
         24,
         "Xander",
         "2019-04-14",
         "75000.00",
         "69333.333333"
        ],
        [
         13,
         "Mia",
         "2019-08-20",
         "86000.00",
         "74000.000000"
        ],
        [
         8,
         "Hannah",
         "2019-09-15",
         "68000.00",
         "76333.333333"
        ],
        [
         2,
         "Bob",
         "2019-11-10",
         "80000.00",
         "78000.000000"
        ],
        [
         17,
         "Quincy",
         "2019-12-20",
         "82000.00",
         "76666.666667"
        ],
        [
         1,
         "Alice",
         "2020-01-15",
         "70000.00",
         "77333.333333"
        ],
        [
         10,
         "Jane",
         "2020-02-25",
         "79000.00",
         "77000.000000"
        ],
        [
         11,
         "Kyle",
         "2020-04-30",
         "82000.00",
         "77000.000000"
        ],
        [
         23,
         "Wendy",
         "2020-06-18",
         "93000.00",
         "84666.666667"
        ],
        [
         5,
         "Evan",
         "2020-07-12",
         "75000.00",
         "83333.333333"
        ],
        [
         18,
         "Rita",
         "2020-09-05",
         "94000.00",
         "87333.333333"
        ],
        [
         7,
         "George",
         "2020-10-29",
         "72000.00",
         "80333.333333"
        ],
        [
         19,
         "Sam",
         "2020-11-18",
         "89000.00",
         "85000.000000"
        ],
        [
         20,
         "Tina",
         "2020-12-25",
         "73000.00",
         "78000.000000"
        ],
        [
         9,
         "Ian",
         "2021-01-01",
         "56000.00",
         "72666.666667"
        ],
        [
         15,
         "Oscar",
         "2021-02-10",
         "67000.00",
         "65333.333333"
        ],
        [
         16,
         "Paula",
         "2021-03-15",
         "70000.00",
         "64333.333333"
        ],
        [
         21,
         "Uma",
         "2021-05-14",
         "69000.00",
         "68666.666667"
        ],
        [
         3,
         "Charlie",
         "2021-06-05",
         "90000.00",
         "76333.333333"
        ],
        [
         12,
         "Liam",
         "2021-07-07",
         "91000.00",
         "83333.333333"
        ],
        [
         6,
         "Fay",
         "2021-08-19",
         "95000.00",
         "92000.000000"
        ],
        [
         25,
         "Yara",
         "2021-09-01",
         "87000.00",
         "91000.000000"
        ]
       ],
       "datasetInfos": [],
       "dbfsResultPath": null,
       "isJsonSchema": true,
       "metadata": {},
       "overflow": false,
       "plotOptions": {
        "customPlotOptions": {},
        "displayType": "table",
        "pivotAggregation": null,
        "pivotColumns": null,
        "xColumns": null,
        "yColumns": null
       },
       "removedWidgets": [],
       "schema": [
        {
         "metadata": "{}",
         "name": "id",
         "type": "\"integer\""
        },
        {
         "metadata": "{}",
         "name": "name",
         "type": "\"string\""
        },
        {
         "metadata": "{}",
         "name": "hire_date",
         "type": "\"date\""
        },
        {
         "metadata": "{}",
         "name": "salary",
         "type": "\"decimal(10,2)\""
        },
        {
         "metadata": "{}",
         "name": "moving_avg_salary",
         "type": "\"decimal(14,6)\""
        }
       ],
       "type": "table"
      }
     },
     "output_type": "display_data"
    }
   ],
   "source": [
    "%sql\n",
    "-- Calculate a moving average of salary over the current row and the two preceding rows\n",
    "SELECT\n",
    "    id,\n",
    "    name,\n",
    "    hire_date,\n",
    "    salary,\n",
    "    AVG(salary) OVER (ORDER BY hire_date ROWS BETWEEN 2 PRECEDING AND CURRENT ROW) AS moving_avg_salary\n",
    "FROM\n",
    "    employees\n",
    "ORDER BY\n",
    "    hire_date;\n"
   ]
  },
  {
   "cell_type": "code",
   "execution_count": 0,
   "metadata": {
    "application/vnd.databricks.v1+cell": {
     "cellMetadata": {
      "byteLimit": 2048000,
      "implicitDf": true,
      "rowLimit": 10000
     },
     "inputWidgets": {},
     "nuid": "e2c53a83-3e7c-42b6-ba2a-66f9f73c1646",
     "showTitle": false,
     "tableResultSettingsMap": {},
     "title": ""
    }
   },
   "outputs": [
    {
     "output_type": "display_data",
     "data": {
      "text/html": [
       "<style scoped>\n",
       "  .table-result-container {\n",
       "    max-height: 300px;\n",
       "    overflow: auto;\n",
       "  }\n",
       "  table, th, td {\n",
       "    border: 1px solid black;\n",
       "    border-collapse: collapse;\n",
       "  }\n",
       "  th, td {\n",
       "    padding: 5px;\n",
       "  }\n",
       "  th {\n",
       "    text-align: left;\n",
       "  }\n",
       "</style><div class='table-result-container'><table class='table-result'><thead style='background-color: white'><tr><th>id</th><th>name</th><th>department</th><th>salary</th><th>dense_rank</th></tr></thead><tbody><tr><td>23</td><td>Wendy</td><td>Finance</td><td>93000.00</td><td>1</td></tr><tr><td>11</td><td>Kyle</td><td>Finance</td><td>82000.00</td><td>2</td></tr><tr><td>17</td><td>Quincy</td><td>Finance</td><td>82000.00</td><td>2</td></tr><tr><td>2</td><td>Bob</td><td>Finance</td><td>80000.00</td><td>3</td></tr><tr><td>5</td><td>Evan</td><td>Finance</td><td>75000.00</td><td>4</td></tr><tr><td>20</td><td>Tina</td><td>Finance</td><td>73000.00</td><td>5</td></tr><tr><td>14</td><td>Nina</td><td>Finance</td><td>72000.00</td><td>6</td></tr><tr><td>8</td><td>Hannah</td><td>Finance</td><td>68000.00</td><td>7</td></tr><tr><td>19</td><td>Sam</td><td>HR</td><td>89000.00</td><td>1</td></tr><tr><td>25</td><td>Yara</td><td>HR</td><td>87000.00</td><td>2</td></tr><tr><td>13</td><td>Mia</td><td>HR</td><td>86000.00</td><td>3</td></tr><tr><td>4</td><td>Diana</td><td>HR</td><td>85000.00</td><td>4</td></tr><tr><td>10</td><td>Jane</td><td>HR</td><td>79000.00</td><td>5</td></tr><tr><td>7</td><td>George</td><td>HR</td><td>72000.00</td><td>6</td></tr><tr><td>1</td><td>Alice</td><td>HR</td><td>70000.00</td><td>7</td></tr><tr><td>16</td><td>Paula</td><td>HR</td><td>70000.00</td><td>7</td></tr><tr><td>22</td><td>Victor</td><td>HR</td><td>61000.00</td><td>8</td></tr><tr><td>6</td><td>Fay</td><td>IT</td><td>95000.00</td><td>1</td></tr><tr><td>18</td><td>Rita</td><td>IT</td><td>94000.00</td><td>2</td></tr><tr><td>12</td><td>Liam</td><td>IT</td><td>91000.00</td><td>3</td></tr><tr><td>3</td><td>Charlie</td><td>IT</td><td>90000.00</td><td>4</td></tr><tr><td>24</td><td>Xander</td><td>IT</td><td>75000.00</td><td>5</td></tr><tr><td>21</td><td>Uma</td><td>IT</td><td>69000.00</td><td>6</td></tr><tr><td>15</td><td>Oscar</td><td>IT</td><td>67000.00</td><td>7</td></tr><tr><td>9</td><td>Ian</td><td>IT</td><td>56000.00</td><td>8</td></tr></tbody></table></div>"
      ]
     },
     "metadata": {
      "application/vnd.databricks.v1+output": {
       "addedWidgets": {},
       "aggData": [],
       "aggError": "",
       "aggOverflow": false,
       "aggSchema": [],
       "aggSeriesLimitReached": false,
       "aggType": "",
       "arguments": {},
       "columnCustomDisplayInfos": {},
       "data": [
        [
         23,
         "Wendy",
         "Finance",
         "93000.00",
         1
        ],
        [
         11,
         "Kyle",
         "Finance",
         "82000.00",
         2
        ],
        [
         17,
         "Quincy",
         "Finance",
         "82000.00",
         2
        ],
        [
         2,
         "Bob",
         "Finance",
         "80000.00",
         3
        ],
        [
         5,
         "Evan",
         "Finance",
         "75000.00",
         4
        ],
        [
         20,
         "Tina",
         "Finance",
         "73000.00",
         5
        ],
        [
         14,
         "Nina",
         "Finance",
         "72000.00",
         6
        ],
        [
         8,
         "Hannah",
         "Finance",
         "68000.00",
         7
        ],
        [
         19,
         "Sam",
         "HR",
         "89000.00",
         1
        ],
        [
         25,
         "Yara",
         "HR",
         "87000.00",
         2
        ],
        [
         13,
         "Mia",
         "HR",
         "86000.00",
         3
        ],
        [
         4,
         "Diana",
         "HR",
         "85000.00",
         4
        ],
        [
         10,
         "Jane",
         "HR",
         "79000.00",
         5
        ],
        [
         7,
         "George",
         "HR",
         "72000.00",
         6
        ],
        [
         1,
         "Alice",
         "HR",
         "70000.00",
         7
        ],
        [
         16,
         "Paula",
         "HR",
         "70000.00",
         7
        ],
        [
         22,
         "Victor",
         "HR",
         "61000.00",
         8
        ],
        [
         6,
         "Fay",
         "IT",
         "95000.00",
         1
        ],
        [
         18,
         "Rita",
         "IT",
         "94000.00",
         2
        ],
        [
         12,
         "Liam",
         "IT",
         "91000.00",
         3
        ],
        [
         3,
         "Charlie",
         "IT",
         "90000.00",
         4
        ],
        [
         24,
         "Xander",
         "IT",
         "75000.00",
         5
        ],
        [
         21,
         "Uma",
         "IT",
         "69000.00",
         6
        ],
        [
         15,
         "Oscar",
         "IT",
         "67000.00",
         7
        ],
        [
         9,
         "Ian",
         "IT",
         "56000.00",
         8
        ]
       ],
       "datasetInfos": [],
       "dbfsResultPath": null,
       "isJsonSchema": true,
       "metadata": {},
       "overflow": false,
       "plotOptions": {
        "customPlotOptions": {},
        "displayType": "table",
        "pivotAggregation": null,
        "pivotColumns": null,
        "xColumns": null,
        "yColumns": null
       },
       "removedWidgets": [],
       "schema": [
        {
         "metadata": "{}",
         "name": "id",
         "type": "\"integer\""
        },
        {
         "metadata": "{}",
         "name": "name",
         "type": "\"string\""
        },
        {
         "metadata": "{}",
         "name": "department",
         "type": "\"string\""
        },
        {
         "metadata": "{}",
         "name": "salary",
         "type": "\"decimal(10,2)\""
        },
        {
         "metadata": "{}",
         "name": "dense_rank",
         "type": "\"integer\""
        }
       ],
       "type": "table"
      }
     },
     "output_type": "display_data"
    }
   ],
   "source": [
    "%sql\n",
    "-- Use DENSE_RANK() to rank employees within each department by salary\n",
    "SELECT\n",
    "    id,\n",
    "    name,\n",
    "    department,\n",
    "    salary,\n",
    "    DENSE_RANK() OVER (PARTITION BY department ORDER BY salary DESC) AS dense_rank\n",
    "FROM\n",
    "    employees;\n"
   ]
  },
  {
   "cell_type": "code",
   "execution_count": 0,
   "metadata": {
    "application/vnd.databricks.v1+cell": {
     "cellMetadata": {
      "byteLimit": 2048000,
      "implicitDf": true,
      "rowLimit": 10000
     },
     "inputWidgets": {},
     "nuid": "a747c0c7-08b9-4073-946c-f179a69f0811",
     "showTitle": false,
     "tableResultSettingsMap": {},
     "title": ""
    }
   },
   "outputs": [
    {
     "output_type": "display_data",
     "data": {
      "text/html": [
       "<style scoped>\n",
       "  .table-result-container {\n",
       "    max-height: 300px;\n",
       "    overflow: auto;\n",
       "  }\n",
       "  table, th, td {\n",
       "    border: 1px solid black;\n",
       "    border-collapse: collapse;\n",
       "  }\n",
       "  th, td {\n",
       "    padding: 5px;\n",
       "  }\n",
       "  th {\n",
       "    text-align: left;\n",
       "  }\n",
       "</style><div class='table-result-container'><table class='table-result'><thead style='background-color: white'><tr><th>id</th><th>name</th><th>department</th><th>salary</th><th>salary_bucket</th></tr></thead><tbody><tr><td>23</td><td>Wendy</td><td>Finance</td><td>93000.00</td><td>1</td></tr><tr><td>11</td><td>Kyle</td><td>Finance</td><td>82000.00</td><td>1</td></tr><tr><td>17</td><td>Quincy</td><td>Finance</td><td>82000.00</td><td>2</td></tr><tr><td>2</td><td>Bob</td><td>Finance</td><td>80000.00</td><td>2</td></tr><tr><td>5</td><td>Evan</td><td>Finance</td><td>75000.00</td><td>3</td></tr><tr><td>20</td><td>Tina</td><td>Finance</td><td>73000.00</td><td>3</td></tr><tr><td>14</td><td>Nina</td><td>Finance</td><td>72000.00</td><td>4</td></tr><tr><td>8</td><td>Hannah</td><td>Finance</td><td>68000.00</td><td>4</td></tr><tr><td>19</td><td>Sam</td><td>HR</td><td>89000.00</td><td>1</td></tr><tr><td>25</td><td>Yara</td><td>HR</td><td>87000.00</td><td>1</td></tr><tr><td>13</td><td>Mia</td><td>HR</td><td>86000.00</td><td>1</td></tr><tr><td>4</td><td>Diana</td><td>HR</td><td>85000.00</td><td>2</td></tr><tr><td>10</td><td>Jane</td><td>HR</td><td>79000.00</td><td>2</td></tr><tr><td>7</td><td>George</td><td>HR</td><td>72000.00</td><td>3</td></tr><tr><td>1</td><td>Alice</td><td>HR</td><td>70000.00</td><td>3</td></tr><tr><td>16</td><td>Paula</td><td>HR</td><td>70000.00</td><td>4</td></tr><tr><td>22</td><td>Victor</td><td>HR</td><td>61000.00</td><td>4</td></tr><tr><td>6</td><td>Fay</td><td>IT</td><td>95000.00</td><td>1</td></tr><tr><td>18</td><td>Rita</td><td>IT</td><td>94000.00</td><td>1</td></tr><tr><td>12</td><td>Liam</td><td>IT</td><td>91000.00</td><td>2</td></tr><tr><td>3</td><td>Charlie</td><td>IT</td><td>90000.00</td><td>2</td></tr><tr><td>24</td><td>Xander</td><td>IT</td><td>75000.00</td><td>3</td></tr><tr><td>21</td><td>Uma</td><td>IT</td><td>69000.00</td><td>3</td></tr><tr><td>15</td><td>Oscar</td><td>IT</td><td>67000.00</td><td>4</td></tr><tr><td>9</td><td>Ian</td><td>IT</td><td>56000.00</td><td>4</td></tr></tbody></table></div>"
      ]
     },
     "metadata": {
      "application/vnd.databricks.v1+output": {
       "addedWidgets": {},
       "aggData": [],
       "aggError": "",
       "aggOverflow": false,
       "aggSchema": [],
       "aggSeriesLimitReached": false,
       "aggType": "",
       "arguments": {},
       "columnCustomDisplayInfos": {},
       "data": [
        [
         23,
         "Wendy",
         "Finance",
         "93000.00",
         1
        ],
        [
         11,
         "Kyle",
         "Finance",
         "82000.00",
         1
        ],
        [
         17,
         "Quincy",
         "Finance",
         "82000.00",
         2
        ],
        [
         2,
         "Bob",
         "Finance",
         "80000.00",
         2
        ],
        [
         5,
         "Evan",
         "Finance",
         "75000.00",
         3
        ],
        [
         20,
         "Tina",
         "Finance",
         "73000.00",
         3
        ],
        [
         14,
         "Nina",
         "Finance",
         "72000.00",
         4
        ],
        [
         8,
         "Hannah",
         "Finance",
         "68000.00",
         4
        ],
        [
         19,
         "Sam",
         "HR",
         "89000.00",
         1
        ],
        [
         25,
         "Yara",
         "HR",
         "87000.00",
         1
        ],
        [
         13,
         "Mia",
         "HR",
         "86000.00",
         1
        ],
        [
         4,
         "Diana",
         "HR",
         "85000.00",
         2
        ],
        [
         10,
         "Jane",
         "HR",
         "79000.00",
         2
        ],
        [
         7,
         "George",
         "HR",
         "72000.00",
         3
        ],
        [
         1,
         "Alice",
         "HR",
         "70000.00",
         3
        ],
        [
         16,
         "Paula",
         "HR",
         "70000.00",
         4
        ],
        [
         22,
         "Victor",
         "HR",
         "61000.00",
         4
        ],
        [
         6,
         "Fay",
         "IT",
         "95000.00",
         1
        ],
        [
         18,
         "Rita",
         "IT",
         "94000.00",
         1
        ],
        [
         12,
         "Liam",
         "IT",
         "91000.00",
         2
        ],
        [
         3,
         "Charlie",
         "IT",
         "90000.00",
         2
        ],
        [
         24,
         "Xander",
         "IT",
         "75000.00",
         3
        ],
        [
         21,
         "Uma",
         "IT",
         "69000.00",
         3
        ],
        [
         15,
         "Oscar",
         "IT",
         "67000.00",
         4
        ],
        [
         9,
         "Ian",
         "IT",
         "56000.00",
         4
        ]
       ],
       "datasetInfos": [],
       "dbfsResultPath": null,
       "isJsonSchema": true,
       "metadata": {},
       "overflow": false,
       "plotOptions": {
        "customPlotOptions": {},
        "displayType": "table",
        "pivotAggregation": null,
        "pivotColumns": null,
        "xColumns": null,
        "yColumns": null
       },
       "removedWidgets": [],
       "schema": [
        {
         "metadata": "{}",
         "name": "id",
         "type": "\"integer\""
        },
        {
         "metadata": "{}",
         "name": "name",
         "type": "\"string\""
        },
        {
         "metadata": "{}",
         "name": "department",
         "type": "\"string\""
        },
        {
         "metadata": "{}",
         "name": "salary",
         "type": "\"decimal(10,2)\""
        },
        {
         "metadata": "{}",
         "name": "salary_bucket",
         "type": "\"integer\""
        }
       ],
       "type": "table"
      }
     },
     "output_type": "display_data"
    }
   ],
   "source": [
    "%sql\n",
    "-- Divide employees into 4 buckets based on their salary within each department\n",
    "SELECT\n",
    "    id,\n",
    "    name,\n",
    "    department,\n",
    "    salary,\n",
    "    NTILE(4) OVER (PARTITION BY department ORDER BY salary DESC) AS salary_bucket\n",
    "FROM\n",
    "    employees;\n"
   ]
  },
  {
   "cell_type": "code",
   "execution_count": 0,
   "metadata": {
    "application/vnd.databricks.v1+cell": {
     "cellMetadata": {
      "byteLimit": 2048000,
      "implicitDf": true,
      "rowLimit": 10000
     },
     "inputWidgets": {},
     "nuid": "817b5512-4064-4b08-829c-fff68d6e2bd5",
     "showTitle": false,
     "tableResultSettingsMap": {},
     "title": ""
    }
   },
   "outputs": [
    {
     "output_type": "display_data",
     "data": {
      "text/html": [
       "<style scoped>\n",
       "  .table-result-container {\n",
       "    max-height: 300px;\n",
       "    overflow: auto;\n",
       "  }\n",
       "  table, th, td {\n",
       "    border: 1px solid black;\n",
       "    border-collapse: collapse;\n",
       "  }\n",
       "  th, td {\n",
       "    padding: 5px;\n",
       "  }\n",
       "  th {\n",
       "    text-align: left;\n",
       "  }\n",
       "</style><div class='table-result-container'><table class='table-result'><thead style='background-color: white'><tr><th>id</th><th>name</th><th>department</th><th>salary</th><th>next_salary</th></tr></thead><tbody><tr><td>23</td><td>Wendy</td><td>Finance</td><td>93000.00</td><td>82000.00</td></tr><tr><td>11</td><td>Kyle</td><td>Finance</td><td>82000.00</td><td>82000.00</td></tr><tr><td>17</td><td>Quincy</td><td>Finance</td><td>82000.00</td><td>80000.00</td></tr><tr><td>2</td><td>Bob</td><td>Finance</td><td>80000.00</td><td>75000.00</td></tr><tr><td>5</td><td>Evan</td><td>Finance</td><td>75000.00</td><td>73000.00</td></tr><tr><td>20</td><td>Tina</td><td>Finance</td><td>73000.00</td><td>72000.00</td></tr><tr><td>14</td><td>Nina</td><td>Finance</td><td>72000.00</td><td>68000.00</td></tr><tr><td>8</td><td>Hannah</td><td>Finance</td><td>68000.00</td><td>null</td></tr><tr><td>19</td><td>Sam</td><td>HR</td><td>89000.00</td><td>87000.00</td></tr><tr><td>25</td><td>Yara</td><td>HR</td><td>87000.00</td><td>86000.00</td></tr><tr><td>13</td><td>Mia</td><td>HR</td><td>86000.00</td><td>85000.00</td></tr><tr><td>4</td><td>Diana</td><td>HR</td><td>85000.00</td><td>79000.00</td></tr><tr><td>10</td><td>Jane</td><td>HR</td><td>79000.00</td><td>72000.00</td></tr><tr><td>7</td><td>George</td><td>HR</td><td>72000.00</td><td>70000.00</td></tr><tr><td>1</td><td>Alice</td><td>HR</td><td>70000.00</td><td>70000.00</td></tr><tr><td>16</td><td>Paula</td><td>HR</td><td>70000.00</td><td>61000.00</td></tr><tr><td>22</td><td>Victor</td><td>HR</td><td>61000.00</td><td>null</td></tr><tr><td>6</td><td>Fay</td><td>IT</td><td>95000.00</td><td>94000.00</td></tr><tr><td>18</td><td>Rita</td><td>IT</td><td>94000.00</td><td>91000.00</td></tr><tr><td>12</td><td>Liam</td><td>IT</td><td>91000.00</td><td>90000.00</td></tr><tr><td>3</td><td>Charlie</td><td>IT</td><td>90000.00</td><td>75000.00</td></tr><tr><td>24</td><td>Xander</td><td>IT</td><td>75000.00</td><td>69000.00</td></tr><tr><td>21</td><td>Uma</td><td>IT</td><td>69000.00</td><td>67000.00</td></tr><tr><td>15</td><td>Oscar</td><td>IT</td><td>67000.00</td><td>56000.00</td></tr><tr><td>9</td><td>Ian</td><td>IT</td><td>56000.00</td><td>null</td></tr></tbody></table></div>"
      ]
     },
     "metadata": {
      "application/vnd.databricks.v1+output": {
       "addedWidgets": {},
       "aggData": [],
       "aggError": "",
       "aggOverflow": false,
       "aggSchema": [],
       "aggSeriesLimitReached": false,
       "aggType": "",
       "arguments": {},
       "columnCustomDisplayInfos": {},
       "data": [
        [
         23,
         "Wendy",
         "Finance",
         "93000.00",
         "82000.00"
        ],
        [
         11,
         "Kyle",
         "Finance",
         "82000.00",
         "82000.00"
        ],
        [
         17,
         "Quincy",
         "Finance",
         "82000.00",
         "80000.00"
        ],
        [
         2,
         "Bob",
         "Finance",
         "80000.00",
         "75000.00"
        ],
        [
         5,
         "Evan",
         "Finance",
         "75000.00",
         "73000.00"
        ],
        [
         20,
         "Tina",
         "Finance",
         "73000.00",
         "72000.00"
        ],
        [
         14,
         "Nina",
         "Finance",
         "72000.00",
         "68000.00"
        ],
        [
         8,
         "Hannah",
         "Finance",
         "68000.00",
         null
        ],
        [
         19,
         "Sam",
         "HR",
         "89000.00",
         "87000.00"
        ],
        [
         25,
         "Yara",
         "HR",
         "87000.00",
         "86000.00"
        ],
        [
         13,
         "Mia",
         "HR",
         "86000.00",
         "85000.00"
        ],
        [
         4,
         "Diana",
         "HR",
         "85000.00",
         "79000.00"
        ],
        [
         10,
         "Jane",
         "HR",
         "79000.00",
         "72000.00"
        ],
        [
         7,
         "George",
         "HR",
         "72000.00",
         "70000.00"
        ],
        [
         1,
         "Alice",
         "HR",
         "70000.00",
         "70000.00"
        ],
        [
         16,
         "Paula",
         "HR",
         "70000.00",
         "61000.00"
        ],
        [
         22,
         "Victor",
         "HR",
         "61000.00",
         null
        ],
        [
         6,
         "Fay",
         "IT",
         "95000.00",
         "94000.00"
        ],
        [
         18,
         "Rita",
         "IT",
         "94000.00",
         "91000.00"
        ],
        [
         12,
         "Liam",
         "IT",
         "91000.00",
         "90000.00"
        ],
        [
         3,
         "Charlie",
         "IT",
         "90000.00",
         "75000.00"
        ],
        [
         24,
         "Xander",
         "IT",
         "75000.00",
         "69000.00"
        ],
        [
         21,
         "Uma",
         "IT",
         "69000.00",
         "67000.00"
        ],
        [
         15,
         "Oscar",
         "IT",
         "67000.00",
         "56000.00"
        ],
        [
         9,
         "Ian",
         "IT",
         "56000.00",
         null
        ]
       ],
       "datasetInfos": [],
       "dbfsResultPath": null,
       "isJsonSchema": true,
       "metadata": {},
       "overflow": false,
       "plotOptions": {
        "customPlotOptions": {},
        "displayType": "table",
        "pivotAggregation": null,
        "pivotColumns": null,
        "xColumns": null,
        "yColumns": null
       },
       "removedWidgets": [],
       "schema": [
        {
         "metadata": "{}",
         "name": "id",
         "type": "\"integer\""
        },
        {
         "metadata": "{}",
         "name": "name",
         "type": "\"string\""
        },
        {
         "metadata": "{}",
         "name": "department",
         "type": "\"string\""
        },
        {
         "metadata": "{}",
         "name": "salary",
         "type": "\"decimal(10,2)\""
        },
        {
         "metadata": "{}",
         "name": "next_salary",
         "type": "\"decimal(10,2)\""
        }
       ],
       "type": "table"
      }
     },
     "output_type": "display_data"
    }
   ],
   "source": [
    "%sql\n",
    "-- Use LEAD() to show each employee's salary and the next employee's salary in the department\n",
    "SELECT\n",
    "    id,\n",
    "    name,\n",
    "    department,\n",
    "    salary,\n",
    "    LEAD(salary, 1) OVER (PARTITION BY department ORDER BY salary DESC) AS next_salary\n",
    "FROM\n",
    "    employees;\n"
   ]
  },
  {
   "cell_type": "code",
   "execution_count": 0,
   "metadata": {
    "application/vnd.databricks.v1+cell": {
     "cellMetadata": {
      "byteLimit": 2048000,
      "implicitDf": true,
      "rowLimit": 10000
     },
     "inputWidgets": {},
     "nuid": "09c8fe7a-cf02-406a-9f02-c791696525d2",
     "showTitle": false,
     "tableResultSettingsMap": {},
     "title": ""
    }
   },
   "outputs": [
    {
     "output_type": "display_data",
     "data": {
      "text/html": [
       "<style scoped>\n",
       "  .table-result-container {\n",
       "    max-height: 300px;\n",
       "    overflow: auto;\n",
       "  }\n",
       "  table, th, td {\n",
       "    border: 1px solid black;\n",
       "    border-collapse: collapse;\n",
       "  }\n",
       "  th, td {\n",
       "    padding: 5px;\n",
       "  }\n",
       "  th {\n",
       "    text-align: left;\n",
       "  }\n",
       "</style><div class='table-result-container'><table class='table-result'><thead style='background-color: white'><tr><th>id</th><th>name</th><th>department</th><th>salary</th><th>first_salary</th><th>last_salary</th></tr></thead><tbody><tr><td>14</td><td>Nina</td><td>Finance</td><td>72000.00</td><td>72000.00</td><td>73000.00</td></tr><tr><td>8</td><td>Hannah</td><td>Finance</td><td>68000.00</td><td>72000.00</td><td>73000.00</td></tr><tr><td>2</td><td>Bob</td><td>Finance</td><td>80000.00</td><td>72000.00</td><td>73000.00</td></tr><tr><td>17</td><td>Quincy</td><td>Finance</td><td>82000.00</td><td>72000.00</td><td>73000.00</td></tr><tr><td>11</td><td>Kyle</td><td>Finance</td><td>82000.00</td><td>72000.00</td><td>73000.00</td></tr><tr><td>23</td><td>Wendy</td><td>Finance</td><td>93000.00</td><td>72000.00</td><td>73000.00</td></tr><tr><td>5</td><td>Evan</td><td>Finance</td><td>75000.00</td><td>72000.00</td><td>73000.00</td></tr><tr><td>20</td><td>Tina</td><td>Finance</td><td>73000.00</td><td>72000.00</td><td>73000.00</td></tr><tr><td>4</td><td>Diana</td><td>HR</td><td>85000.00</td><td>85000.00</td><td>87000.00</td></tr><tr><td>22</td><td>Victor</td><td>HR</td><td>61000.00</td><td>85000.00</td><td>87000.00</td></tr><tr><td>13</td><td>Mia</td><td>HR</td><td>86000.00</td><td>85000.00</td><td>87000.00</td></tr><tr><td>1</td><td>Alice</td><td>HR</td><td>70000.00</td><td>85000.00</td><td>87000.00</td></tr><tr><td>10</td><td>Jane</td><td>HR</td><td>79000.00</td><td>85000.00</td><td>87000.00</td></tr><tr><td>7</td><td>George</td><td>HR</td><td>72000.00</td><td>85000.00</td><td>87000.00</td></tr><tr><td>19</td><td>Sam</td><td>HR</td><td>89000.00</td><td>85000.00</td><td>87000.00</td></tr><tr><td>16</td><td>Paula</td><td>HR</td><td>70000.00</td><td>85000.00</td><td>87000.00</td></tr><tr><td>25</td><td>Yara</td><td>HR</td><td>87000.00</td><td>85000.00</td><td>87000.00</td></tr><tr><td>24</td><td>Xander</td><td>IT</td><td>75000.00</td><td>75000.00</td><td>95000.00</td></tr><tr><td>18</td><td>Rita</td><td>IT</td><td>94000.00</td><td>75000.00</td><td>95000.00</td></tr><tr><td>9</td><td>Ian</td><td>IT</td><td>56000.00</td><td>75000.00</td><td>95000.00</td></tr><tr><td>15</td><td>Oscar</td><td>IT</td><td>67000.00</td><td>75000.00</td><td>95000.00</td></tr><tr><td>21</td><td>Uma</td><td>IT</td><td>69000.00</td><td>75000.00</td><td>95000.00</td></tr><tr><td>3</td><td>Charlie</td><td>IT</td><td>90000.00</td><td>75000.00</td><td>95000.00</td></tr><tr><td>12</td><td>Liam</td><td>IT</td><td>91000.00</td><td>75000.00</td><td>95000.00</td></tr><tr><td>6</td><td>Fay</td><td>IT</td><td>95000.00</td><td>75000.00</td><td>95000.00</td></tr></tbody></table></div>"
      ]
     },
     "metadata": {
      "application/vnd.databricks.v1+output": {
       "addedWidgets": {},
       "aggData": [],
       "aggError": "",
       "aggOverflow": false,
       "aggSchema": [],
       "aggSeriesLimitReached": false,
       "aggType": "",
       "arguments": {},
       "columnCustomDisplayInfos": {},
       "data": [
        [
         14,
         "Nina",
         "Finance",
         "72000.00",
         "72000.00",
         "73000.00"
        ],
        [
         8,
         "Hannah",
         "Finance",
         "68000.00",
         "72000.00",
         "73000.00"
        ],
        [
         2,
         "Bob",
         "Finance",
         "80000.00",
         "72000.00",
         "73000.00"
        ],
        [
         17,
         "Quincy",
         "Finance",
         "82000.00",
         "72000.00",
         "73000.00"
        ],
        [
         11,
         "Kyle",
         "Finance",
         "82000.00",
         "72000.00",
         "73000.00"
        ],
        [
         23,
         "Wendy",
         "Finance",
         "93000.00",
         "72000.00",
         "73000.00"
        ],
        [
         5,
         "Evan",
         "Finance",
         "75000.00",
         "72000.00",
         "73000.00"
        ],
        [
         20,
         "Tina",
         "Finance",
         "73000.00",
         "72000.00",
         "73000.00"
        ],
        [
         4,
         "Diana",
         "HR",
         "85000.00",
         "85000.00",
         "87000.00"
        ],
        [
         22,
         "Victor",
         "HR",
         "61000.00",
         "85000.00",
         "87000.00"
        ],
        [
         13,
         "Mia",
         "HR",
         "86000.00",
         "85000.00",
         "87000.00"
        ],
        [
         1,
         "Alice",
         "HR",
         "70000.00",
         "85000.00",
         "87000.00"
        ],
        [
         10,
         "Jane",
         "HR",
         "79000.00",
         "85000.00",
         "87000.00"
        ],
        [
         7,
         "George",
         "HR",
         "72000.00",
         "85000.00",
         "87000.00"
        ],
        [
         19,
         "Sam",
         "HR",
         "89000.00",
         "85000.00",
         "87000.00"
        ],
        [
         16,
         "Paula",
         "HR",
         "70000.00",
         "85000.00",
         "87000.00"
        ],
        [
         25,
         "Yara",
         "HR",
         "87000.00",
         "85000.00",
         "87000.00"
        ],
        [
         24,
         "Xander",
         "IT",
         "75000.00",
         "75000.00",
         "95000.00"
        ],
        [
         18,
         "Rita",
         "IT",
         "94000.00",
         "75000.00",
         "95000.00"
        ],
        [
         9,
         "Ian",
         "IT",
         "56000.00",
         "75000.00",
         "95000.00"
        ],
        [
         15,
         "Oscar",
         "IT",
         "67000.00",
         "75000.00",
         "95000.00"
        ],
        [
         21,
         "Uma",
         "IT",
         "69000.00",
         "75000.00",
         "95000.00"
        ],
        [
         3,
         "Charlie",
         "IT",
         "90000.00",
         "75000.00",
         "95000.00"
        ],
        [
         12,
         "Liam",
         "IT",
         "91000.00",
         "75000.00",
         "95000.00"
        ],
        [
         6,
         "Fay",
         "IT",
         "95000.00",
         "75000.00",
         "95000.00"
        ]
       ],
       "datasetInfos": [],
       "dbfsResultPath": null,
       "isJsonSchema": true,
       "metadata": {},
       "overflow": false,
       "plotOptions": {
        "customPlotOptions": {},
        "displayType": "table",
        "pivotAggregation": null,
        "pivotColumns": null,
        "xColumns": null,
        "yColumns": null
       },
       "removedWidgets": [],
       "schema": [
        {
         "metadata": "{}",
         "name": "id",
         "type": "\"integer\""
        },
        {
         "metadata": "{}",
         "name": "name",
         "type": "\"string\""
        },
        {
         "metadata": "{}",
         "name": "department",
         "type": "\"string\""
        },
        {
         "metadata": "{}",
         "name": "salary",
         "type": "\"decimal(10,2)\""
        },
        {
         "metadata": "{}",
         "name": "first_salary",
         "type": "\"decimal(10,2)\""
        },
        {
         "metadata": "{}",
         "name": "last_salary",
         "type": "\"decimal(10,2)\""
        }
       ],
       "type": "table"
      }
     },
     "output_type": "display_data"
    }
   ],
   "source": [
    "%sql\n",
    "-- Find the first and last hired employee's salary within each department\n",
    "SELECT\n",
    "    id,\n",
    "    name,\n",
    "    department,\n",
    "    salary,\n",
    "    FIRST_VALUE(salary) OVER (PARTITION BY department ORDER BY hire_date) AS first_salary,\n",
    "    LAST_VALUE(salary) OVER (PARTITION BY department ORDER BY hire_date\n",
    "        ROWS BETWEEN UNBOUNDED PRECEDING AND UNBOUNDED FOLLOWING) AS last_salary\n",
    "FROM\n",
    "    employees;\n"
   ]
  },
  {
   "cell_type": "code",
   "execution_count": 0,
   "metadata": {
    "application/vnd.databricks.v1+cell": {
     "cellMetadata": {
      "byteLimit": 2048000,
      "implicitDf": true,
      "rowLimit": 10000
     },
     "inputWidgets": {},
     "nuid": "f8571147-f2d3-48a4-b741-745c0eef041e",
     "showTitle": false,
     "tableResultSettingsMap": {},
     "title": ""
    }
   },
   "outputs": [
    {
     "output_type": "display_data",
     "data": {
      "text/html": [
       "<style scoped>\n",
       "  .table-result-container {\n",
       "    max-height: 300px;\n",
       "    overflow: auto;\n",
       "  }\n",
       "  table, th, td {\n",
       "    border: 1px solid black;\n",
       "    border-collapse: collapse;\n",
       "  }\n",
       "  th, td {\n",
       "    padding: 5px;\n",
       "  }\n",
       "  th {\n",
       "    text-align: left;\n",
       "  }\n",
       "</style><div class='table-result-container'><table class='table-result'><thead style='background-color: white'><tr><th>id</th><th>name</th><th>department</th><th>salary</th><th>percent_rank</th></tr></thead><tbody><tr><td>8</td><td>Hannah</td><td>Finance</td><td>68000.00</td><td>0.0</td></tr><tr><td>14</td><td>Nina</td><td>Finance</td><td>72000.00</td><td>0.14285714285714285</td></tr><tr><td>20</td><td>Tina</td><td>Finance</td><td>73000.00</td><td>0.2857142857142857</td></tr><tr><td>5</td><td>Evan</td><td>Finance</td><td>75000.00</td><td>0.42857142857142855</td></tr><tr><td>2</td><td>Bob</td><td>Finance</td><td>80000.00</td><td>0.5714285714285714</td></tr><tr><td>11</td><td>Kyle</td><td>Finance</td><td>82000.00</td><td>0.7142857142857143</td></tr><tr><td>17</td><td>Quincy</td><td>Finance</td><td>82000.00</td><td>0.7142857142857143</td></tr><tr><td>23</td><td>Wendy</td><td>Finance</td><td>93000.00</td><td>1.0</td></tr><tr><td>22</td><td>Victor</td><td>HR</td><td>61000.00</td><td>0.0</td></tr><tr><td>1</td><td>Alice</td><td>HR</td><td>70000.00</td><td>0.125</td></tr><tr><td>16</td><td>Paula</td><td>HR</td><td>70000.00</td><td>0.125</td></tr><tr><td>7</td><td>George</td><td>HR</td><td>72000.00</td><td>0.375</td></tr><tr><td>10</td><td>Jane</td><td>HR</td><td>79000.00</td><td>0.5</td></tr><tr><td>4</td><td>Diana</td><td>HR</td><td>85000.00</td><td>0.625</td></tr><tr><td>13</td><td>Mia</td><td>HR</td><td>86000.00</td><td>0.75</td></tr><tr><td>25</td><td>Yara</td><td>HR</td><td>87000.00</td><td>0.875</td></tr><tr><td>19</td><td>Sam</td><td>HR</td><td>89000.00</td><td>1.0</td></tr><tr><td>9</td><td>Ian</td><td>IT</td><td>56000.00</td><td>0.0</td></tr><tr><td>15</td><td>Oscar</td><td>IT</td><td>67000.00</td><td>0.14285714285714285</td></tr><tr><td>21</td><td>Uma</td><td>IT</td><td>69000.00</td><td>0.2857142857142857</td></tr><tr><td>24</td><td>Xander</td><td>IT</td><td>75000.00</td><td>0.42857142857142855</td></tr><tr><td>3</td><td>Charlie</td><td>IT</td><td>90000.00</td><td>0.5714285714285714</td></tr><tr><td>12</td><td>Liam</td><td>IT</td><td>91000.00</td><td>0.7142857142857143</td></tr><tr><td>18</td><td>Rita</td><td>IT</td><td>94000.00</td><td>0.8571428571428571</td></tr><tr><td>6</td><td>Fay</td><td>IT</td><td>95000.00</td><td>1.0</td></tr></tbody></table></div>"
      ]
     },
     "metadata": {
      "application/vnd.databricks.v1+output": {
       "addedWidgets": {},
       "aggData": [],
       "aggError": "",
       "aggOverflow": false,
       "aggSchema": [],
       "aggSeriesLimitReached": false,
       "aggType": "",
       "arguments": {},
       "columnCustomDisplayInfos": {},
       "data": [
        [
         8,
         "Hannah",
         "Finance",
         "68000.00",
         0.0
        ],
        [
         14,
         "Nina",
         "Finance",
         "72000.00",
         0.14285714285714285
        ],
        [
         20,
         "Tina",
         "Finance",
         "73000.00",
         0.2857142857142857
        ],
        [
         5,
         "Evan",
         "Finance",
         "75000.00",
         0.42857142857142855
        ],
        [
         2,
         "Bob",
         "Finance",
         "80000.00",
         0.5714285714285714
        ],
        [
         11,
         "Kyle",
         "Finance",
         "82000.00",
         0.7142857142857143
        ],
        [
         17,
         "Quincy",
         "Finance",
         "82000.00",
         0.7142857142857143
        ],
        [
         23,
         "Wendy",
         "Finance",
         "93000.00",
         1.0
        ],
        [
         22,
         "Victor",
         "HR",
         "61000.00",
         0.0
        ],
        [
         1,
         "Alice",
         "HR",
         "70000.00",
         0.125
        ],
        [
         16,
         "Paula",
         "HR",
         "70000.00",
         0.125
        ],
        [
         7,
         "George",
         "HR",
         "72000.00",
         0.375
        ],
        [
         10,
         "Jane",
         "HR",
         "79000.00",
         0.5
        ],
        [
         4,
         "Diana",
         "HR",
         "85000.00",
         0.625
        ],
        [
         13,
         "Mia",
         "HR",
         "86000.00",
         0.75
        ],
        [
         25,
         "Yara",
         "HR",
         "87000.00",
         0.875
        ],
        [
         19,
         "Sam",
         "HR",
         "89000.00",
         1.0
        ],
        [
         9,
         "Ian",
         "IT",
         "56000.00",
         0.0
        ],
        [
         15,
         "Oscar",
         "IT",
         "67000.00",
         0.14285714285714285
        ],
        [
         21,
         "Uma",
         "IT",
         "69000.00",
         0.2857142857142857
        ],
        [
         24,
         "Xander",
         "IT",
         "75000.00",
         0.42857142857142855
        ],
        [
         3,
         "Charlie",
         "IT",
         "90000.00",
         0.5714285714285714
        ],
        [
         12,
         "Liam",
         "IT",
         "91000.00",
         0.7142857142857143
        ],
        [
         18,
         "Rita",
         "IT",
         "94000.00",
         0.8571428571428571
        ],
        [
         6,
         "Fay",
         "IT",
         "95000.00",
         1.0
        ]
       ],
       "datasetInfos": [],
       "dbfsResultPath": null,
       "isJsonSchema": true,
       "metadata": {},
       "overflow": false,
       "plotOptions": {
        "customPlotOptions": {},
        "displayType": "table",
        "pivotAggregation": null,
        "pivotColumns": null,
        "xColumns": null,
        "yColumns": null
       },
       "removedWidgets": [],
       "schema": [
        {
         "metadata": "{}",
         "name": "id",
         "type": "\"integer\""
        },
        {
         "metadata": "{}",
         "name": "name",
         "type": "\"string\""
        },
        {
         "metadata": "{}",
         "name": "department",
         "type": "\"string\""
        },
        {
         "metadata": "{}",
         "name": "salary",
         "type": "\"decimal(10,2)\""
        },
        {
         "metadata": "{}",
         "name": "percent_rank",
         "type": "\"double\""
        }
       ],
       "type": "table"
      }
     },
     "output_type": "display_data"
    }
   ],
   "source": [
    "%sql\n",
    "-- Calculate the relative rank of each employee's salary within their department\n",
    "SELECT\n",
    "    id,\n",
    "    name,\n",
    "    department,\n",
    "    salary,\n",
    "    PERCENT_RANK() OVER (PARTITION BY department ORDER BY salary) AS percent_rank\n",
    "FROM\n",
    "    employees;\n"
   ]
  },
  {
   "cell_type": "code",
   "execution_count": 0,
   "metadata": {
    "application/vnd.databricks.v1+cell": {
     "cellMetadata": {
      "byteLimit": 2048000,
      "implicitDf": true,
      "rowLimit": 10000
     },
     "inputWidgets": {},
     "nuid": "f09c41ae-e629-4c1b-b020-bb01eacb4b5b",
     "showTitle": false,
     "tableResultSettingsMap": {},
     "title": ""
    }
   },
   "outputs": [
    {
     "output_type": "display_data",
     "data": {
      "text/html": [
       "<style scoped>\n",
       "  .table-result-container {\n",
       "    max-height: 300px;\n",
       "    overflow: auto;\n",
       "  }\n",
       "  table, th, td {\n",
       "    border: 1px solid black;\n",
       "    border-collapse: collapse;\n",
       "  }\n",
       "  th, td {\n",
       "    padding: 5px;\n",
       "  }\n",
       "  th {\n",
       "    text-align: left;\n",
       "  }\n",
       "</style><div class='table-result-container'><table class='table-result'><thead style='background-color: white'><tr><th>id</th><th>name</th><th>department</th><th>salary</th><th>cumulative_distribution</th></tr></thead><tbody><tr><td>8</td><td>Hannah</td><td>Finance</td><td>68000.00</td><td>0.125</td></tr><tr><td>14</td><td>Nina</td><td>Finance</td><td>72000.00</td><td>0.25</td></tr><tr><td>20</td><td>Tina</td><td>Finance</td><td>73000.00</td><td>0.375</td></tr><tr><td>5</td><td>Evan</td><td>Finance</td><td>75000.00</td><td>0.5</td></tr><tr><td>2</td><td>Bob</td><td>Finance</td><td>80000.00</td><td>0.625</td></tr><tr><td>11</td><td>Kyle</td><td>Finance</td><td>82000.00</td><td>0.875</td></tr><tr><td>17</td><td>Quincy</td><td>Finance</td><td>82000.00</td><td>0.875</td></tr><tr><td>23</td><td>Wendy</td><td>Finance</td><td>93000.00</td><td>1.0</td></tr><tr><td>22</td><td>Victor</td><td>HR</td><td>61000.00</td><td>0.1111111111111111</td></tr><tr><td>1</td><td>Alice</td><td>HR</td><td>70000.00</td><td>0.3333333333333333</td></tr><tr><td>16</td><td>Paula</td><td>HR</td><td>70000.00</td><td>0.3333333333333333</td></tr><tr><td>7</td><td>George</td><td>HR</td><td>72000.00</td><td>0.4444444444444444</td></tr><tr><td>10</td><td>Jane</td><td>HR</td><td>79000.00</td><td>0.5555555555555556</td></tr><tr><td>4</td><td>Diana</td><td>HR</td><td>85000.00</td><td>0.6666666666666666</td></tr><tr><td>13</td><td>Mia</td><td>HR</td><td>86000.00</td><td>0.7777777777777778</td></tr><tr><td>25</td><td>Yara</td><td>HR</td><td>87000.00</td><td>0.8888888888888888</td></tr><tr><td>19</td><td>Sam</td><td>HR</td><td>89000.00</td><td>1.0</td></tr><tr><td>9</td><td>Ian</td><td>IT</td><td>56000.00</td><td>0.125</td></tr><tr><td>15</td><td>Oscar</td><td>IT</td><td>67000.00</td><td>0.25</td></tr><tr><td>21</td><td>Uma</td><td>IT</td><td>69000.00</td><td>0.375</td></tr><tr><td>24</td><td>Xander</td><td>IT</td><td>75000.00</td><td>0.5</td></tr><tr><td>3</td><td>Charlie</td><td>IT</td><td>90000.00</td><td>0.625</td></tr><tr><td>12</td><td>Liam</td><td>IT</td><td>91000.00</td><td>0.75</td></tr><tr><td>18</td><td>Rita</td><td>IT</td><td>94000.00</td><td>0.875</td></tr><tr><td>6</td><td>Fay</td><td>IT</td><td>95000.00</td><td>1.0</td></tr></tbody></table></div>"
      ]
     },
     "metadata": {
      "application/vnd.databricks.v1+output": {
       "addedWidgets": {},
       "aggData": [],
       "aggError": "",
       "aggOverflow": false,
       "aggSchema": [],
       "aggSeriesLimitReached": false,
       "aggType": "",
       "arguments": {},
       "columnCustomDisplayInfos": {},
       "data": [
        [
         8,
         "Hannah",
         "Finance",
         "68000.00",
         0.125
        ],
        [
         14,
         "Nina",
         "Finance",
         "72000.00",
         0.25
        ],
        [
         20,
         "Tina",
         "Finance",
         "73000.00",
         0.375
        ],
        [
         5,
         "Evan",
         "Finance",
         "75000.00",
         0.5
        ],
        [
         2,
         "Bob",
         "Finance",
         "80000.00",
         0.625
        ],
        [
         11,
         "Kyle",
         "Finance",
         "82000.00",
         0.875
        ],
        [
         17,
         "Quincy",
         "Finance",
         "82000.00",
         0.875
        ],
        [
         23,
         "Wendy",
         "Finance",
         "93000.00",
         1.0
        ],
        [
         22,
         "Victor",
         "HR",
         "61000.00",
         0.1111111111111111
        ],
        [
         1,
         "Alice",
         "HR",
         "70000.00",
         0.3333333333333333
        ],
        [
         16,
         "Paula",
         "HR",
         "70000.00",
         0.3333333333333333
        ],
        [
         7,
         "George",
         "HR",
         "72000.00",
         0.4444444444444444
        ],
        [
         10,
         "Jane",
         "HR",
         "79000.00",
         0.5555555555555556
        ],
        [
         4,
         "Diana",
         "HR",
         "85000.00",
         0.6666666666666666
        ],
        [
         13,
         "Mia",
         "HR",
         "86000.00",
         0.7777777777777778
        ],
        [
         25,
         "Yara",
         "HR",
         "87000.00",
         0.8888888888888888
        ],
        [
         19,
         "Sam",
         "HR",
         "89000.00",
         1.0
        ],
        [
         9,
         "Ian",
         "IT",
         "56000.00",
         0.125
        ],
        [
         15,
         "Oscar",
         "IT",
         "67000.00",
         0.25
        ],
        [
         21,
         "Uma",
         "IT",
         "69000.00",
         0.375
        ],
        [
         24,
         "Xander",
         "IT",
         "75000.00",
         0.5
        ],
        [
         3,
         "Charlie",
         "IT",
         "90000.00",
         0.625
        ],
        [
         12,
         "Liam",
         "IT",
         "91000.00",
         0.75
        ],
        [
         18,
         "Rita",
         "IT",
         "94000.00",
         0.875
        ],
        [
         6,
         "Fay",
         "IT",
         "95000.00",
         1.0
        ]
       ],
       "datasetInfos": [],
       "dbfsResultPath": null,
       "isJsonSchema": true,
       "metadata": {},
       "overflow": false,
       "plotOptions": {
        "customPlotOptions": {},
        "displayType": "table",
        "pivotAggregation": null,
        "pivotColumns": null,
        "xColumns": null,
        "yColumns": null
       },
       "removedWidgets": [],
       "schema": [
        {
         "metadata": "{}",
         "name": "id",
         "type": "\"integer\""
        },
        {
         "metadata": "{}",
         "name": "name",
         "type": "\"string\""
        },
        {
         "metadata": "{}",
         "name": "department",
         "type": "\"string\""
        },
        {
         "metadata": "{}",
         "name": "salary",
         "type": "\"decimal(10,2)\""
        },
        {
         "metadata": "{}",
         "name": "cumulative_distribution",
         "type": "\"double\""
        }
       ],
       "type": "table"
      }
     },
     "output_type": "display_data"
    }
   ],
   "source": [
    "%sql\n",
    "-- Calculate the cumulative distribution of salaries within each department\n",
    "SELECT\n",
    "    id,\n",
    "    name,\n",
    "    department,\n",
    "    salary,\n",
    "    CUME_DIST() OVER (PARTITION BY department ORDER BY salary) AS cumulative_distribution\n",
    "FROM\n",
    "    employees;\n"
   ]
  },
  {
   "cell_type": "code",
   "execution_count": 0,
   "metadata": {
    "application/vnd.databricks.v1+cell": {
     "cellMetadata": {
      "byteLimit": 2048000,
      "implicitDf": true,
      "rowLimit": 10000
     },
     "inputWidgets": {},
     "nuid": "cceeaa8a-1017-4eca-a392-83a1d447df7f",
     "showTitle": false,
     "tableResultSettingsMap": {},
     "title": ""
    }
   },
   "outputs": [
    {
     "output_type": "display_data",
     "data": {
      "text/html": [
       "<style scoped>\n",
       "  .table-result-container {\n",
       "    max-height: 300px;\n",
       "    overflow: auto;\n",
       "  }\n",
       "  table, th, td {\n",
       "    border: 1px solid black;\n",
       "    border-collapse: collapse;\n",
       "  }\n",
       "  th, td {\n",
       "    padding: 5px;\n",
       "  }\n",
       "  th {\n",
       "    text-align: left;\n",
       "  }\n",
       "</style><div class='table-result-container'><table class='table-result'><thead style='background-color: white'><tr><th>id</th><th>name</th><th>department</th><th>salary</th><th>cumulative_distribution</th></tr></thead><tbody><tr><td>8</td><td>Hannah</td><td>Finance</td><td>68000.00</td><td>0.125</td></tr><tr><td>14</td><td>Nina</td><td>Finance</td><td>72000.00</td><td>0.25</td></tr><tr><td>20</td><td>Tina</td><td>Finance</td><td>73000.00</td><td>0.375</td></tr><tr><td>5</td><td>Evan</td><td>Finance</td><td>75000.00</td><td>0.5</td></tr><tr><td>2</td><td>Bob</td><td>Finance</td><td>80000.00</td><td>0.625</td></tr><tr><td>11</td><td>Kyle</td><td>Finance</td><td>82000.00</td><td>0.875</td></tr><tr><td>17</td><td>Quincy</td><td>Finance</td><td>82000.00</td><td>0.875</td></tr><tr><td>23</td><td>Wendy</td><td>Finance</td><td>93000.00</td><td>1.0</td></tr><tr><td>22</td><td>Victor</td><td>HR</td><td>61000.00</td><td>0.1111111111111111</td></tr><tr><td>1</td><td>Alice</td><td>HR</td><td>70000.00</td><td>0.3333333333333333</td></tr><tr><td>16</td><td>Paula</td><td>HR</td><td>70000.00</td><td>0.3333333333333333</td></tr><tr><td>7</td><td>George</td><td>HR</td><td>72000.00</td><td>0.4444444444444444</td></tr><tr><td>10</td><td>Jane</td><td>HR</td><td>79000.00</td><td>0.5555555555555556</td></tr><tr><td>4</td><td>Diana</td><td>HR</td><td>85000.00</td><td>0.6666666666666666</td></tr><tr><td>13</td><td>Mia</td><td>HR</td><td>86000.00</td><td>0.7777777777777778</td></tr><tr><td>25</td><td>Yara</td><td>HR</td><td>87000.00</td><td>0.8888888888888888</td></tr><tr><td>19</td><td>Sam</td><td>HR</td><td>89000.00</td><td>1.0</td></tr><tr><td>9</td><td>Ian</td><td>IT</td><td>56000.00</td><td>0.125</td></tr><tr><td>15</td><td>Oscar</td><td>IT</td><td>67000.00</td><td>0.25</td></tr><tr><td>21</td><td>Uma</td><td>IT</td><td>69000.00</td><td>0.375</td></tr><tr><td>24</td><td>Xander</td><td>IT</td><td>75000.00</td><td>0.5</td></tr><tr><td>3</td><td>Charlie</td><td>IT</td><td>90000.00</td><td>0.625</td></tr><tr><td>12</td><td>Liam</td><td>IT</td><td>91000.00</td><td>0.75</td></tr><tr><td>18</td><td>Rita</td><td>IT</td><td>94000.00</td><td>0.875</td></tr><tr><td>6</td><td>Fay</td><td>IT</td><td>95000.00</td><td>1.0</td></tr></tbody></table></div>"
      ]
     },
     "metadata": {
      "application/vnd.databricks.v1+output": {
       "addedWidgets": {},
       "aggData": [],
       "aggError": "",
       "aggOverflow": false,
       "aggSchema": [],
       "aggSeriesLimitReached": false,
       "aggType": "",
       "arguments": {},
       "columnCustomDisplayInfos": {},
       "data": [
        [
         8,
         "Hannah",
         "Finance",
         "68000.00",
         0.125
        ],
        [
         14,
         "Nina",
         "Finance",
         "72000.00",
         0.25
        ],
        [
         20,
         "Tina",
         "Finance",
         "73000.00",
         0.375
        ],
        [
         5,
         "Evan",
         "Finance",
         "75000.00",
         0.5
        ],
        [
         2,
         "Bob",
         "Finance",
         "80000.00",
         0.625
        ],
        [
         11,
         "Kyle",
         "Finance",
         "82000.00",
         0.875
        ],
        [
         17,
         "Quincy",
         "Finance",
         "82000.00",
         0.875
        ],
        [
         23,
         "Wendy",
         "Finance",
         "93000.00",
         1.0
        ],
        [
         22,
         "Victor",
         "HR",
         "61000.00",
         0.1111111111111111
        ],
        [
         1,
         "Alice",
         "HR",
         "70000.00",
         0.3333333333333333
        ],
        [
         16,
         "Paula",
         "HR",
         "70000.00",
         0.3333333333333333
        ],
        [
         7,
         "George",
         "HR",
         "72000.00",
         0.4444444444444444
        ],
        [
         10,
         "Jane",
         "HR",
         "79000.00",
         0.5555555555555556
        ],
        [
         4,
         "Diana",
         "HR",
         "85000.00",
         0.6666666666666666
        ],
        [
         13,
         "Mia",
         "HR",
         "86000.00",
         0.7777777777777778
        ],
        [
         25,
         "Yara",
         "HR",
         "87000.00",
         0.8888888888888888
        ],
        [
         19,
         "Sam",
         "HR",
         "89000.00",
         1.0
        ],
        [
         9,
         "Ian",
         "IT",
         "56000.00",
         0.125
        ],
        [
         15,
         "Oscar",
         "IT",
         "67000.00",
         0.25
        ],
        [
         21,
         "Uma",
         "IT",
         "69000.00",
         0.375
        ],
        [
         24,
         "Xander",
         "IT",
         "75000.00",
         0.5
        ],
        [
         3,
         "Charlie",
         "IT",
         "90000.00",
         0.625
        ],
        [
         12,
         "Liam",
         "IT",
         "91000.00",
         0.75
        ],
        [
         18,
         "Rita",
         "IT",
         "94000.00",
         0.875
        ],
        [
         6,
         "Fay",
         "IT",
         "95000.00",
         1.0
        ]
       ],
       "datasetInfos": [],
       "dbfsResultPath": null,
       "isJsonSchema": true,
       "metadata": {},
       "overflow": false,
       "plotOptions": {
        "customPlotOptions": {},
        "displayType": "table",
        "pivotAggregation": null,
        "pivotColumns": null,
        "xColumns": null,
        "yColumns": null
       },
       "removedWidgets": [],
       "schema": [
        {
         "metadata": "{}",
         "name": "id",
         "type": "\"integer\""
        },
        {
         "metadata": "{}",
         "name": "name",
         "type": "\"string\""
        },
        {
         "metadata": "{}",
         "name": "department",
         "type": "\"string\""
        },
        {
         "metadata": "{}",
         "name": "salary",
         "type": "\"decimal(10,2)\""
        },
        {
         "metadata": "{}",
         "name": "cumulative_distribution",
         "type": "\"double\""
        }
       ],
       "type": "table"
      }
     },
     "output_type": "display_data"
    }
   ],
   "source": [
    "\n",
    "%sql\n",
    "\n",
    "# Create the sample employees table\n",
    "CREATE Table employees (\n",
    "    id INT,\n",
    "    name STRING,\n",
    "    salary DECIMAL(10, 2),\n",
    "    department STRING,\n",
    "    gender STRING,\n",
    "    hire_date DATE\n",
    ");\n",
    "\n",
    "\n",
    "-- Insert sample data into the employees table\n",
    "INSERT INTO employees VALUES\n",
    "(1, 'Alice', 70000, 'HR', 'F', '2020-01-15'),\n",
    "(2, 'Bob', 80000, 'Finance', 'M', '2019-11-10'),\n",
    "(3, 'Charlie', 90000, 'IT', 'M', '2021-06-05'),\n",
    "(4, 'Diana', 85000, 'HR', 'F', '2018-03-22'),\n",
    "(5, 'Evan', 75000, 'Finance', 'M', '2020-07-12'),\n",
    "(6, 'Fay', 95000, 'IT', 'F', '2021-08-19'),\n",
    "(7, 'George', 72000, 'HR', 'M', '2020-10-29'),\n",
    "(8, 'Hannah', 68000, 'Finance', 'F', '2019-09-15'),\n",
    "(9, 'Ian', 56000, 'IT', 'M', '2021-01-01'),\n",
    "(10, 'Jane', 79000, 'HR', 'F', '2020-02-25'),\n",
    "(11, 'Kyle', 82000, 'Finance', 'M', '2020-04-30'),\n",
    "(12, 'Liam', 91000, 'IT', 'M', '2021-07-07'),\n",
    "(13, 'Mia', 86000, 'HR', 'F', '2019-08-20'),\n",
    "(14, 'Nina', 72000, 'Finance', 'F', '2018-05-30'),\n",
    "(15, 'Oscar', 67000, 'IT', 'M', '2021-02-10'),\n",
    "(16, 'Paula', 70000, 'HR', 'F', '2021-03-15'),\n",
    "(17, 'Quincy', 82000, 'Finance', 'M', '2019-12-20'),\n",
    "(18, 'Rita', 94000, 'IT', 'F', '2020-09-05'),\n",
    "(19, 'Sam', 89000, 'HR', 'M', '2020-11-18'),\n",
    "(20, 'Tina', 73000, 'Finance', 'F', '2020-12-25'),\n",
    "(21, 'Uma', 69000, 'IT', 'F', '2021-05-14'),\n",
    "(22, 'Victor', 61000, 'HR', 'M', '2018-07-22'),\n",
    "(23, 'Wendy', 93000, 'Finance', 'F', '2020-06-18'),\n",
    "(24, 'Xander', 75000, 'IT', 'M', '2019-04-14'),\n",
    "(25, 'Yara', 87000, 'HR', 'F', '2021-09-01');\n",
    "\n",
    "\n",
    "-- Use ROW_NUMBER() to generate row numbers within each department\n",
    "SELECT\n",
    "    id,\n",
    "    name,\n",
    "    department,\n",
    "    salary,\n",
    "    ROW_NUMBER() OVER (PARTITION BY department ORDER BY salary DESC) AS row_num\n",
    "FROM\n",
    "    employees;\n",
    "\n",
    "\n",
    "\n",
    "-- Use RANK() to rank employees within each department by salary\n",
    "SELECT\n",
    "    id,\n",
    "    name,\n",
    "    department,\n",
    "    salary,\n",
    "    RANK() OVER (PARTITION BY department ORDER BY salary DESC) AS rank\n",
    "FROM\n",
    "    employees;\n",
    "\n",
    "\n",
    "-- Calculate a cumulative sum of salary for each department\n",
    "SELECT\n",
    "    id,\n",
    "    name,\n",
    "    department,\n",
    "    salary,\n",
    "    SUM(salary) OVER (PARTITION BY department ORDER BY hire_date) AS cumulative_salary\n",
    "FROM\n",
    "    employees;\n",
    "\n",
    "\n",
    "-- Use LAG() to show each employee's hire date and the hire date of the previous employee\n",
    "SELECT\n",
    "    id,\n",
    "    name,\n",
    "    hire_date,\n",
    "    LAG(hire_date, 1) OVER (ORDER BY hire_date) AS previous_hire_date\n",
    "FROM\n",
    "    employees;\n",
    "\n",
    "\n",
    "-- Calculate a moving average of salary over the current row and the two preceding rows\n",
    "SELECT\n",
    "    id,\n",
    "    name,\n",
    "    hire_date,\n",
    "    salary,\n",
    "    AVG(salary) OVER (ORDER BY hire_date ROWS BETWEEN 2 PRECEDING AND CURRENT ROW) AS moving_avg_salary\n",
    "FROM\n",
    "    employees\n",
    "ORDER BY\n",
    "    hire_date;\n",
    "\n",
    "\n",
    "\n",
    "-- Use DENSE_RANK() to rank employees within each department by salary\n",
    "SELECT\n",
    "    id,\n",
    "    name,\n",
    "    department,\n",
    "    salary,\n",
    "    DENSE_RANK() OVER (PARTITION BY department ORDER BY salary DESC) AS dense_rank\n",
    "FROM\n",
    "    employees;\n",
    "\n",
    "\n",
    "-- Divide employees into 4 buckets based on their salary within each department\n",
    "SELECT\n",
    "    id,\n",
    "    name,\n",
    "    department,\n",
    "    salary,\n",
    "    NTILE(4) OVER (PARTITION BY department ORDER BY salary DESC) AS salary_bucket\n",
    "FROM\n",
    "    employees;\n",
    "\n",
    "\n",
    "-- Find the first and last hired employee's salary within each department\n",
    "SELECT\n",
    "    id,\n",
    "    name,\n",
    "    department,\n",
    "    salary,\n",
    "    FIRST_VALUE(salary) OVER (PARTITION BY department ORDER BY hire_date) AS first_salary,\n",
    "    LAST_VALUE(salary) OVER (PARTITION BY department ORDER BY hire_date\n",
    "        ROWS BETWEEN UNBOUNDED PRECEDING AND UNBOUNDED FOLLOWING) AS last_salary\n",
    "FROM\n",
    "    employees;\n",
    "\n",
    "\n",
    "-- Calculate the relative rank of each employee's salary within their department\n",
    "SELECT\n",
    "    id,\n",
    "    name,\n",
    "    department,\n",
    "    salary,\n",
    "    PERCENT_RANK() OVER (PARTITION BY department ORDER BY salary) AS percent_rank\n",
    "FROM\n",
    "    employees;\n",
    "\n",
    "\n",
    "-- Calculate the cumulative distribution of salaries within each department\n",
    "SELECT\n",
    "    id,\n",
    "    name,\n",
    "    department,\n",
    "    salary,\n",
    "    CUME_DIST() OVER (PARTITION BY department ORDER BY salary) AS cumulative_distribution\n",
    "FROM\n",
    "    employees;\n"
   ]
  }
 ],
 "metadata": {
  "application/vnd.databricks.v1+notebook": {
   "dashboards": [],
   "environmentMetadata": null,
   "language": "python",
   "notebookMetadata": {
    "mostRecentlyExecutedCommandWithImplicitDF": {
     "commandId": 992396078211876,
     "dataframes": [
      "_sqldf"
     ]
    },
    "pythonIndentUnit": 4
   },
   "notebookName": "SQL Window Functions",
   "widgets": {}
  }
 },
 "nbformat": 4,
 "nbformat_minor": 0
}
