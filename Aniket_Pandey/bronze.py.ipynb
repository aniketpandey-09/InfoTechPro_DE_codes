{
 "cells": [
  {
   "cell_type": "code",
   "execution_count": 0,
   "metadata": {
    "application/vnd.databricks.v1+cell": {
     "cellMetadata": {
      "byteLimit": 2048000,
      "rowLimit": 10000
     },
     "inputWidgets": {},
     "nuid": "3d508ac8-b7f4-4896-9572-b6dcb242fe79",
     "showTitle": false,
     "tableResultSettingsMap": {},
     "title": ""
    }
   },
   "outputs": [],
   "source": [
    "\n",
    "from pyspark.sql import SparkSession\n",
    "spark = SparkSession.builder.appName(\"BronzeLayerIngestion\").getOrCreate()\n"
   ]
  },
  {
   "cell_type": "code",
   "execution_count": 0,
   "metadata": {
    "application/vnd.databricks.v1+cell": {
     "cellMetadata": {
      "byteLimit": 2048000,
      "rowLimit": 10000
     },
     "inputWidgets": {},
     "nuid": "21eb2efe-cf2b-4f2d-9e1d-f5e465fa4d83",
     "showTitle": false,
     "tableResultSettingsMap": {},
     "title": ""
    }
   },
   "outputs": [
    {
     "output_type": "stream",
     "name": "stdout",
     "output_type": "stream",
     "text": [
      "+-----------+-------+-------------+-------------+-------+----+------------------------+---+-------+\n|Pregnancies|Glucose|BloodPressure|SkinThickness|Insulin| BMI|DiabetesPedigreeFunction|Age|Outcome|\n+-----------+-------+-------------+-------------+-------+----+------------------------+---+-------+\n|          6|    148|           72|           35|      0|33.6|                   0.627| 50|      1|\n|          1|     85|           66|           29|      0|26.6|                   0.351| 31|      0|\n|          8|    183|           64|            0|      0|23.3|                   0.672| 32|      1|\n|          1|     89|           66|           23|     94|28.1|                   0.167| 21|      0|\n|          0|    137|           40|           35|    168|43.1|                   2.288| 33|      1|\n|          5|    116|           74|            0|      0|25.6|                   0.201| 30|      0|\n|          3|     78|           50|           32|     88|  31|                   0.248| 26|      1|\n|         10|    115|            0|            0|      0|35.3|                   0.134| 29|      0|\n|          2|    197|           70|           45|    543|30.5|                   0.158| 53|      1|\n|          8|    125|           96|            0|      0|   0|                   0.232| 54|      1|\n|          4|    110|           92|            0|      0|37.6|                   0.191| 30|      0|\n|         10|    168|           74|            0|      0|  38|                   0.537| 34|      1|\n|         10|    139|           80|            0|      0|27.1|                   1.441| 57|      0|\n|          1|    189|           60|           23|    846|30.1|                   0.398| 59|      1|\n|          5|    166|           72|           19|    175|25.8|                   0.587| 51|      1|\n|          7|    100|            0|            0|      0|  30|                   0.484| 32|      1|\n|          0|    118|           84|           47|    230|45.8|                   0.551| 31|      1|\n|          7|    107|           74|            0|      0|29.6|                   0.254| 31|      1|\n|          1|    103|           30|           38|     83|43.3|                   0.183| 33|      0|\n|          1|    115|           70|           30|     96|34.6|                   0.529| 32|      1|\n+-----------+-------+-------------+-------------+-------+----+------------------------+---+-------+\nonly showing top 20 rows\n\n"
     ]
    }
   ],
   "source": [
    "df1 = spark.read.format(\"csv\").option(\"header\", \"true\").load(\"dbfs:/FileStore/shared_uploads/aniketpandey0796@gmail.com/diabetes.csv\")\n",
    "df1.show()"
   ]
  },
  {
   "cell_type": "code",
   "execution_count": 0,
   "metadata": {
    "application/vnd.databricks.v1+cell": {
     "cellMetadata": {
      "byteLimit": 2048000,
      "rowLimit": 10000
     },
     "inputWidgets": {},
     "nuid": "3e47cbec-565e-42db-87ff-b1d5d557ebc7",
     "showTitle": false,
     "tableResultSettingsMap": {},
     "title": ""
    }
   },
   "outputs": [],
   "source": [
    "df1.write.format(\"delta\").saveAsTable(\"default.productreviews\")"
   ]
  },
  {
   "cell_type": "code",
   "execution_count": 0,
   "metadata": {
    "application/vnd.databricks.v1+cell": {
     "cellMetadata": {
      "byteLimit": 2048000,
      "rowLimit": 10000
     },
     "inputWidgets": {},
     "nuid": "cba08ae5-6d05-4514-8426-50590625e298",
     "showTitle": false,
     "tableResultSettingsMap": {},
     "title": ""
    }
   },
   "outputs": [
    {
     "output_type": "stream",
     "name": "stdout",
     "output_type": "stream",
     "text": [
      "+-----------+-------+-------------+-------------+-------+----+------------------------+---+-------+\n|Pregnancies|Glucose|BloodPressure|SkinThickness|Insulin| BMI|DiabetesPedigreeFunction|Age|Outcome|\n+-----------+-------+-------------+-------------+-------+----+------------------------+---+-------+\n|          6|    148|           72|           35|      0|33.6|                   0.627| 50|      1|\n|          1|     85|           66|           29|      0|26.6|                   0.351| 31|      0|\n|          8|    183|           64|            0|      0|23.3|                   0.672| 32|      1|\n|          1|     89|           66|           23|     94|28.1|                   0.167| 21|      0|\n|          0|    137|           40|           35|    168|43.1|                   2.288| 33|      1|\n|          5|    116|           74|            0|      0|25.6|                   0.201| 30|      0|\n|          3|     78|           50|           32|     88|  31|                   0.248| 26|      1|\n|         10|    115|            0|            0|      0|35.3|                   0.134| 29|      0|\n|          2|    197|           70|           45|    543|30.5|                   0.158| 53|      1|\n|          8|    125|           96|            0|      0|   0|                   0.232| 54|      1|\n|          4|    110|           92|            0|      0|37.6|                   0.191| 30|      0|\n|         10|    168|           74|            0|      0|  38|                   0.537| 34|      1|\n|         10|    139|           80|            0|      0|27.1|                   1.441| 57|      0|\n|          1|    189|           60|           23|    846|30.1|                   0.398| 59|      1|\n|          5|    166|           72|           19|    175|25.8|                   0.587| 51|      1|\n|          7|    100|            0|            0|      0|  30|                   0.484| 32|      1|\n|          0|    118|           84|           47|    230|45.8|                   0.551| 31|      1|\n|          7|    107|           74|            0|      0|29.6|                   0.254| 31|      1|\n|          1|    103|           30|           38|     83|43.3|                   0.183| 33|      0|\n|          1|    115|           70|           30|     96|34.6|                   0.529| 32|      1|\n+-----------+-------+-------------+-------------+-------+----+------------------------+---+-------+\nonly showing top 20 rows\n\n"
     ]
    }
   ],
   "source": [
    "df_bronze = spark.read.format(\"delta\").load(\"dbfs:/user/hive/warehouse/productreviews\")\n",
    "df_bronze.show()"
   ]
  },
  {
   "cell_type": "code",
   "execution_count": 0,
   "metadata": {
    "application/vnd.databricks.v1+cell": {
     "cellMetadata": {
      "byteLimit": 2048000,
      "rowLimit": 10000
     },
     "inputWidgets": {},
     "nuid": "7f3b0343-b1b0-4c5b-8809-ef2d52edde37",
     "showTitle": false,
     "tableResultSettingsMap": {},
     "title": ""
    }
   },
   "outputs": [
    {
     "output_type": "stream",
     "name": "stdout",
     "output_type": "stream",
     "text": [
      "root\n |-- Pregnancies: string (nullable = true)\n |-- Glucose: string (nullable = true)\n |-- BloodPressure: string (nullable = true)\n |-- SkinThickness: string (nullable = true)\n |-- Insulin: string (nullable = true)\n |-- BMI: string (nullable = true)\n |-- DiabetesPedigreeFunction: string (nullable = true)\n |-- Age: string (nullable = true)\n |-- Outcome: string (nullable = true)\n\n"
     ]
    }
   ],
   "source": [
    "df_bronze.printSchema()"
   ]
  }
 ],
 "metadata": {
  "application/vnd.databricks.v1+notebook": {
   "dashboards": [],
   "environmentMetadata": null,
   "language": "python",
   "notebookMetadata": {
    "pythonIndentUnit": 4
   },
   "notebookName": "bronze.py",
   "widgets": {}
  }
 },
 "nbformat": 4,
 "nbformat_minor": 0
}
