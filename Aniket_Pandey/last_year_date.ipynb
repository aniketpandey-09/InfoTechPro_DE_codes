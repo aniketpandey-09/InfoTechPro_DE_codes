{
 "cells": [
  {
   "cell_type": "code",
   "execution_count": 0,
   "metadata": {
    "application/vnd.databricks.v1+cell": {
     "cellMetadata": {
      "byteLimit": 2048000,
      "rowLimit": 10000
     },
     "inputWidgets": {},
     "nuid": "8c4ca39a-22ad-4e1d-b82f-6035cc18286e",
     "showTitle": false,
     "tableResultSettingsMap": {},
     "title": ""
    }
   },
   "outputs": [
    {
     "output_type": "stream",
     "name": "stdout",
     "output_type": "stream",
     "text": [
      "+---+-----------+--------------+\n|id |sample_date|last_year_date|\n+---+-----------+--------------+\n|1  |2024-09-06 |2023-09-06    |\n+---+-----------+--------------+\n\n"
     ]
    }
   ],
   "source": [
    "from pyspark.sql import SparkSession\n",
    "from pyspark.sql.functions import col, add_months\n",
    "\n",
    "# Create Spark session\n",
    "spark = SparkSession.builder.appName(\"DateConversion\").getOrCreate()\n",
    "\n",
    "# Sample data\n",
    "df = spark.read.format('csv').option('inferSchema','true').option('header','true').load('dbfs:/FileStore/Book1.csv')\n",
    "\n",
    "# Convert sample_date to DateType\n",
    "df = df.withColumn(\"sample_date\", col(\"sample_date\").cast(\"date\"))\n",
    "\n",
    "# Get the date of the previous year\n",
    "df = df.withColumn(\"last_year_date\", add_months(col(\"sample_date\"), -12))\n",
    "\n",
    "# Show the results\n",
    "df.show(truncate=False)\n"
   ]
  },
  {
   "cell_type": "code",
   "execution_count": 0,
   "metadata": {
    "application/vnd.databricks.v1+cell": {
     "cellMetadata": {},
     "inputWidgets": {},
     "nuid": "652a5603-d6e5-40f0-83b9-4667bd3d0909",
     "showTitle": false,
     "tableResultSettingsMap": {},
     "title": ""
    }
   },
   "outputs": [],
   "source": []
  }
 ],
 "metadata": {
  "application/vnd.databricks.v1+notebook": {
   "dashboards": [],
   "environmentMetadata": null,
   "language": "python",
   "notebookMetadata": {
    "pythonIndentUnit": 4
   },
   "notebookName": "last_year_date",
   "widgets": {}
  }
 },
 "nbformat": 4,
 "nbformat_minor": 0
}
