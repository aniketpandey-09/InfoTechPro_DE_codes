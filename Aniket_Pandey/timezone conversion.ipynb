{
 "cells": [
  {
   "cell_type": "code",
   "execution_count": 0,
   "metadata": {
    "application/vnd.databricks.v1+cell": {
     "cellMetadata": {
      "byteLimit": 2048000,
      "rowLimit": 10000
     },
     "inputWidgets": {},
     "nuid": "b5e93980-6529-4562-a7aa-c945bc3352d8",
     "showTitle": false,
     "tableResultSettingsMap": {},
     "title": ""
    }
   },
   "outputs": [],
   "source": [
    "from pyspark.sql import SparkSession\n",
    "from pyspark.sql.functions import col, to_utc_timestamp, from_utc_timestamp\n",
    "\n",
    "# Create Spark session\n",
    "spark = SparkSession.builder.appName(\"DateConversion\").getOrCreate()\n",
    "\n",
    "# Create DataFrame\n",
    "df = spark.read.format('csv').option('inferSchema','true').option('header','true').load('dbfs:/FileStore/Book1.csv')\n",
    "\n"
   ]
  },
  {
   "cell_type": "code",
   "execution_count": 0,
   "metadata": {
    "application/vnd.databricks.v1+cell": {
     "cellMetadata": {},
     "inputWidgets": {},
     "nuid": "40c61313-6cb0-4b98-87cc-5a8131389d56",
     "showTitle": false,
     "tableResultSettingsMap": {},
     "title": ""
    }
   },
   "outputs": [],
   "source": [
    "\n",
    "# Add UTC and IST columns\n",
    "df = df.withColumn(\"utc_date\", to_utc_timestamp(col(\"\"), \"UTC\")) \\\n",
    "       .withColumn(\"ist_date\", from_utc_timestamp(col(\"sample_date\"), \"Asia/Kolkata\"))\n",
    "\n",
    "# Show the results\n",
    "df.show(truncate=False)\n"
   ]
  }
 ],
 "metadata": {
  "application/vnd.databricks.v1+notebook": {
   "dashboards": [],
   "environmentMetadata": null,
   "language": "python",
   "notebookMetadata": {
    "pythonIndentUnit": 4
   },
   "notebookName": "timezone conversion",
   "widgets": {}
  }
 },
 "nbformat": 4,
 "nbformat_minor": 0
}
