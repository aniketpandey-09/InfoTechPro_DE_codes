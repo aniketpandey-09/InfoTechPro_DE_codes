{
 "cells": [
  {
   "cell_type": "code",
   "execution_count": 0,
   "metadata": {
    "application/vnd.databricks.v1+cell": {
     "cellMetadata": {
      "byteLimit": 2048000,
      "rowLimit": 10000
     },
     "inputWidgets": {},
     "nuid": "d2575c5d-b4c4-4e4f-989d-24678ed8bf66",
     "showTitle": false,
     "title": ""
    }
   },
   "outputs": [
    {
     "name": "stdout",
     "output_type": "stream",
     "text": [
      "+------------+------------------+---------------------+--------+---------+--------------+---------+-----------------+---------+--------------------+------------+\n",
      "|SalesOrderID|SalesOrderDetailID|CarrierTrackingNumber|OrderQty|ProductID|SpecialOfferID|UnitPrice|UnitPriceDiscount|LineTotal|             rowguid|ModifiedDate|\n",
      "+------------+------------------+---------------------+--------+---------+--------------+---------+-----------------+---------+--------------------+------------+\n",
      "|       43659|                 1|         4911-403C-98|       1|      776|             1|  2024.99|             0.00|  2024.99|B207C96D-D9E6-402...|  2011-05-31|\n",
      "|       43659|                 2|         4911-403C-98|       3|      777|             1|  2024.99|             0.00|  6074.98|7ABB600D-1E77-41B...|  2011-05-31|\n",
      "|       43659|                 3|         4911-403C-98|       1|      778|             1|  2024.99|             0.00|  2024.99|475CF8C6-49F6-486...|  2011-05-31|\n",
      "|       43659|                 4|         4911-403C-98|       1|      771|             1|  2039.99|             0.00|  2039.99|04C4DE91-5815-45D...|  2011-05-31|\n",
      "|       43659|                 5|         4911-403C-98|       1|      772|             1|  2039.99|             0.00|  2039.99|5A74C7D2-E641-438...|  2011-05-31|\n",
      "+------------+------------------+---------------------+--------+---------+--------------+---------+-----------------+---------+--------------------+------------+\n",
      "only showing top 5 rows\n",
      "\n"
     ]
    }
   ],
   "source": [
    "from pyspark.sql.types import StructType, StructField, StringType, IntegerType, DecimalType, DateType\n",
    "from pyspark.sql import functions as F\n",
    "from pyspark.sql import Window\n",
    "\n",
    "# Define the schema\n",
    "schema = StructType([\n",
    "    StructField(\"SalesOrderID\", IntegerType(), True),\n",
    "    StructField(\"SalesOrderDetailID\", IntegerType(), True),\n",
    "    StructField(\"CarrierTrackingNumber\", StringType(), True),\n",
    "    StructField(\"OrderQty\", IntegerType(), True),\n",
    "    StructField(\"ProductID\", IntegerType(), True),\n",
    "    StructField(\"SpecialOfferID\", IntegerType(), True),\n",
    "    StructField(\"UnitPrice\", DecimalType(10, 2), True),\n",
    "    StructField(\"UnitPriceDiscount\", DecimalType(10, 2), True),\n",
    "    StructField(\"LineTotal\", DecimalType(20, 2), True),\n",
    "    StructField(\"rowguid\", StringType(), True),\n",
    "    StructField(\"ModifiedDate\", DateType(), True)\n",
    "])\n",
    "\n",
    "# Load the data with the schema\n",
    "df = spark.read.format('csv').option('header', 'false').schema(schema).load(\"/FileStore/tables/Sales_SalesOrderDetail.csv\")\n",
    "\n",
    "# Show the first few rows to verify the data\n",
    "df.show(5)\n",
    "\n",
    "# Register the DataFrame as a SQL temporary view\n",
    "df.createOrReplaceTempView(\"SalesData\")"
   ]
  },
  {
   "cell_type": "code",
   "execution_count": 0,
   "metadata": {
    "application/vnd.databricks.v1+cell": {
     "cellMetadata": {
      "byteLimit": 2048000,
      "implicitDf": true,
      "rowLimit": 10000
     },
     "inputWidgets": {},
     "nuid": "ffa49850-d6fd-49e0-a736-602b6bcd0c16",
     "showTitle": false,
     "title": ""
    }
   },
   "outputs": [
    {
     "data": {
      "text/html": [
       "<style scoped>\n",
       "  .table-result-container {\n",
       "    max-height: 300px;\n",
       "    overflow: auto;\n",
       "  }\n",
       "  table, th, td {\n",
       "    border: 1px solid black;\n",
       "    border-collapse: collapse;\n",
       "  }\n",
       "  th, td {\n",
       "    padding: 5px;\n",
       "  }\n",
       "  th {\n",
       "    text-align: left;\n",
       "  }\n",
       "</style><div class='table-result-container'><table class='table-result'><thead style='background-color: white'><tr><th>OrderYear</th></tr></thead><tbody><tr><td>2013</td></tr><tr><td>2012</td></tr><tr><td>2011</td></tr><tr><td>2014</td></tr></tbody></table></div>"
      ]
     },
     "metadata": {
      "application/vnd.databricks.v1+output": {
       "addedWidgets": {},
       "aggData": [],
       "aggError": "",
       "aggOverflow": false,
       "aggSchema": [],
       "aggSeriesLimitReached": false,
       "aggType": "",
       "arguments": {},
       "columnCustomDisplayInfos": {},
       "data": [
        [
         2013
        ],
        [
         2012
        ],
        [
         2011
        ],
        [
         2014
        ]
       ],
       "datasetInfos": [],
       "dbfsResultPath": null,
       "isJsonSchema": true,
       "metadata": {
        "dataframeName": "_sqldf",
        "executionCount": 4
       },
       "overflow": false,
       "plotOptions": {
        "customPlotOptions": {},
        "displayType": "table",
        "pivotAggregation": null,
        "pivotColumns": null,
        "xColumns": null,
        "yColumns": null
       },
       "removedWidgets": [],
       "schema": [
        {
         "metadata": "{}",
         "name": "OrderYear",
         "type": "\"integer\""
        }
       ],
       "type": "table"
      }
     },
     "output_type": "display_data"
    }
   ],
   "source": [
    "%sql\n",
    "SELECT DISTINCT YEAR(ModifiedDate) AS OrderYear\n",
    "FROM SalesData\n",
    "\n",
    "years = spark.sql(\"SELECT DISTINCT YEAR(ModifiedDate) AS OrderYear FROM SalesData\").collect()\n",
    "years_list = [row[\"OrderYear\"] for row in years]\n",
    "\n",
    "for y in years_list:\n",
    "    query = f\"\"\"\n",
    "    SELECT *, \n",
    "           YEAR(ModifiedDate) AS OrderYear, \n",
    "           DATE_SUB(ModifiedDate, 365) AS PreviousYearDate\n",
    "    FROM SalesData\n",
    "    WHERE YEAR(ModifiedDate) = {y}\n",
    "    \"\"\"\n",
    "    \n",
    "    # Execute the query and save the results\n",
    "    df_year = spark.sql(query)\n",
    "    df_year.write.mode(\"overwrite\").format(\"delta\").saveAsTable(f\"default.sales_data2_{y}\", header=True)"
   ]
  },
  {
   "cell_type": "code",
   "execution_count": null,
   "metadata": {},
   "outputs": [],
   "source": []
  },
  {
   "cell_type": "code",
   "execution_count": null,
   "metadata": {},
   "outputs": [],
   "source": []
  }
 ],
 "metadata": {
  "application/vnd.databricks.v1+notebook": {
   "dashboards": [],
   "environmentMetadata": null,
   "language": "python",
   "notebookMetadata": {
    "mostRecentlyExecutedCommandWithImplicitDF": {
     "commandId": 1898079743640005,
     "dataframes": [
      "_sqldf"
     ]
    },
    "pythonIndentUnit": 4
   },
   "notebookName": "Yearly_Dataprocessing_SQL",
   "widgets": {}
  },
  "language_info": {
   "name": "python"
  }
 },
 "nbformat": 4,
 "nbformat_minor": 0
}
