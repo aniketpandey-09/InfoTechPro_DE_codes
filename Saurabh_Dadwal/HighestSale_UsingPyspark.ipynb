{
 "cells": [
  {
   "cell_type": "code",
   "execution_count": 0,
   "metadata": {
    "application/vnd.databricks.v1+cell": {
     "cellMetadata": {
      "byteLimit": 2048000,
      "rowLimit": 10000
     },
     "inputWidgets": {},
     "nuid": "01be4cfa-b980-4950-a723-8e2e9119db08",
     "showTitle": false,
     "title": ""
    }
   },
   "outputs": [
    {
     "output_type": "stream",
     "name": "stdout",
     "output_type": "stream",
     "text": [
      "+---------+----------+-----------+\n|OrderYear|OrderMonth|HighestSale|\n+---------+----------+-----------+\n|     2011|         5|   12149.96|\n|     2011|         6|    3578.27|\n|     2011|         7|   27055.76|\n|     2011|         8|   21101.79|\n|     2011|         9|    3578.27|\n|     2011|        10|   23190.65|\n|     2011|        11|    3578.27|\n|     2011|        12|   16319.95|\n|     2012|         1|   20249.94|\n|     2012|         2|   14279.96|\n|     2012|         3|   23020.13|\n|     2012|         4|    9944.66|\n|     2012|         5|   16665.60|\n|     2012|         6|   19149.76|\n|     2012|         7|   16665.60|\n|     2012|         8|   13976.49|\n|     2012|         9|   14128.74|\n|     2012|        10|   15306.13|\n|     2012|        11|   12951.34|\n|     2012|        12|   12811.78|\n+---------+----------+-----------+\nonly showing top 20 rows\n\n"
     ]
    }
   ],
   "source": [
    "from pyspark.sql.types import StructType, StructField, StringType, IntegerType, DecimalType, DateType\n",
    "from pyspark.sql import functions as F\n",
    "from pyspark.sql import Window\n",
    "\n",
    "# Define the schema\n",
    "schema = StructType([\n",
    "    StructField(\"SalesOrderID\", IntegerType(), True),\n",
    "    StructField(\"SalesOrderDetailID\", IntegerType(), True),\n",
    "    StructField(\"CarrierTrackingNumber\", StringType(), True),\n",
    "    StructField(\"OrderQty\", IntegerType(), True),\n",
    "    StructField(\"ProductID\", IntegerType(), True),\n",
    "    StructField(\"SpecialOfferID\", IntegerType(), True),\n",
    "    StructField(\"UnitPrice\", DecimalType(10, 2), True),\n",
    "    StructField(\"UnitPriceDiscount\", DecimalType(10, 2), True),\n",
    "    StructField(\"LineTotal\", DecimalType(20, 2), True),\n",
    "    StructField(\"rowguid\", StringType(), True),\n",
    "    StructField(\"ModifiedDate\", DateType(), True)\n",
    "])\n",
    "\n",
    "# Load the data with the schema\n",
    "sales_order_detail_df = spark.read.format('csv').option('header', 'false').schema(schema).load(\"/FileStore/tables/Sales_SalesOrderDetail__2_.csv\")\n",
    "\n",
    "# Extract Year and Month from ModifiedDate\n",
    "sales_order_detail_df = sales_order_detail_df.withColumn(\"OrderYear\", F.year(\"ModifiedDate\")) \\\n",
    "                                             .withColumn(\"OrderMonth\", F.month(\"ModifiedDate\"))\n",
    "\n",
    "# Calculate total sale per SalesOrderID per month\n",
    "monthly_sales_df = sales_order_detail_df.groupBy(\n",
    "    \"OrderYear\",\n",
    "    \"OrderMonth\",\n",
    ").agg(\n",
    "    F.max(\"LineTotal\").alias(\"HighestSale\")\n",
    ")\n",
    "\n",
    "# Find the highest sale each month using a window function\n",
    "window_spec = Window.partitionBy(\"OrderYear\", \"OrderMonth\").orderBy(F.desc(\"HighestSale\"))\n",
    "\n",
    "highest_monthly_sales_df = monthly_sales_df.withColumn(\n",
    "    \"Rank\", F.rank().over(window_spec)\n",
    ").filter(F.col(\"Rank\") == 1).drop(\"Rank\")\n",
    "\n",
    "# Display the result\n",
    "highest_monthly_sales_df.select(\"OrderYear\", \"OrderMonth\", \"HighestSale\").orderBy(\"OrderYear\", \"OrderMonth\").show()\n",
    "\n",
    "\n",
    "# Show the DataFrame\n",
    "# df.show()\n",
    "# df.printSchema()"
   ]
  }
 ],
 "metadata": {
  "application/vnd.databricks.v1+notebook": {
   "dashboards": [],
   "environmentMetadata": null,
   "language": "python",
   "notebookMetadata": {
    "mostRecentlyExecutedCommandWithImplicitDF": {
     "commandId": -1,
     "dataframes": [
      "_sqldf"
     ]
    },
    "pythonIndentUnit": 4
   },
   "notebookName": "HighestSale_UsingPyspark",
   "widgets": {}
  }
 },
 "nbformat": 4,
 "nbformat_minor": 0
}
