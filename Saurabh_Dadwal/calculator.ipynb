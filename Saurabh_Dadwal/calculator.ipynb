{
 "cells": [
  {
   "cell_type": "code",
   "execution_count": 0,
   "metadata": {
    "application/vnd.databricks.v1+cell": {
     "cellMetadata": {
      "byteLimit": 2048000,
      "rowLimit": 10000
     },
     "inputWidgets": {},
     "nuid": "ec4f4453-79c4-4f26-a11d-fdd430fdb91b",
     "showTitle": false,
     "title": ""
    }
   },
   "outputs": [
    {
     "output_type": "stream",
     "name": "stdout",
     "output_type": "stream",
     "text": [
      "+---+---+---------+\n|  a|  b|operation|\n+---+---+---------+\n| 50|  5|      add|\n| 20|  5| subtract|\n| 10|  5| multiply|\n| 10|  2|   divide|\n+---+---+---------+\n\n+---+---+---------+------+\n|  a|  b|operation|result|\n+---+---+---------+------+\n| 50|  5|      add|    55|\n| 20|  5| subtract|    15|\n| 10|  5| multiply|    50|\n| 10|  2|   divide|   5.0|\n+---+---+---------+------+\n\n"
     ]
    }
   ],
   "source": [
    "from pyspark.sql import SparkSession\n",
    "from pyspark.sql.functions import udf\n",
    "from pyspark.sql.types import StringType\n",
    "\n",
    "# Initialize a SparkSession\n",
    "spark = SparkSession.builder.master(\"local[*]\").appName(\"Calculator\").getOrCreate()\n",
    "\n",
    "def calculator(a, b, operation):\n",
    "    if operation == \"add\":\n",
    "        return a + b\n",
    "    elif operation == \"subtract\":\n",
    "        return a - b\n",
    "    elif operation == \"multiply\":\n",
    "        return a * b\n",
    "    elif operation == \"divide\":\n",
    "        if b != 0:\n",
    "            return a / b\n",
    "        else:\n",
    "            return \"Division by zero error\"\n",
    "    else:\n",
    "        return \"Invalid operation\"\n",
    "    \n",
    "# Example data\n",
    "data = [\n",
    "    (50, 5, \"add\"),\n",
    "    (20, 5, \"subtract\"),\n",
    "    (10, 5, \"multiply\"),\n",
    "    (10, 2, \"divide\"),\n",
    "]\n",
    "\n",
    "# Create a DataFrame\n",
    "df = spark.createDataFrame(data, [\"a\", \"b\", \"operation\"])\n",
    "df.show()\n",
    "\n",
    "# Create a UDF from the calculator function\n",
    "calculator_udf = udf(lambda a, b, operation: calculator(a, b, operation), StringType())\n",
    "\n",
    "# Apply the UDF to the DataFrame\n",
    "result_df = df.withColumn(\"result\", calculator_udf(df.a, df.b, df.operation))\n",
    "\n",
    "# Show the result\n",
    "result_df.show()\n"
   ]
  },
  {
   "cell_type": "code",
   "execution_count": 0,
   "metadata": {
    "application/vnd.databricks.v1+cell": {
     "cellMetadata": {
      "byteLimit": 2048000,
      "rowLimit": 10000
     },
     "inputWidgets": {},
     "nuid": "2c2e3f79-95d3-49da-af57-4c2e48af58d6",
     "showTitle": false,
     "title": ""
    }
   },
   "outputs": [
    {
     "output_type": "stream",
     "name": "stdout",
     "output_type": "stream",
     "text": [
      "+---+---+\n|  x|  y|\n+---+---+\n| 10|  5|\n| 20|  0|\n| 15|  3|\n| 50| 25|\n+---+---+\n\n+---+---+--------+\n|  x|  y|addition|\n+---+---+--------+\n| 10|  5|    15.0|\n| 20|  0|    20.0|\n| 15|  3|    18.0|\n| 50| 25|    75.0|\n+---+---+--------+\n\n+---+---+--------+-----------+\n|  x|  y|addition|subtraction|\n+---+---+--------+-----------+\n| 10|  5|    15.0|        5.0|\n| 20|  0|    20.0|       20.0|\n| 15|  3|    18.0|       12.0|\n| 50| 25|    75.0|       25.0|\n+---+---+--------+-----------+\n\n+---+---+--------+-----------+--------------+\n|  x|  y|addition|subtraction|multiplication|\n+---+---+--------+-----------+--------------+\n| 10|  5|    15.0|        5.0|          50.0|\n| 20|  0|    20.0|       20.0|           0.0|\n| 15|  3|    18.0|       12.0|          45.0|\n| 50| 25|    75.0|       25.0|        1250.0|\n+---+---+--------+-----------+--------------+\n\n+---+---+--------+-----------+--------------+--------+\n|  x|  y|addition|subtraction|multiplication|division|\n+---+---+--------+-----------+--------------+--------+\n| 10|  5|    15.0|        5.0|          50.0|     2.0|\n| 20|  0|    20.0|       20.0|           0.0|    NULL|\n| 15|  3|    18.0|       12.0|          45.0|     5.0|\n| 50| 25|    75.0|       25.0|        1250.0|     2.0|\n+---+---+--------+-----------+--------------+--------+\n\n"
     ]
    }
   ],
   "source": [
    "from pyspark.sql import SparkSession\n",
    "from pyspark.sql.functions import udf\n",
    "from pyspark.sql.types import DoubleType\n",
    "spark = SparkSession.builder.appName(\"Calculator\").getOrCreate()\n",
    "def add(x, y):\n",
    "    return float(x) + float(y)\n",
    "\n",
    "def subtract(x, y):\n",
    "    return float(x) - float(y)\n",
    "\n",
    "def multiply(x, y):\n",
    "    return float(x) * float(y)\n",
    "\n",
    "def divide(x, y):\n",
    "    if y == 0:\n",
    "        return None  # Handle division by zero\n",
    "    return x / y\n",
    "\n",
    "add_udf = udf(add, DoubleType())\n",
    "subtract_udf = udf(subtract, DoubleType())\n",
    "multiply_udf = udf(multiply, DoubleType())\n",
    "divide_udf = udf(divide, DoubleType())\n",
    "\n",
    " #Create a sample DataFrame with two columns 'x' and 'y'\n",
    "data = [(10, 5), (20, 0), (15, 3), (50, 25)]\n",
    "columns = [\"x\", \"y\"]\n",
    "\n",
    "df = spark.createDataFrame(data, columns)\n",
    "\n",
    "# Show the original DataFrame\n",
    "df.show()\n",
    "\n",
    "# Add\n",
    "df_with_addition = df.withColumn(\"addition\", add_udf(df[\"x\"], df[\"y\"]))\n",
    "# Subtract\n",
    "df_with_subtraction = df_with_addition.withColumn(\"subtraction\", subtract_udf(df[\"x\"], df[\"y\"]))\n",
    "# Multiply\n",
    "df_with_multiplication = df_with_subtraction.withColumn(\"multiplication\", multiply_udf(df[\"x\"], df[\"y\"]))\n",
    "# Divide\n",
    "df_with_division = df_with_multiplication.withColumn(\"division\", divide_udf(df[\"x\"], df[\"y\"]))\n",
    "\n",
    "df_with_addition.show()\n",
    "df_with_subtraction.show()\n",
    "df_with_multiplication.show()\n",
    "df_with_division.show()"
   ]
  }
 ],
 "metadata": {
  "application/vnd.databricks.v1+notebook": {
   "dashboards": [],
   "environmentMetadata": null,
   "language": "python",
   "notebookMetadata": {
    "pythonIndentUnit": 4
   },
   "notebookName": "calculator",
   "widgets": {}
  }
 },
 "nbformat": 4,
 "nbformat_minor": 0
}
