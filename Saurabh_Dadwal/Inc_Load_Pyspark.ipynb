{
 "cells": [
  {
   "cell_type": "code",
   "execution_count": 0,
   "metadata": {
    "application/vnd.databricks.v1+cell": {
     "cellMetadata": {
      "byteLimit": 2048000,
      "rowLimit": 10000
     },
     "inputWidgets": {},
     "nuid": "7d421f1a-874a-48b4-9dff-96d6542cf0d7",
     "showTitle": false,
     "title": ""
    }
   },
   "outputs": [],
   "source": [
    "from pyspark.sql import SparkSession\n",
    "from pyspark.sql.functions import col\n",
    "\n",
    "spark = SparkSession.builder.appName(\"Inc Load\").getOrCreate()\n",
    "\n",
    "# Define the initial data\n",
    "initial_data = [\n",
    "    (1, \"Alice\", \"2024-08-01 10:00:00\"),\n",
    "    (2, \"Bob\", \"2024-08-02 11:30:00\"),\n",
    "    (3, \"Charlie\", \"2024-08-03 14:15:00\"),\n",
    "    (4, \"David\", \"2024-08-04 09:45:00\"),\n",
    "    (5, \"Eva\", \"2024-08-05 13:00:00\")\n",
    "]\n",
    "\n",
    "#Create a DataFrame\n",
    "columns = [\"id\", \"name\", \"last_modified\"]\n",
    "df_initial = spark.createDataFrame(initial_data, columns)\n",
    "\n",
    "# Write the initial data to a Delta table\n",
    "df_initial.write.format(\"delta\").mode(\"overwrite\").save(\"dbfs:/user/hive/warehouse/load\")\n",
    "\n",
    "\n",
    "df_initial=df_initial.withColumn(\"last_modified\",col(\"last_modified\").cast(\"timestamp\"))\n",
    "\n",
    "watermark_df = df_initial.selectExpr(\"max(last_modified) as max_last_modified\")\n",
    "\n",
    "# Write the watermark value to another Delta table\n",
    "watermark_df.write.format(\"delta\").mode(\"overwrite\").save(\"dbfs:/user/hive/warehouse/watermark_table\")\n",
    "\n",
    "\n",
    "# Define the incremental data\n",
    "incremental_data = [\n",
    "    (2, \"Bob Smith\", \"2024-08-06 11:30:00\"),  # Updated record for id=2\n",
    "    (5, \"Eva\", \"2024-08-07 13:00:00\"),        # Updated record for id=5\n",
    "    (6, \"Frank\", \"2024-08-07 15:00:00\"),      # New record\n",
    "    (7, \"Grace\", \"2024-08-07 16:00:00\")       # New record\n",
    "]\n",
    "\n",
    "# Create a DataFrame\n",
    "df_incremental = spark.createDataFrame(incremental_data, columns)\n",
    "\n",
    "df_incremental=df_incremental.withColumn(\"last_modified\",col(\"last_modified\").cast(\"timestamp\"))\n",
    "\n",
    "# Read the last watermark\n",
    "last_load_timestamp = spark.read.format(\"delta\").load(\"dbfs:/user/hive/warehouse/watermark_table\").selectExpr(\"max(max_last_modified)\").collect()[0][0]\n",
    "\n",
    "# Filter the incremental data based on the last load timestamp\n",
    "new_changes_df = df_incremental.filter(f\"last_modified > '{last_load_timestamp}'\")\n",
    "\n",
    "# Load the Delta table\n",
    "from delta.tables import DeltaTable\n",
    "deltaTable = DeltaTable.forPath(spark, \"dbfs:/user/hive/warehouse/load\")\n",
    "\n",
    "# Merge new changes into the existing Delta table\n",
    "deltaTable.alias(\"target\").merge(\n",
    "    new_changes_df.alias(\"source\"),\n",
    "    \"target.id = source.id\"\n",
    ").whenMatchedUpdateAll().whenNotMatchedInsertAll().execute()\n",
    "\n",
    "# Update the watermark with the new last_modified\n",
    "new_last_modified = new_changes_df.selectExpr(\"max(last_modified) as max_last_modified\").collect()[0][0]\n",
    "new_last_modified\n",
    "spark.createDataFrame([(new_last_modified,)], [\"max_last_modified\"] ).write.format(\"delta\").mode(\"overwrite\").save(\"dbfs:/user/hive/warehouse/watermark_table\")"
   ]
  }
 ],
 "metadata": {
  "application/vnd.databricks.v1+notebook": {
   "dashboards": [],
   "environmentMetadata": null,
   "language": "python",
   "notebookMetadata": {
    "pythonIndentUnit": 4
   },
   "notebookName": "Inc_Load_Pyspark",
   "widgets": {}
  }
 },
 "nbformat": 4,
 "nbformat_minor": 0
}
