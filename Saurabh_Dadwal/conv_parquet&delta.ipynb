{
 "cells": [
  {
   "cell_type": "code",
   "execution_count": 0,
   "metadata": {
    "application/vnd.databricks.v1+cell": {
     "cellMetadata": {
      "byteLimit": 2048000,
      "rowLimit": 10000
     },
     "inputWidgets": {},
     "nuid": "b9922afc-45dd-41ab-bafb-a7a8b5af55c0",
     "showTitle": false,
     "title": ""
    }
   },
   "outputs": [],
   "source": [
    "df = spark.read.csv(\"/FileStore/tables/case_deaths_uk_ind_only-1.csv\",header='true', inferSchema='True')"
   ]
  },
  {
   "cell_type": "code",
   "execution_count": 0,
   "metadata": {
    "application/vnd.databricks.v1+cell": {
     "cellMetadata": {
      "byteLimit": 2048000,
      "rowLimit": 10000
     },
     "inputWidgets": {},
     "nuid": "6ddf6e12-ed29-4b78-91dc-198d2784d6c2",
     "showTitle": false,
     "title": ""
    }
   },
   "outputs": [],
   "source": [
    "df.write.format(\"parquet\").save(\"/Workspace/Users/saurabhdadwal886@gmail.com/Untitled Notebook 2024-08-21 15:34:30\")"
   ]
  },
  {
   "cell_type": "code",
   "execution_count": 0,
   "metadata": {
    "application/vnd.databricks.v1+cell": {
     "cellMetadata": {
      "byteLimit": 2048000,
      "rowLimit": 10000
     },
     "inputWidgets": {},
     "nuid": "0c3ed63e-235c-4de2-b059-c88e429efc62",
     "showTitle": false,
     "title": ""
    }
   },
   "outputs": [
    {
     "output_type": "stream",
     "name": "stdout",
     "output_type": "stream",
     "text": [
      "+-------+------------+---------+----------+---------------+-----------+----------+-----------+--------------------+\n|country|country_code|continent|population|      indicator|daily_count|      date|rate_14_day|              source|\n+-------+------------+---------+----------+---------------+-----------+----------+-----------+--------------------+\n|  India|         IND|     Asia|1380004385|confirmed cases|          0|2020-01-02|       NULL|Epidemic intellig...|\n|  India|         IND|     Asia|1380004385|confirmed cases|          0|2020-01-03|       NULL|Epidemic intellig...|\n|  India|         IND|     Asia|1380004385|confirmed cases|          0|2020-01-04|       NULL|Epidemic intellig...|\n|  India|         IND|     Asia|1380004385|confirmed cases|          0|2020-01-05|       NULL|Epidemic intellig...|\n|  India|         IND|     Asia|1380004385|confirmed cases|          0|2020-01-06|       NULL|Epidemic intellig...|\n|  India|         IND|     Asia|1380004385|confirmed cases|          0|2020-01-07|       NULL|Epidemic intellig...|\n|  India|         IND|     Asia|1380004385|confirmed cases|          0|2020-01-08|       NULL|Epidemic intellig...|\n|  India|         IND|     Asia|1380004385|confirmed cases|          0|2020-01-09|       NULL|Epidemic intellig...|\n|  India|         IND|     Asia|1380004385|confirmed cases|          0|2020-01-10|       NULL|Epidemic intellig...|\n|  India|         IND|     Asia|1380004385|confirmed cases|          0|2020-01-11|       NULL|Epidemic intellig...|\n|  India|         IND|     Asia|1380004385|confirmed cases|          0|2020-01-12|       NULL|Epidemic intellig...|\n|  India|         IND|     Asia|1380004385|confirmed cases|          0|2020-01-13|       NULL|Epidemic intellig...|\n|  India|         IND|     Asia|1380004385|confirmed cases|          0|2020-01-14|       NULL|Epidemic intellig...|\n|  India|         IND|     Asia|1380004385|confirmed cases|          0|2020-01-15|        0.0|Epidemic intellig...|\n|  India|         IND|     Asia|1380004385|confirmed cases|          0|2020-01-16|        0.0|Epidemic intellig...|\n|  India|         IND|     Asia|1380004385|confirmed cases|          0|2020-01-17|        0.0|Epidemic intellig...|\n|  India|         IND|     Asia|1380004385|confirmed cases|          0|2020-01-18|        0.0|Epidemic intellig...|\n|  India|         IND|     Asia|1380004385|confirmed cases|          0|2020-01-19|        0.0|Epidemic intellig...|\n|  India|         IND|     Asia|1380004385|confirmed cases|          0|2020-01-20|        0.0|Epidemic intellig...|\n|  India|         IND|     Asia|1380004385|confirmed cases|          0|2020-01-21|        0.0|Epidemic intellig...|\n+-------+------------+---------+----------+---------------+-----------+----------+-----------+--------------------+\nonly showing top 20 rows\n\n"
     ]
    }
   ],
   "source": [
    "df.show()"
   ]
  },
  {
   "cell_type": "code",
   "execution_count": 0,
   "metadata": {
    "application/vnd.databricks.v1+cell": {
     "cellMetadata": {
      "byteLimit": 2048000,
      "rowLimit": 10000
     },
     "inputWidgets": {},
     "nuid": "3a0ac06c-abda-46f8-aa64-0a5d9e7d49bd",
     "showTitle": false,
     "title": ""
    }
   },
   "outputs": [],
   "source": [
    "df.write.format(\"delta\").saveAsTable(\"default.deltadata\")"
   ]
  },
  {
   "cell_type": "code",
   "execution_count": 0,
   "metadata": {
    "application/vnd.databricks.v1+cell": {
     "cellMetadata": {
      "byteLimit": 2048000,
      "rowLimit": 10000
     },
     "inputWidgets": {},
     "nuid": "bc01044f-16ac-4eb4-8a4e-972021c61e78",
     "showTitle": false,
     "title": ""
    }
   },
   "outputs": [
    {
     "output_type": "stream",
     "name": "stdout",
     "output_type": "stream",
     "text": [
      "+-------+------------+---------+----------+---------------+-----------+----------+-----------+--------------------+\n|country|country_code|continent|population|      indicator|daily_count|      date|rate_14_day|              source|\n+-------+------------+---------+----------+---------------+-----------+----------+-----------+--------------------+\n|  India|         IND|     Asia|1380004385|confirmed cases|          0|2020-01-02|       NULL|Epidemic intellig...|\n|  India|         IND|     Asia|1380004385|confirmed cases|          0|2020-01-03|       NULL|Epidemic intellig...|\n|  India|         IND|     Asia|1380004385|confirmed cases|          0|2020-01-04|       NULL|Epidemic intellig...|\n|  India|         IND|     Asia|1380004385|confirmed cases|          0|2020-01-05|       NULL|Epidemic intellig...|\n|  India|         IND|     Asia|1380004385|confirmed cases|          0|2020-01-06|       NULL|Epidemic intellig...|\n|  India|         IND|     Asia|1380004385|confirmed cases|          0|2020-01-07|       NULL|Epidemic intellig...|\n|  India|         IND|     Asia|1380004385|confirmed cases|          0|2020-01-08|       NULL|Epidemic intellig...|\n|  India|         IND|     Asia|1380004385|confirmed cases|          0|2020-01-09|       NULL|Epidemic intellig...|\n|  India|         IND|     Asia|1380004385|confirmed cases|          0|2020-01-10|       NULL|Epidemic intellig...|\n|  India|         IND|     Asia|1380004385|confirmed cases|          0|2020-01-11|       NULL|Epidemic intellig...|\n|  India|         IND|     Asia|1380004385|confirmed cases|          0|2020-01-12|       NULL|Epidemic intellig...|\n|  India|         IND|     Asia|1380004385|confirmed cases|          0|2020-01-13|       NULL|Epidemic intellig...|\n|  India|         IND|     Asia|1380004385|confirmed cases|          0|2020-01-14|       NULL|Epidemic intellig...|\n|  India|         IND|     Asia|1380004385|confirmed cases|          0|2020-01-15|        0.0|Epidemic intellig...|\n|  India|         IND|     Asia|1380004385|confirmed cases|          0|2020-01-16|        0.0|Epidemic intellig...|\n|  India|         IND|     Asia|1380004385|confirmed cases|          0|2020-01-17|        0.0|Epidemic intellig...|\n|  India|         IND|     Asia|1380004385|confirmed cases|          0|2020-01-18|        0.0|Epidemic intellig...|\n|  India|         IND|     Asia|1380004385|confirmed cases|          0|2020-01-19|        0.0|Epidemic intellig...|\n|  India|         IND|     Asia|1380004385|confirmed cases|          0|2020-01-20|        0.0|Epidemic intellig...|\n|  India|         IND|     Asia|1380004385|confirmed cases|          0|2020-01-21|        0.0|Epidemic intellig...|\n+-------+------------+---------+----------+---------------+-----------+----------+-----------+--------------------+\nonly showing top 20 rows\n\n"
     ]
    }
   ],
   "source": [
    "df.show()\n"
   ]
  }
 ],
 "metadata": {
  "application/vnd.databricks.v1+notebook": {
   "dashboards": [],
   "environmentMetadata": null,
   "language": "python",
   "notebookMetadata": {
    "pythonIndentUnit": 4
   },
   "notebookName": "conv_parquet&delta",
   "widgets": {}
  }
 },
 "nbformat": 4,
 "nbformat_minor": 0
}
