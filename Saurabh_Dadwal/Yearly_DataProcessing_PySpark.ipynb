{
 "cells": [
  {
   "cell_type": "code",
   "execution_count": 0,
   "metadata": {
    "application/vnd.databricks.v1+cell": {
     "cellMetadata": {
      "byteLimit": 2048000,
      "rowLimit": 10000
     },
     "inputWidgets": {},
     "nuid": "5cb26583-cee8-48f5-b0c3-4c67aafb575a",
     "showTitle": false,
     "title": ""
    }
   },
   "outputs": [
    {
     "output_type": "stream",
     "name": "stdout",
     "output_type": "stream",
     "text": [
      "+------------+------------------+---------------------+--------+---------+--------------+---------+-----------------+---------+--------------------+------------+---------+----------------+\n|SalesOrderID|SalesOrderDetailID|CarrierTrackingNumber|OrderQty|ProductID|SpecialOfferID|UnitPrice|UnitPriceDiscount|LineTotal|             rowguid|ModifiedDate|OrderYear|PreviousYearDate|\n+------------+------------------+---------------------+--------+---------+--------------+---------+-----------------+---------+--------------------+------------+---------+----------------+\n|       45266|              5717|         D9B4-4694-99|       2|      777|             1|  2024.99|             0.00|  4049.99|20FCE9BD-30D2-44A...|  2012-01-01|     2012|      2011-01-01|\n|       45266|              5718|         D9B4-4694-99|       3|      774|             1|  2039.99|             0.00|  6119.98|551CF5A6-07B5-47B...|  2012-01-01|     2012|      2011-01-01|\n|       45266|              5719|         D9B4-4694-99|       2|      775|             1|  2024.99|             0.00|  4049.99|33DB8C36-5806-4F0...|  2012-01-01|     2012|      2011-01-01|\n|       45266|              5720|         D9B4-4694-99|       1|      743|             1|   714.70|             0.00|   714.70|60B60704-DB63-454...|  2012-01-01|     2012|      2011-01-01|\n|       45266|              5721|         D9B4-4694-99|       2|      778|             1|  2024.99|             0.00|  4049.99|246FBC32-9872-4E0...|  2012-01-01|     2012|      2011-01-01|\n|       45266|              5722|         D9B4-4694-99|       2|      772|             1|  2039.99|             0.00|  4079.99|0DA19F65-1B20-4CD...|  2012-01-01|     2012|      2011-01-01|\n|       45266|              5723|         D9B4-4694-99|       2|      748|             1|   722.59|             0.00|  1445.19|063424B3-C56F-40D...|  2012-01-01|     2012|      2011-01-01|\n|       45267|              5724|         E20E-4F50-AC|       1|      762|             1|   419.46|             0.00|   419.46|C3DB9888-2CA6-4B4...|  2012-01-01|     2012|      2011-01-01|\n|       45267|              5725|         E20E-4F50-AC|       1|      770|             1|   419.46|             0.00|   419.46|14F44AAB-E81A-487...|  2012-01-01|     2012|      2011-01-01|\n|       45267|              5726|         E20E-4F50-AC|       3|      758|             1|   874.79|             0.00|  2624.38|A1F6B819-1743-47A...|  2012-01-01|     2012|      2011-01-01|\n|       45268|              5727|         2C70-4779-BC|       1|      766|             1|   419.46|             0.00|   419.46|1D159FBA-5882-46F...|  2012-01-01|     2012|      2011-01-01|\n|       45268|              5728|         2C70-4779-BC|       1|      760|             1|   419.46|             0.00|   419.46|D22B1B6A-EA72-4A4...|  2012-01-01|     2012|      2011-01-01|\n|       45269|              5729|         74A3-4D71-A7|       1|      775|             1|  2024.99|             0.00|  2024.99|C1BF7F1C-8B1F-4CD...|  2012-01-01|     2012|      2011-01-01|\n|       45270|              5730|         61D0-418B-8C|       2|      766|             1|   419.46|             0.00|   838.92|61B7654D-8B76-410...|  2012-01-01|     2012|      2011-01-01|\n|       45270|              5731|         61D0-418B-8C|       2|      712|             1|     5.19|             0.00|    10.37|3234C85C-8D85-484...|  2012-01-01|     2012|      2011-01-01|\n|       45270|              5732|         61D0-418B-8C|       1|      763|             1|   419.46|             0.00|   419.46|27995566-F823-4ED...|  2012-01-01|     2012|      2011-01-01|\n|       45270|              5733|         61D0-418B-8C|       1|      765|             1|   419.46|             0.00|   419.46|1D844063-B584-48A...|  2012-01-01|     2012|      2011-01-01|\n|       45270|              5734|         61D0-418B-8C|       3|      749|             1|  2146.96|             0.00|  6440.89|A9117C30-3307-4A6...|  2012-01-01|     2012|      2011-01-01|\n|       45270|              5735|         61D0-418B-8C|       1|      767|             1|   419.46|             0.00|   419.46|C49B10A1-FFFE-4E6...|  2012-01-01|     2012|      2011-01-01|\n|       45270|              5736|         61D0-418B-8C|       1|      764|             1|   419.46|             0.00|   419.46|389D4739-60B1-435...|  2012-01-01|     2012|      2011-01-01|\n+------------+------------------+---------------------+--------+---------+--------------+---------+-----------------+---------+--------------------+------------+---------+----------------+\nonly showing top 20 rows\n\n"
     ]
    }
   ],
   "source": [
    "from pyspark.sql.types import StructType, StructField, StringType, IntegerType, DecimalType, DateType\n",
    "from pyspark.sql import functions as F\n",
    "from pyspark.sql import Window\n",
    "from pyspark.sql.functions import year, date_sub, col\n",
    "\n",
    "# Define the schema\n",
    "schema = StructType([\n",
    "    StructField(\"SalesOrderID\", IntegerType(), True),\n",
    "    StructField(\"SalesOrderDetailID\", IntegerType(), True),\n",
    "    StructField(\"CarrierTrackingNumber\", StringType(), True),\n",
    "    StructField(\"OrderQty\", IntegerType(), True),\n",
    "    StructField(\"ProductID\", IntegerType(), True),\n",
    "    StructField(\"SpecialOfferID\", IntegerType(), True),\n",
    "    StructField(\"UnitPrice\", DecimalType(10, 2), True),\n",
    "    StructField(\"UnitPriceDiscount\", DecimalType(10, 2), True),\n",
    "    StructField(\"LineTotal\", DecimalType(20, 2), True),\n",
    "    StructField(\"rowguid\", StringType(), True),\n",
    "    StructField(\"ModifiedDate\", DateType(), True)\n",
    "])\n",
    "\n",
    "# Load the data with the schema\n",
    "df = spark.read.format('csv').option('header', 'false').schema(schema).load(\"/FileStore/tables/Sales_SalesOrderDetail.csv\")\n",
    "\n",
    "# Show the first few rows to verify the data\n",
    "# df.show(5)\n",
    "\n",
    "# Extract year from the date column (assuming there is a date column named 'OrderDate')\n",
    "df = df.withColumn(\"OrderYear\", year(col(\"ModifiedDate\")))\n",
    "\n",
    "# Get the distinct years in the data\n",
    "years = df.select(\"OrderYear\").distinct().collect()\n",
    "years_list = [row[\"OrderYear\"] for row in years]\n",
    "\n",
    "# Create a dictionary to hold DataFrames for each year\n",
    "yearly_data = {}\n",
    "\n",
    "for y in years_list:\n",
    "    # Filter the data for each year and subtract one year\n",
    "    df_year = df.filter(col(\"OrderYear\") == y)\n",
    "    df_previous_year = df_year.withColumn(\"PreviousYearDate\", date_sub(col(\"ModifiedDate\"), 365))\n",
    "    \n",
    "    # Store the DataFrame in the dictionary\n",
    "    yearly_data[y] = df_previous_year\n",
    "\n",
    "# Show the data for a specific year (e.g., 2012)\n",
    "if 2012 in yearly_data:\n",
    "    yearly_data[2012].show()\n",
    "\n",
    "# Create Separate Datasets for Each Year\n",
    "for y in years_list:\n",
    "    yearly_data[y].write.format(\"delta\").mode(\"overwrite\").saveAsTable(f\"default.sales_data_{y}\", header=True)"
   ]
  }
 ],
 "metadata": {
  "application/vnd.databricks.v1+notebook": {
   "dashboards": [],
   "environmentMetadata": null,
   "language": "python",
   "notebookMetadata": {
    "mostRecentlyExecutedCommandWithImplicitDF": {
     "commandId": 3695600437920382,
     "dataframes": [
      "_sqldf"
     ]
    },
    "pythonIndentUnit": 4
   },
   "notebookName": "Yearly_DataProcessing_PySpark",
   "widgets": {}
  }
 },
 "nbformat": 4,
 "nbformat_minor": 0
}
