{
 "cells": [
  {
   "cell_type": "code",
   "execution_count": 0,
   "metadata": {
    "application/vnd.databricks.v1+cell": {
     "cellMetadata": {
      "byteLimit": 2048000,
      "rowLimit": 10000
     },
     "inputWidgets": {},
     "nuid": "3a02ba20-14b8-4299-bab0-f4ab03961ba0",
     "showTitle": false,
     "title": ""
    }
   },
   "outputs": [],
   "source": [
    "from pyspark.sql.types import StructType, StructField, StringType, IntegerType, DecimalType, DateType\n",
    "from pyspark.sql import functions as F\n",
    "from pyspark.sql import Window\n",
    "\n",
    "# Define the schema\n",
    "schema = StructType([\n",
    "    StructField(\"SalesOrderID\", IntegerType(), True),\n",
    "    StructField(\"SalesOrderDetailID\", IntegerType(), True),\n",
    "    StructField(\"CarrierTrackingNumber\", StringType(), True),\n",
    "    StructField(\"OrderQty\", IntegerType(), True),\n",
    "    StructField(\"ProductID\", IntegerType(), True),\n",
    "    StructField(\"SpecialOfferID\", IntegerType(), True),\n",
    "    StructField(\"UnitPrice\", DecimalType(10, 2), True),\n",
    "    StructField(\"UnitPriceDiscount\", DecimalType(10, 2), True),\n",
    "    StructField(\"LineTotal\", DecimalType(20, 2), True),\n",
    "    StructField(\"rowguid\", StringType(), True),\n",
    "    StructField(\"ModifiedDate\", DateType(), True)\n",
    "])\n",
    "\n",
    "# Load the data with the schema\n",
    "sales_order_detail_df = spark.read.format('csv').option('header', 'false').schema(schema).load(\"/FileStore/tables/Sales_SalesOrderDetail__2_.csv\")\n",
    "sales_order_detail_df.createOrReplaceTempView(\"sales_order_detail\")"
   ]
  },
  {
   "cell_type": "code",
   "execution_count": 0,
   "metadata": {
    "application/vnd.databricks.v1+cell": {
     "cellMetadata": {
      "byteLimit": 2048000,
      "implicitDf": true,
      "rowLimit": 10000
     },
     "inputWidgets": {},
     "nuid": "be6c1670-922d-4b06-8c71-379e661225f5",
     "showTitle": false,
     "title": ""
    }
   },
   "outputs": [
    {
     "output_type": "display_data",
     "data": {
      "text/html": [
       "<style scoped>\n",
       "  .table-result-container {\n",
       "    max-height: 300px;\n",
       "    overflow: auto;\n",
       "  }\n",
       "  table, th, td {\n",
       "    border: 1px solid black;\n",
       "    border-collapse: collapse;\n",
       "  }\n",
       "  th, td {\n",
       "    padding: 5px;\n",
       "  }\n",
       "  th {\n",
       "    text-align: left;\n",
       "  }\n",
       "</style><div class='table-result-container'><table class='table-result'><thead style='background-color: white'><tr><th>OrderYear</th><th>OrderMonth</th><th>HighestSale</th></tr></thead><tbody><tr><td>2011</td><td>5</td><td>12149.96</td></tr><tr><td>2011</td><td>6</td><td>3578.27</td></tr><tr><td>2011</td><td>7</td><td>27055.76</td></tr><tr><td>2011</td><td>8</td><td>21101.79</td></tr><tr><td>2011</td><td>9</td><td>3578.27</td></tr><tr><td>2011</td><td>10</td><td>23190.65</td></tr><tr><td>2011</td><td>11</td><td>3578.27</td></tr><tr><td>2011</td><td>12</td><td>16319.95</td></tr><tr><td>2012</td><td>1</td><td>20249.94</td></tr><tr><td>2012</td><td>2</td><td>14279.96</td></tr><tr><td>2012</td><td>3</td><td>23020.13</td></tr><tr><td>2012</td><td>4</td><td>9944.66</td></tr><tr><td>2012</td><td>5</td><td>16665.60</td></tr><tr><td>2012</td><td>6</td><td>19149.76</td></tr><tr><td>2012</td><td>7</td><td>16665.60</td></tr><tr><td>2012</td><td>8</td><td>13976.49</td></tr><tr><td>2012</td><td>9</td><td>14128.74</td></tr><tr><td>2012</td><td>10</td><td>15306.13</td></tr><tr><td>2012</td><td>11</td><td>12951.34</td></tr><tr><td>2012</td><td>12</td><td>12811.78</td></tr><tr><td>2013</td><td>1</td><td>11780.44</td></tr><tr><td>2013</td><td>2</td><td>12294.59</td></tr><tr><td>2013</td><td>3</td><td>14660.10</td></tr><tr><td>2013</td><td>4</td><td>13089.38</td></tr><tr><td>2013</td><td>5</td><td>26159.21</td></tr><tr><td>2013</td><td>6</td><td>22422.18</td></tr><tr><td>2013</td><td>7</td><td>22963.37</td></tr><tr><td>2013</td><td>8</td><td>27893.62</td></tr><tr><td>2013</td><td>9</td><td>23667.85</td></tr><tr><td>2013</td><td>10</td><td>17616.37</td></tr><tr><td>2013</td><td>11</td><td>15653.67</td></tr><tr><td>2013</td><td>12</td><td>20607.31</td></tr><tr><td>2014</td><td>1</td><td>15109.04</td></tr><tr><td>2014</td><td>2</td><td>2443.35</td></tr><tr><td>2014</td><td>3</td><td>19186.12</td></tr><tr><td>2014</td><td>4</td><td>2443.35</td></tr><tr><td>2014</td><td>5</td><td>19136.14</td></tr><tr><td>2014</td><td>6</td><td>159.00</td></tr></tbody></table></div>"
      ]
     },
     "metadata": {
      "application/vnd.databricks.v1+output": {
       "addedWidgets": {},
       "aggData": [],
       "aggError": "",
       "aggOverflow": false,
       "aggSchema": [],
       "aggSeriesLimitReached": false,
       "aggType": "",
       "arguments": {},
       "columnCustomDisplayInfos": {},
       "data": [
        [
         2011,
         5,
         "12149.96"
        ],
        [
         2011,
         6,
         "3578.27"
        ],
        [
         2011,
         7,
         "27055.76"
        ],
        [
         2011,
         8,
         "21101.79"
        ],
        [
         2011,
         9,
         "3578.27"
        ],
        [
         2011,
         10,
         "23190.65"
        ],
        [
         2011,
         11,
         "3578.27"
        ],
        [
         2011,
         12,
         "16319.95"
        ],
        [
         2012,
         1,
         "20249.94"
        ],
        [
         2012,
         2,
         "14279.96"
        ],
        [
         2012,
         3,
         "23020.13"
        ],
        [
         2012,
         4,
         "9944.66"
        ],
        [
         2012,
         5,
         "16665.60"
        ],
        [
         2012,
         6,
         "19149.76"
        ],
        [
         2012,
         7,
         "16665.60"
        ],
        [
         2012,
         8,
         "13976.49"
        ],
        [
         2012,
         9,
         "14128.74"
        ],
        [
         2012,
         10,
         "15306.13"
        ],
        [
         2012,
         11,
         "12951.34"
        ],
        [
         2012,
         12,
         "12811.78"
        ],
        [
         2013,
         1,
         "11780.44"
        ],
        [
         2013,
         2,
         "12294.59"
        ],
        [
         2013,
         3,
         "14660.10"
        ],
        [
         2013,
         4,
         "13089.38"
        ],
        [
         2013,
         5,
         "26159.21"
        ],
        [
         2013,
         6,
         "22422.18"
        ],
        [
         2013,
         7,
         "22963.37"
        ],
        [
         2013,
         8,
         "27893.62"
        ],
        [
         2013,
         9,
         "23667.85"
        ],
        [
         2013,
         10,
         "17616.37"
        ],
        [
         2013,
         11,
         "15653.67"
        ],
        [
         2013,
         12,
         "20607.31"
        ],
        [
         2014,
         1,
         "15109.04"
        ],
        [
         2014,
         2,
         "2443.35"
        ],
        [
         2014,
         3,
         "19186.12"
        ],
        [
         2014,
         4,
         "2443.35"
        ],
        [
         2014,
         5,
         "19136.14"
        ],
        [
         2014,
         6,
         "159.00"
        ]
       ],
       "datasetInfos": [],
       "dbfsResultPath": null,
       "isJsonSchema": true,
       "metadata": {
        "dataframeName": "_sqldf",
        "executionCount": 33
       },
       "overflow": false,
       "plotOptions": {
        "customPlotOptions": {},
        "displayType": "table",
        "pivotAggregation": null,
        "pivotColumns": null,
        "xColumns": null,
        "yColumns": null
       },
       "removedWidgets": [],
       "schema": [
        {
         "metadata": "{}",
         "name": "OrderYear",
         "type": "\"integer\""
        },
        {
         "metadata": "{}",
         "name": "OrderMonth",
         "type": "\"integer\""
        },
        {
         "metadata": "{}",
         "name": "HighestSale",
         "type": "\"decimal(20,2)\""
        }
       ],
       "type": "table"
      }
     },
     "output_type": "display_data"
    }
   ],
   "source": [
    "%sql\n",
    "-- SQL Query to extract year and month from ModifiedDate\n",
    "CREATE OR REPLACE TEMP VIEW sales_order_with_date AS\n",
    "SELECT *,\n",
    "       YEAR(ModifiedDate) AS OrderYear,\n",
    "       MONTH(ModifiedDate) AS OrderMonth\n",
    "FROM sales_order_detail;\n",
    "\n",
    "-- SQL Query to calculate total sale per SalesOrderID per month\n",
    "CREATE OR REPLACE TEMP VIEW monthly_sales AS\n",
    "SELECT OrderYear, \n",
    "       OrderMonth, \n",
    "       MAX(LineTotal) AS HighestSale\n",
    "FROM sales_order_with_date\n",
    "GROUP BY OrderYear, OrderMonth;\n",
    "\n",
    "-- SQL Query to find the highest sale for each month using window function\n",
    "WITH ranked_sales AS (\n",
    "    SELECT *,\n",
    "           RANK() OVER (PARTITION BY OrderYear, OrderMonth ORDER BY HighestSale DESC) AS Rank\n",
    "    FROM monthly_sales\n",
    ")\n",
    "-- Filter to get the highest sale for each month\n",
    "SELECT OrderYear, OrderMonth, HighestSale\n",
    "FROM ranked_sales\n",
    "WHERE Rank = 1\n",
    "ORDER BY OrderYear, OrderMonth;"
   ]
  }
 ],
 "metadata": {
  "application/vnd.databricks.v1+notebook": {
   "dashboards": [],
   "environmentMetadata": null,
   "language": "python",
   "notebookMetadata": {
    "mostRecentlyExecutedCommandWithImplicitDF": {
     "commandId": 768760291719350,
     "dataframes": [
      "_sqldf"
     ]
    },
    "pythonIndentUnit": 4
   },
   "notebookName": "HighestSale_UsingSQL",
   "widgets": {}
  }
 },
 "nbformat": 4,
 "nbformat_minor": 0
}
