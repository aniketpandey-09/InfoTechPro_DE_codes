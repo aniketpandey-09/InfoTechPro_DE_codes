{
 "cells": [
  {
   "cell_type": "code",
   "execution_count": 0,
   "metadata": {
    "application/vnd.databricks.v1+cell": {
     "cellMetadata": {
      "byteLimit": 2048000,
      "implicitDf": true,
      "rowLimit": 10000
     },
     "inputWidgets": {},
     "nuid": "2a22b254-215e-4cdb-bfab-3ecabde080b6",
     "showTitle": false,
     "title": ""
    }
   },
   "outputs": [
    {
     "output_type": "display_data",
     "data": {
      "text/html": [
       "<style scoped>\n",
       "  .table-result-container {\n",
       "    max-height: 300px;\n",
       "    overflow: auto;\n",
       "  }\n",
       "  table, th, td {\n",
       "    border: 1px solid black;\n",
       "    border-collapse: collapse;\n",
       "  }\n",
       "  th, td {\n",
       "    padding: 5px;\n",
       "  }\n",
       "  th {\n",
       "    text-align: left;\n",
       "  }\n",
       "</style><div class='table-result-container'><table class='table-result'><thead style='background-color: white'><tr></tr></thead><tbody></tbody></table></div>"
      ]
     },
     "metadata": {
      "application/vnd.databricks.v1+output": {
       "addedWidgets": {},
       "aggData": [],
       "aggError": "",
       "aggOverflow": false,
       "aggSchema": [],
       "aggSeriesLimitReached": false,
       "aggType": "",
       "arguments": {},
       "columnCustomDisplayInfos": {},
       "data": [],
       "datasetInfos": [],
       "dbfsResultPath": null,
       "isJsonSchema": true,
       "metadata": {
        "dataframeName": null
       },
       "overflow": false,
       "plotOptions": {
        "customPlotOptions": {},
        "displayType": "table",
        "pivotAggregation": null,
        "pivotColumns": null,
        "xColumns": null,
        "yColumns": null
       },
       "removedWidgets": [],
       "schema": [],
       "type": "table"
      }
     },
     "output_type": "display_data"
    }
   ],
   "source": [
    "%sql\n",
    "-- creating table\n",
    "\n",
    "CREATE TABLE employees (\n",
    "    id INT ,\n",
    "    name VARCHAR(50),\n",
    "    gender CHAR(1),\n",
    "    salary DECIMAL(10, 2),\n",
    "    department VARCHAR(50),\n",
    "    hired_date DATE\n",
    ");"
   ]
  },
  {
   "cell_type": "code",
   "execution_count": 0,
   "metadata": {
    "application/vnd.databricks.v1+cell": {
     "cellMetadata": {
      "byteLimit": 2048000,
      "implicitDf": true,
      "rowLimit": 10000
     },
     "inputWidgets": {},
     "nuid": "7c841652-815e-45d9-b7e3-a0cb9d04605b",
     "showTitle": false,
     "title": ""
    }
   },
   "outputs": [
    {
     "output_type": "display_data",
     "data": {
      "text/html": [
       "<style scoped>\n",
       "  .table-result-container {\n",
       "    max-height: 300px;\n",
       "    overflow: auto;\n",
       "  }\n",
       "  table, th, td {\n",
       "    border: 1px solid black;\n",
       "    border-collapse: collapse;\n",
       "  }\n",
       "  th, td {\n",
       "    padding: 5px;\n",
       "  }\n",
       "  th {\n",
       "    text-align: left;\n",
       "  }\n",
       "</style><div class='table-result-container'><table class='table-result'><thead style='background-color: white'><tr><th>num_affected_rows</th><th>num_inserted_rows</th></tr></thead><tbody><tr><td>20</td><td>20</td></tr></tbody></table></div>"
      ]
     },
     "metadata": {
      "application/vnd.databricks.v1+output": {
       "addedWidgets": {},
       "aggData": [],
       "aggError": "",
       "aggOverflow": false,
       "aggSchema": [],
       "aggSeriesLimitReached": false,
       "aggType": "",
       "arguments": {},
       "columnCustomDisplayInfos": {},
       "data": [
        [
         20,
         20
        ]
       ],
       "datasetInfos": [],
       "dbfsResultPath": null,
       "isJsonSchema": true,
       "metadata": {
        "dataframeName": "_sqldf",
        "executionCount": 2
       },
       "overflow": false,
       "plotOptions": {
        "customPlotOptions": {},
        "displayType": "table",
        "pivotAggregation": null,
        "pivotColumns": null,
        "xColumns": null,
        "yColumns": null
       },
       "removedWidgets": [],
       "schema": [
        {
         "metadata": "{}",
         "name": "num_affected_rows",
         "type": "\"long\""
        },
        {
         "metadata": "{}",
         "name": "num_inserted_rows",
         "type": "\"long\""
        }
       ],
       "type": "table"
      }
     },
     "output_type": "display_data"
    }
   ],
   "source": [
    "%sql\n",
    "INSERT INTO employees (id, name, gender, salary, department, hired_date) VALUES\n",
    "(1, 'Alice', 'F', 70000.00, 'HR', '2022-01-15'),\n",
    "(2, 'Bob', 'M', 80000.00, 'IT', '2021-03-22'),\n",
    "(3, 'Charlie', 'M', 90000.00, 'Finance', '2020-07-10'),\n",
    "(4, 'David', 'M', 60000.00, 'HR', '2019-12-01'),\n",
    "(5, 'Eva', 'F', 75000.00, 'IT', '2022-05-14'),\n",
    "(6, 'Frank', 'M', 85000.00, 'Finance', '2021-08-20'),\n",
    "(7, 'Grace', 'F', 72000.00, 'Marketing', '2022-09-30'),\n",
    "(8, 'Hank', 'M', 69000.00, 'HR', '2020-11-23'),\n",
    "(9, 'Ivy', 'F', 78000.00, 'IT', '2023-01-10'),\n",
    "(10, 'Jack', 'M', 81000.00, 'Finance', '2021-06-05'),\n",
    "(11, 'Kelly', 'F', 70000.00, 'Marketing', '2022-02-18'),\n",
    "(12, 'Liam', 'M', 62000.00, 'HR', '2019-10-12'),\n",
    "(13, 'Mona', 'F', 73000.00, 'IT', '2021-11-25'),\n",
    "(14, 'Nate', 'M', 67000.00, 'Finance', '2022-04-08'),\n",
    "(15, 'Olivia', 'F', 75000.00, 'Marketing', '2022-03-30'),\n",
    "(16, 'Paul', 'M', 68000.00, 'HR', '2020-05-19'),\n",
    "(17, 'Quinn', 'F', 74000.00, 'IT', '2022-08-12'),\n",
    "(18, 'Rachel', 'F', 77000.00, 'Finance', '2021-07-15'),\n",
    "(19, 'Sam', 'M', 72000.00, 'Marketing', '2022-06-01'),\n",
    "(20, 'Tina', 'F', 80000.00, 'IT', '2023-02-25');\n"
   ]
  },
  {
   "cell_type": "code",
   "execution_count": 0,
   "metadata": {
    "application/vnd.databricks.v1+cell": {
     "cellMetadata": {
      "byteLimit": 2048000,
      "implicitDf": true,
      "rowLimit": 10000
     },
     "inputWidgets": {},
     "nuid": "d97d65fe-0367-4f38-9d93-7fcec3ea6eec",
     "showTitle": false,
     "title": ""
    }
   },
   "outputs": [
    {
     "output_type": "display_data",
     "data": {
      "text/html": [
       "<style scoped>\n",
       "  .table-result-container {\n",
       "    max-height: 300px;\n",
       "    overflow: auto;\n",
       "  }\n",
       "  table, th, td {\n",
       "    border: 1px solid black;\n",
       "    border-collapse: collapse;\n",
       "  }\n",
       "  th, td {\n",
       "    padding: 5px;\n",
       "  }\n",
       "  th {\n",
       "    text-align: left;\n",
       "  }\n",
       "</style><div class='table-result-container'><table class='table-result'><thead style='background-color: white'><tr><th>id</th><th>name</th><th>gender</th><th>salary</th><th>department</th><th>hired_date</th></tr></thead><tbody><tr><td>1</td><td>Alice</td><td>F</td><td>70000.00</td><td>HR</td><td>2022-01-15</td></tr><tr><td>2</td><td>Bob</td><td>M</td><td>80000.00</td><td>IT</td><td>2021-03-22</td></tr><tr><td>3</td><td>Charlie</td><td>M</td><td>90000.00</td><td>Finance</td><td>2020-07-10</td></tr><tr><td>4</td><td>David</td><td>M</td><td>60000.00</td><td>HR</td><td>2019-12-01</td></tr><tr><td>5</td><td>Eva</td><td>F</td><td>75000.00</td><td>IT</td><td>2022-05-14</td></tr><tr><td>6</td><td>Frank</td><td>M</td><td>85000.00</td><td>Finance</td><td>2021-08-20</td></tr><tr><td>7</td><td>Grace</td><td>F</td><td>72000.00</td><td>Marketing</td><td>2022-09-30</td></tr><tr><td>8</td><td>Hank</td><td>M</td><td>69000.00</td><td>HR</td><td>2020-11-23</td></tr><tr><td>9</td><td>Ivy</td><td>F</td><td>78000.00</td><td>IT</td><td>2023-01-10</td></tr><tr><td>10</td><td>Jack</td><td>M</td><td>81000.00</td><td>Finance</td><td>2021-06-05</td></tr><tr><td>11</td><td>Kelly</td><td>F</td><td>70000.00</td><td>Marketing</td><td>2022-02-18</td></tr><tr><td>12</td><td>Liam</td><td>M</td><td>62000.00</td><td>HR</td><td>2019-10-12</td></tr><tr><td>13</td><td>Mona</td><td>F</td><td>73000.00</td><td>IT</td><td>2021-11-25</td></tr><tr><td>14</td><td>Nate</td><td>M</td><td>67000.00</td><td>Finance</td><td>2022-04-08</td></tr><tr><td>15</td><td>Olivia</td><td>F</td><td>75000.00</td><td>Marketing</td><td>2022-03-30</td></tr><tr><td>16</td><td>Paul</td><td>M</td><td>68000.00</td><td>HR</td><td>2020-05-19</td></tr><tr><td>17</td><td>Quinn</td><td>F</td><td>74000.00</td><td>IT</td><td>2022-08-12</td></tr><tr><td>18</td><td>Rachel</td><td>F</td><td>77000.00</td><td>Finance</td><td>2021-07-15</td></tr><tr><td>19</td><td>Sam</td><td>M</td><td>72000.00</td><td>Marketing</td><td>2022-06-01</td></tr><tr><td>20</td><td>Tina</td><td>F</td><td>80000.00</td><td>IT</td><td>2023-02-25</td></tr></tbody></table></div>"
      ]
     },
     "metadata": {
      "application/vnd.databricks.v1+output": {
       "addedWidgets": {},
       "aggData": [],
       "aggError": "",
       "aggOverflow": false,
       "aggSchema": [],
       "aggSeriesLimitReached": false,
       "aggType": "",
       "arguments": {},
       "columnCustomDisplayInfos": {},
       "data": [
        [
         1,
         "Alice",
         "F",
         "70000.00",
         "HR",
         "2022-01-15"
        ],
        [
         2,
         "Bob",
         "M",
         "80000.00",
         "IT",
         "2021-03-22"
        ],
        [
         3,
         "Charlie",
         "M",
         "90000.00",
         "Finance",
         "2020-07-10"
        ],
        [
         4,
         "David",
         "M",
         "60000.00",
         "HR",
         "2019-12-01"
        ],
        [
         5,
         "Eva",
         "F",
         "75000.00",
         "IT",
         "2022-05-14"
        ],
        [
         6,
         "Frank",
         "M",
         "85000.00",
         "Finance",
         "2021-08-20"
        ],
        [
         7,
         "Grace",
         "F",
         "72000.00",
         "Marketing",
         "2022-09-30"
        ],
        [
         8,
         "Hank",
         "M",
         "69000.00",
         "HR",
         "2020-11-23"
        ],
        [
         9,
         "Ivy",
         "F",
         "78000.00",
         "IT",
         "2023-01-10"
        ],
        [
         10,
         "Jack",
         "M",
         "81000.00",
         "Finance",
         "2021-06-05"
        ],
        [
         11,
         "Kelly",
         "F",
         "70000.00",
         "Marketing",
         "2022-02-18"
        ],
        [
         12,
         "Liam",
         "M",
         "62000.00",
         "HR",
         "2019-10-12"
        ],
        [
         13,
         "Mona",
         "F",
         "73000.00",
         "IT",
         "2021-11-25"
        ],
        [
         14,
         "Nate",
         "M",
         "67000.00",
         "Finance",
         "2022-04-08"
        ],
        [
         15,
         "Olivia",
         "F",
         "75000.00",
         "Marketing",
         "2022-03-30"
        ],
        [
         16,
         "Paul",
         "M",
         "68000.00",
         "HR",
         "2020-05-19"
        ],
        [
         17,
         "Quinn",
         "F",
         "74000.00",
         "IT",
         "2022-08-12"
        ],
        [
         18,
         "Rachel",
         "F",
         "77000.00",
         "Finance",
         "2021-07-15"
        ],
        [
         19,
         "Sam",
         "M",
         "72000.00",
         "Marketing",
         "2022-06-01"
        ],
        [
         20,
         "Tina",
         "F",
         "80000.00",
         "IT",
         "2023-02-25"
        ]
       ],
       "datasetInfos": [],
       "dbfsResultPath": null,
       "isJsonSchema": true,
       "metadata": {
        "dataframeName": "_sqldf",
        "executionCount": 5
       },
       "overflow": false,
       "plotOptions": {
        "customPlotOptions": {},
        "displayType": "table",
        "pivotAggregation": null,
        "pivotColumns": null,
        "xColumns": null,
        "yColumns": null
       },
       "removedWidgets": [],
       "schema": [
        {
         "metadata": "{}",
         "name": "id",
         "type": "\"integer\""
        },
        {
         "metadata": "{\"__CHAR_VARCHAR_TYPE_STRING\":\"varchar(50)\"}",
         "name": "name",
         "type": "\"string\""
        },
        {
         "metadata": "{\"__CHAR_VARCHAR_TYPE_STRING\":\"char(1)\"}",
         "name": "gender",
         "type": "\"string\""
        },
        {
         "metadata": "{}",
         "name": "salary",
         "type": "\"decimal(10,2)\""
        },
        {
         "metadata": "{\"__CHAR_VARCHAR_TYPE_STRING\":\"varchar(50)\"}",
         "name": "department",
         "type": "\"string\""
        },
        {
         "metadata": "{}",
         "name": "hired_date",
         "type": "\"date\""
        }
       ],
       "type": "table"
      }
     },
     "output_type": "display_data"
    }
   ],
   "source": [
    "%sql\n",
    "select * from employees;"
   ]
  },
  {
   "cell_type": "code",
   "execution_count": 0,
   "metadata": {
    "application/vnd.databricks.v1+cell": {
     "cellMetadata": {
      "byteLimit": 2048000,
      "implicitDf": true,
      "rowLimit": 10000
     },
     "inputWidgets": {},
     "nuid": "58398b71-e58e-42b8-9dc2-b9bcbb4d4379",
     "showTitle": false,
     "title": ""
    }
   },
   "outputs": [
    {
     "output_type": "display_data",
     "data": {
      "text/html": [
       "<style scoped>\n",
       "  .table-result-container {\n",
       "    max-height: 300px;\n",
       "    overflow: auto;\n",
       "  }\n",
       "  table, th, td {\n",
       "    border: 1px solid black;\n",
       "    border-collapse: collapse;\n",
       "  }\n",
       "  th, td {\n",
       "    padding: 5px;\n",
       "  }\n",
       "  th {\n",
       "    text-align: left;\n",
       "  }\n",
       "</style><div class='table-result-container'><table class='table-result'><thead style='background-color: white'><tr><th>id</th><th>name</th><th>department</th><th>salary</th><th>row_number</th></tr></thead><tbody><tr><td>14</td><td>Nate</td><td>Finance</td><td>67000.00</td><td>1</td></tr><tr><td>18</td><td>Rachel</td><td>Finance</td><td>77000.00</td><td>2</td></tr><tr><td>10</td><td>Jack</td><td>Finance</td><td>81000.00</td><td>3</td></tr><tr><td>6</td><td>Frank</td><td>Finance</td><td>85000.00</td><td>4</td></tr><tr><td>3</td><td>Charlie</td><td>Finance</td><td>90000.00</td><td>5</td></tr><tr><td>4</td><td>David</td><td>HR</td><td>60000.00</td><td>1</td></tr><tr><td>12</td><td>Liam</td><td>HR</td><td>62000.00</td><td>2</td></tr><tr><td>16</td><td>Paul</td><td>HR</td><td>68000.00</td><td>3</td></tr><tr><td>8</td><td>Hank</td><td>HR</td><td>69000.00</td><td>4</td></tr><tr><td>1</td><td>Alice</td><td>HR</td><td>70000.00</td><td>5</td></tr><tr><td>13</td><td>Mona</td><td>IT</td><td>73000.00</td><td>1</td></tr><tr><td>17</td><td>Quinn</td><td>IT</td><td>74000.00</td><td>2</td></tr><tr><td>5</td><td>Eva</td><td>IT</td><td>75000.00</td><td>3</td></tr><tr><td>9</td><td>Ivy</td><td>IT</td><td>78000.00</td><td>4</td></tr><tr><td>2</td><td>Bob</td><td>IT</td><td>80000.00</td><td>5</td></tr><tr><td>20</td><td>Tina</td><td>IT</td><td>80000.00</td><td>6</td></tr><tr><td>11</td><td>Kelly</td><td>Marketing</td><td>70000.00</td><td>1</td></tr><tr><td>7</td><td>Grace</td><td>Marketing</td><td>72000.00</td><td>2</td></tr><tr><td>19</td><td>Sam</td><td>Marketing</td><td>72000.00</td><td>3</td></tr><tr><td>15</td><td>Olivia</td><td>Marketing</td><td>75000.00</td><td>4</td></tr></tbody></table></div>"
      ]
     },
     "metadata": {
      "application/vnd.databricks.v1+output": {
       "addedWidgets": {},
       "aggData": [],
       "aggError": "",
       "aggOverflow": false,
       "aggSchema": [],
       "aggSeriesLimitReached": false,
       "aggType": "",
       "arguments": {},
       "columnCustomDisplayInfos": {},
       "data": [
        [
         14,
         "Nate",
         "Finance",
         "67000.00",
         1
        ],
        [
         18,
         "Rachel",
         "Finance",
         "77000.00",
         2
        ],
        [
         10,
         "Jack",
         "Finance",
         "81000.00",
         3
        ],
        [
         6,
         "Frank",
         "Finance",
         "85000.00",
         4
        ],
        [
         3,
         "Charlie",
         "Finance",
         "90000.00",
         5
        ],
        [
         4,
         "David",
         "HR",
         "60000.00",
         1
        ],
        [
         12,
         "Liam",
         "HR",
         "62000.00",
         2
        ],
        [
         16,
         "Paul",
         "HR",
         "68000.00",
         3
        ],
        [
         8,
         "Hank",
         "HR",
         "69000.00",
         4
        ],
        [
         1,
         "Alice",
         "HR",
         "70000.00",
         5
        ],
        [
         13,
         "Mona",
         "IT",
         "73000.00",
         1
        ],
        [
         17,
         "Quinn",
         "IT",
         "74000.00",
         2
        ],
        [
         5,
         "Eva",
         "IT",
         "75000.00",
         3
        ],
        [
         9,
         "Ivy",
         "IT",
         "78000.00",
         4
        ],
        [
         2,
         "Bob",
         "IT",
         "80000.00",
         5
        ],
        [
         20,
         "Tina",
         "IT",
         "80000.00",
         6
        ],
        [
         11,
         "Kelly",
         "Marketing",
         "70000.00",
         1
        ],
        [
         7,
         "Grace",
         "Marketing",
         "72000.00",
         2
        ],
        [
         19,
         "Sam",
         "Marketing",
         "72000.00",
         3
        ],
        [
         15,
         "Olivia",
         "Marketing",
         "75000.00",
         4
        ]
       ],
       "datasetInfos": [],
       "dbfsResultPath": null,
       "isJsonSchema": true,
       "metadata": {
        "dataframeName": "_sqldf",
        "executionCount": 7
       },
       "overflow": false,
       "plotOptions": {
        "customPlotOptions": {},
        "displayType": "table",
        "pivotAggregation": null,
        "pivotColumns": null,
        "xColumns": null,
        "yColumns": null
       },
       "removedWidgets": [],
       "schema": [
        {
         "metadata": "{}",
         "name": "id",
         "type": "\"integer\""
        },
        {
         "metadata": "{\"__CHAR_VARCHAR_TYPE_STRING\":\"varchar(50)\"}",
         "name": "name",
         "type": "\"string\""
        },
        {
         "metadata": "{\"__CHAR_VARCHAR_TYPE_STRING\":\"varchar(50)\"}",
         "name": "department",
         "type": "\"string\""
        },
        {
         "metadata": "{}",
         "name": "salary",
         "type": "\"decimal(10,2)\""
        },
        {
         "metadata": "{}",
         "name": "row_number",
         "type": "\"integer\""
        }
       ],
       "type": "table"
      }
     },
     "output_type": "display_data"
    }
   ],
   "source": [
    "%sql\n",
    "SELECT\n",
    "    id,\n",
    "    name,\n",
    "    department,\n",
    "    salary,\n",
    "    ROW_NUMBER() OVER (PARTITION BY department ORDER BY salary) AS row_number\n",
    "FROM\n",
    "    employees;\n"
   ]
  },
  {
   "cell_type": "code",
   "execution_count": 0,
   "metadata": {
    "application/vnd.databricks.v1+cell": {
     "cellMetadata": {
      "byteLimit": 2048000,
      "implicitDf": true,
      "rowLimit": 10000
     },
     "inputWidgets": {},
     "nuid": "ef92289f-6115-454e-b087-bb89bc246482",
     "showTitle": false,
     "title": ""
    }
   },
   "outputs": [
    {
     "output_type": "display_data",
     "data": {
      "text/html": [
       "<style scoped>\n",
       "  .table-result-container {\n",
       "    max-height: 300px;\n",
       "    overflow: auto;\n",
       "  }\n",
       "  table, th, td {\n",
       "    border: 1px solid black;\n",
       "    border-collapse: collapse;\n",
       "  }\n",
       "  th, td {\n",
       "    padding: 5px;\n",
       "  }\n",
       "  th {\n",
       "    text-align: left;\n",
       "  }\n",
       "</style><div class='table-result-container'><table class='table-result'><thead style='background-color: white'><tr><th>id</th><th>name</th><th>department</th><th>salary</th><th>rank</th></tr></thead><tbody><tr><td>3</td><td>Charlie</td><td>Finance</td><td>90000.00</td><td>1</td></tr><tr><td>6</td><td>Frank</td><td>Finance</td><td>85000.00</td><td>2</td></tr><tr><td>10</td><td>Jack</td><td>Finance</td><td>81000.00</td><td>3</td></tr><tr><td>18</td><td>Rachel</td><td>Finance</td><td>77000.00</td><td>4</td></tr><tr><td>14</td><td>Nate</td><td>Finance</td><td>67000.00</td><td>5</td></tr><tr><td>1</td><td>Alice</td><td>HR</td><td>70000.00</td><td>1</td></tr><tr><td>8</td><td>Hank</td><td>HR</td><td>69000.00</td><td>2</td></tr><tr><td>16</td><td>Paul</td><td>HR</td><td>68000.00</td><td>3</td></tr><tr><td>12</td><td>Liam</td><td>HR</td><td>62000.00</td><td>4</td></tr><tr><td>4</td><td>David</td><td>HR</td><td>60000.00</td><td>5</td></tr><tr><td>2</td><td>Bob</td><td>IT</td><td>80000.00</td><td>1</td></tr><tr><td>20</td><td>Tina</td><td>IT</td><td>80000.00</td><td>1</td></tr><tr><td>9</td><td>Ivy</td><td>IT</td><td>78000.00</td><td>3</td></tr><tr><td>5</td><td>Eva</td><td>IT</td><td>75000.00</td><td>4</td></tr><tr><td>17</td><td>Quinn</td><td>IT</td><td>74000.00</td><td>5</td></tr><tr><td>13</td><td>Mona</td><td>IT</td><td>73000.00</td><td>6</td></tr><tr><td>15</td><td>Olivia</td><td>Marketing</td><td>75000.00</td><td>1</td></tr><tr><td>7</td><td>Grace</td><td>Marketing</td><td>72000.00</td><td>2</td></tr><tr><td>19</td><td>Sam</td><td>Marketing</td><td>72000.00</td><td>2</td></tr><tr><td>11</td><td>Kelly</td><td>Marketing</td><td>70000.00</td><td>4</td></tr></tbody></table></div>"
      ]
     },
     "metadata": {
      "application/vnd.databricks.v1+output": {
       "addedWidgets": {},
       "aggData": [],
       "aggError": "",
       "aggOverflow": false,
       "aggSchema": [],
       "aggSeriesLimitReached": false,
       "aggType": "",
       "arguments": {},
       "columnCustomDisplayInfos": {},
       "data": [
        [
         3,
         "Charlie",
         "Finance",
         "90000.00",
         1
        ],
        [
         6,
         "Frank",
         "Finance",
         "85000.00",
         2
        ],
        [
         10,
         "Jack",
         "Finance",
         "81000.00",
         3
        ],
        [
         18,
         "Rachel",
         "Finance",
         "77000.00",
         4
        ],
        [
         14,
         "Nate",
         "Finance",
         "67000.00",
         5
        ],
        [
         1,
         "Alice",
         "HR",
         "70000.00",
         1
        ],
        [
         8,
         "Hank",
         "HR",
         "69000.00",
         2
        ],
        [
         16,
         "Paul",
         "HR",
         "68000.00",
         3
        ],
        [
         12,
         "Liam",
         "HR",
         "62000.00",
         4
        ],
        [
         4,
         "David",
         "HR",
         "60000.00",
         5
        ],
        [
         2,
         "Bob",
         "IT",
         "80000.00",
         1
        ],
        [
         20,
         "Tina",
         "IT",
         "80000.00",
         1
        ],
        [
         9,
         "Ivy",
         "IT",
         "78000.00",
         3
        ],
        [
         5,
         "Eva",
         "IT",
         "75000.00",
         4
        ],
        [
         17,
         "Quinn",
         "IT",
         "74000.00",
         5
        ],
        [
         13,
         "Mona",
         "IT",
         "73000.00",
         6
        ],
        [
         15,
         "Olivia",
         "Marketing",
         "75000.00",
         1
        ],
        [
         7,
         "Grace",
         "Marketing",
         "72000.00",
         2
        ],
        [
         19,
         "Sam",
         "Marketing",
         "72000.00",
         2
        ],
        [
         11,
         "Kelly",
         "Marketing",
         "70000.00",
         4
        ]
       ],
       "datasetInfos": [],
       "dbfsResultPath": null,
       "isJsonSchema": true,
       "metadata": {
        "dataframeName": "_sqldf",
        "executionCount": 9
       },
       "overflow": false,
       "plotOptions": {
        "customPlotOptions": {},
        "displayType": "table",
        "pivotAggregation": null,
        "pivotColumns": null,
        "xColumns": null,
        "yColumns": null
       },
       "removedWidgets": [],
       "schema": [
        {
         "metadata": "{}",
         "name": "id",
         "type": "\"integer\""
        },
        {
         "metadata": "{\"__CHAR_VARCHAR_TYPE_STRING\":\"varchar(50)\"}",
         "name": "name",
         "type": "\"string\""
        },
        {
         "metadata": "{\"__CHAR_VARCHAR_TYPE_STRING\":\"varchar(50)\"}",
         "name": "department",
         "type": "\"string\""
        },
        {
         "metadata": "{}",
         "name": "salary",
         "type": "\"decimal(10,2)\""
        },
        {
         "metadata": "{}",
         "name": "rank",
         "type": "\"integer\""
        }
       ],
       "type": "table"
      }
     },
     "output_type": "display_data"
    }
   ],
   "source": [
    "%sql\n",
    "SELECT\n",
    "    id,\n",
    "    name,\n",
    "    department,\n",
    "    salary,\n",
    "    RANK() OVER (PARTITION BY department ORDER BY salary DESC) AS rank\n",
    "FROM\n",
    "    employees;\n"
   ]
  },
  {
   "cell_type": "code",
   "execution_count": 0,
   "metadata": {
    "application/vnd.databricks.v1+cell": {
     "cellMetadata": {
      "byteLimit": 2048000,
      "implicitDf": true,
      "rowLimit": 10000
     },
     "inputWidgets": {},
     "nuid": "75c53564-2459-43c7-9817-62e270cc1514",
     "showTitle": false,
     "title": ""
    }
   },
   "outputs": [
    {
     "output_type": "display_data",
     "data": {
      "text/html": [
       "<style scoped>\n",
       "  .table-result-container {\n",
       "    max-height: 300px;\n",
       "    overflow: auto;\n",
       "  }\n",
       "  table, th, td {\n",
       "    border: 1px solid black;\n",
       "    border-collapse: collapse;\n",
       "  }\n",
       "  th, td {\n",
       "    padding: 5px;\n",
       "  }\n",
       "  th {\n",
       "    text-align: left;\n",
       "  }\n",
       "</style><div class='table-result-container'><table class='table-result'><thead style='background-color: white'><tr><th>id</th><th>name</th><th>department</th><th>salary</th><th>dense_rank</th></tr></thead><tbody><tr><td>3</td><td>Charlie</td><td>Finance</td><td>90000.00</td><td>1</td></tr><tr><td>6</td><td>Frank</td><td>Finance</td><td>85000.00</td><td>2</td></tr><tr><td>10</td><td>Jack</td><td>Finance</td><td>81000.00</td><td>3</td></tr><tr><td>18</td><td>Rachel</td><td>Finance</td><td>77000.00</td><td>4</td></tr><tr><td>14</td><td>Nate</td><td>Finance</td><td>67000.00</td><td>5</td></tr><tr><td>1</td><td>Alice</td><td>HR</td><td>70000.00</td><td>1</td></tr><tr><td>8</td><td>Hank</td><td>HR</td><td>69000.00</td><td>2</td></tr><tr><td>16</td><td>Paul</td><td>HR</td><td>68000.00</td><td>3</td></tr><tr><td>12</td><td>Liam</td><td>HR</td><td>62000.00</td><td>4</td></tr><tr><td>4</td><td>David</td><td>HR</td><td>60000.00</td><td>5</td></tr><tr><td>2</td><td>Bob</td><td>IT</td><td>80000.00</td><td>1</td></tr><tr><td>20</td><td>Tina</td><td>IT</td><td>80000.00</td><td>1</td></tr><tr><td>9</td><td>Ivy</td><td>IT</td><td>78000.00</td><td>2</td></tr><tr><td>5</td><td>Eva</td><td>IT</td><td>75000.00</td><td>3</td></tr><tr><td>17</td><td>Quinn</td><td>IT</td><td>74000.00</td><td>4</td></tr><tr><td>13</td><td>Mona</td><td>IT</td><td>73000.00</td><td>5</td></tr><tr><td>15</td><td>Olivia</td><td>Marketing</td><td>75000.00</td><td>1</td></tr><tr><td>7</td><td>Grace</td><td>Marketing</td><td>72000.00</td><td>2</td></tr><tr><td>19</td><td>Sam</td><td>Marketing</td><td>72000.00</td><td>2</td></tr><tr><td>11</td><td>Kelly</td><td>Marketing</td><td>70000.00</td><td>3</td></tr></tbody></table></div>"
      ]
     },
     "metadata": {
      "application/vnd.databricks.v1+output": {
       "addedWidgets": {},
       "aggData": [],
       "aggError": "",
       "aggOverflow": false,
       "aggSchema": [],
       "aggSeriesLimitReached": false,
       "aggType": "",
       "arguments": {},
       "columnCustomDisplayInfos": {},
       "data": [
        [
         3,
         "Charlie",
         "Finance",
         "90000.00",
         1
        ],
        [
         6,
         "Frank",
         "Finance",
         "85000.00",
         2
        ],
        [
         10,
         "Jack",
         "Finance",
         "81000.00",
         3
        ],
        [
         18,
         "Rachel",
         "Finance",
         "77000.00",
         4
        ],
        [
         14,
         "Nate",
         "Finance",
         "67000.00",
         5
        ],
        [
         1,
         "Alice",
         "HR",
         "70000.00",
         1
        ],
        [
         8,
         "Hank",
         "HR",
         "69000.00",
         2
        ],
        [
         16,
         "Paul",
         "HR",
         "68000.00",
         3
        ],
        [
         12,
         "Liam",
         "HR",
         "62000.00",
         4
        ],
        [
         4,
         "David",
         "HR",
         "60000.00",
         5
        ],
        [
         2,
         "Bob",
         "IT",
         "80000.00",
         1
        ],
        [
         20,
         "Tina",
         "IT",
         "80000.00",
         1
        ],
        [
         9,
         "Ivy",
         "IT",
         "78000.00",
         2
        ],
        [
         5,
         "Eva",
         "IT",
         "75000.00",
         3
        ],
        [
         17,
         "Quinn",
         "IT",
         "74000.00",
         4
        ],
        [
         13,
         "Mona",
         "IT",
         "73000.00",
         5
        ],
        [
         15,
         "Olivia",
         "Marketing",
         "75000.00",
         1
        ],
        [
         7,
         "Grace",
         "Marketing",
         "72000.00",
         2
        ],
        [
         19,
         "Sam",
         "Marketing",
         "72000.00",
         2
        ],
        [
         11,
         "Kelly",
         "Marketing",
         "70000.00",
         3
        ]
       ],
       "datasetInfos": [],
       "dbfsResultPath": null,
       "isJsonSchema": true,
       "metadata": {
        "dataframeName": "_sqldf",
        "executionCount": 11
       },
       "overflow": false,
       "plotOptions": {
        "customPlotOptions": {},
        "displayType": "table",
        "pivotAggregation": null,
        "pivotColumns": null,
        "xColumns": null,
        "yColumns": null
       },
       "removedWidgets": [],
       "schema": [
        {
         "metadata": "{}",
         "name": "id",
         "type": "\"integer\""
        },
        {
         "metadata": "{\"__CHAR_VARCHAR_TYPE_STRING\":\"varchar(50)\"}",
         "name": "name",
         "type": "\"string\""
        },
        {
         "metadata": "{\"__CHAR_VARCHAR_TYPE_STRING\":\"varchar(50)\"}",
         "name": "department",
         "type": "\"string\""
        },
        {
         "metadata": "{}",
         "name": "salary",
         "type": "\"decimal(10,2)\""
        },
        {
         "metadata": "{}",
         "name": "dense_rank",
         "type": "\"integer\""
        }
       ],
       "type": "table"
      }
     },
     "output_type": "display_data"
    }
   ],
   "source": [
    "%sql\n",
    "SELECT\n",
    "    id,\n",
    "    name,\n",
    "    department,\n",
    "    salary,\n",
    "    DENSE_RANK() OVER (PARTITION BY department ORDER BY salary DESC) AS dense_rank\n",
    "FROM\n",
    "    employees;\n"
   ]
  },
  {
   "cell_type": "code",
   "execution_count": 0,
   "metadata": {
    "application/vnd.databricks.v1+cell": {
     "cellMetadata": {
      "byteLimit": 2048000,
      "implicitDf": true,
      "rowLimit": 10000
     },
     "inputWidgets": {},
     "nuid": "a7a5eb74-0c55-4f8c-9577-f81a9b851d39",
     "showTitle": false,
     "title": ""
    }
   },
   "outputs": [
    {
     "output_type": "display_data",
     "data": {
      "text/html": [
       "<style scoped>\n",
       "  .table-result-container {\n",
       "    max-height: 300px;\n",
       "    overflow: auto;\n",
       "  }\n",
       "  table, th, td {\n",
       "    border: 1px solid black;\n",
       "    border-collapse: collapse;\n",
       "  }\n",
       "  th, td {\n",
       "    padding: 5px;\n",
       "  }\n",
       "  th {\n",
       "    text-align: left;\n",
       "  }\n",
       "</style><div class='table-result-container'><table class='table-result'><thead style='background-color: white'><tr><th>id</th><th>name</th><th>department</th><th>salary</th><th>cumulative_sum</th></tr></thead><tbody><tr><td>14</td><td>Nate</td><td>Finance</td><td>67000.00</td><td>67000.00</td></tr><tr><td>18</td><td>Rachel</td><td>Finance</td><td>77000.00</td><td>144000.00</td></tr><tr><td>10</td><td>Jack</td><td>Finance</td><td>81000.00</td><td>225000.00</td></tr><tr><td>6</td><td>Frank</td><td>Finance</td><td>85000.00</td><td>310000.00</td></tr><tr><td>3</td><td>Charlie</td><td>Finance</td><td>90000.00</td><td>400000.00</td></tr><tr><td>4</td><td>David</td><td>HR</td><td>60000.00</td><td>60000.00</td></tr><tr><td>12</td><td>Liam</td><td>HR</td><td>62000.00</td><td>122000.00</td></tr><tr><td>16</td><td>Paul</td><td>HR</td><td>68000.00</td><td>190000.00</td></tr><tr><td>8</td><td>Hank</td><td>HR</td><td>69000.00</td><td>259000.00</td></tr><tr><td>1</td><td>Alice</td><td>HR</td><td>70000.00</td><td>329000.00</td></tr><tr><td>13</td><td>Mona</td><td>IT</td><td>73000.00</td><td>73000.00</td></tr><tr><td>17</td><td>Quinn</td><td>IT</td><td>74000.00</td><td>147000.00</td></tr><tr><td>5</td><td>Eva</td><td>IT</td><td>75000.00</td><td>222000.00</td></tr><tr><td>9</td><td>Ivy</td><td>IT</td><td>78000.00</td><td>300000.00</td></tr><tr><td>2</td><td>Bob</td><td>IT</td><td>80000.00</td><td>380000.00</td></tr><tr><td>20</td><td>Tina</td><td>IT</td><td>80000.00</td><td>460000.00</td></tr><tr><td>11</td><td>Kelly</td><td>Marketing</td><td>70000.00</td><td>70000.00</td></tr><tr><td>7</td><td>Grace</td><td>Marketing</td><td>72000.00</td><td>142000.00</td></tr><tr><td>19</td><td>Sam</td><td>Marketing</td><td>72000.00</td><td>214000.00</td></tr><tr><td>15</td><td>Olivia</td><td>Marketing</td><td>75000.00</td><td>289000.00</td></tr></tbody></table></div>"
      ]
     },
     "metadata": {
      "application/vnd.databricks.v1+output": {
       "addedWidgets": {},
       "aggData": [],
       "aggError": "",
       "aggOverflow": false,
       "aggSchema": [],
       "aggSeriesLimitReached": false,
       "aggType": "",
       "arguments": {},
       "columnCustomDisplayInfos": {},
       "data": [
        [
         14,
         "Nate",
         "Finance",
         "67000.00",
         "67000.00"
        ],
        [
         18,
         "Rachel",
         "Finance",
         "77000.00",
         "144000.00"
        ],
        [
         10,
         "Jack",
         "Finance",
         "81000.00",
         "225000.00"
        ],
        [
         6,
         "Frank",
         "Finance",
         "85000.00",
         "310000.00"
        ],
        [
         3,
         "Charlie",
         "Finance",
         "90000.00",
         "400000.00"
        ],
        [
         4,
         "David",
         "HR",
         "60000.00",
         "60000.00"
        ],
        [
         12,
         "Liam",
         "HR",
         "62000.00",
         "122000.00"
        ],
        [
         16,
         "Paul",
         "HR",
         "68000.00",
         "190000.00"
        ],
        [
         8,
         "Hank",
         "HR",
         "69000.00",
         "259000.00"
        ],
        [
         1,
         "Alice",
         "HR",
         "70000.00",
         "329000.00"
        ],
        [
         13,
         "Mona",
         "IT",
         "73000.00",
         "73000.00"
        ],
        [
         17,
         "Quinn",
         "IT",
         "74000.00",
         "147000.00"
        ],
        [
         5,
         "Eva",
         "IT",
         "75000.00",
         "222000.00"
        ],
        [
         9,
         "Ivy",
         "IT",
         "78000.00",
         "300000.00"
        ],
        [
         2,
         "Bob",
         "IT",
         "80000.00",
         "380000.00"
        ],
        [
         20,
         "Tina",
         "IT",
         "80000.00",
         "460000.00"
        ],
        [
         11,
         "Kelly",
         "Marketing",
         "70000.00",
         "70000.00"
        ],
        [
         7,
         "Grace",
         "Marketing",
         "72000.00",
         "142000.00"
        ],
        [
         19,
         "Sam",
         "Marketing",
         "72000.00",
         "214000.00"
        ],
        [
         15,
         "Olivia",
         "Marketing",
         "75000.00",
         "289000.00"
        ]
       ],
       "datasetInfos": [],
       "dbfsResultPath": null,
       "isJsonSchema": true,
       "metadata": {
        "dataframeName": "_sqldf",
        "executionCount": 13
       },
       "overflow": false,
       "plotOptions": {
        "customPlotOptions": {},
        "displayType": "table",
        "pivotAggregation": null,
        "pivotColumns": null,
        "xColumns": null,
        "yColumns": null
       },
       "removedWidgets": [],
       "schema": [
        {
         "metadata": "{}",
         "name": "id",
         "type": "\"integer\""
        },
        {
         "metadata": "{\"__CHAR_VARCHAR_TYPE_STRING\":\"varchar(50)\"}",
         "name": "name",
         "type": "\"string\""
        },
        {
         "metadata": "{\"__CHAR_VARCHAR_TYPE_STRING\":\"varchar(50)\"}",
         "name": "department",
         "type": "\"string\""
        },
        {
         "metadata": "{}",
         "name": "salary",
         "type": "\"decimal(10,2)\""
        },
        {
         "metadata": "{}",
         "name": "cumulative_sum",
         "type": "\"decimal(20,2)\""
        }
       ],
       "type": "table"
      }
     },
     "output_type": "display_data"
    }
   ],
   "source": [
    "%sql\n",
    "SELECT\n",
    "    id,\n",
    "    name,\n",
    "    department,\n",
    "    salary,\n",
    "    SUM(salary) OVER (PARTITION BY department ORDER BY salary ROWS BETWEEN UNBOUNDED PRECEDING AND CURRENT ROW) AS cumulative_sum\n",
    "FROM\n",
    "    employees;\n"
   ]
  },
  {
   "cell_type": "code",
   "execution_count": 0,
   "metadata": {
    "application/vnd.databricks.v1+cell": {
     "cellMetadata": {
      "byteLimit": 2048000,
      "implicitDf": true,
      "rowLimit": 10000
     },
     "inputWidgets": {},
     "nuid": "f0ef5b9b-e3cf-4a37-a704-cd582f5c884b",
     "showTitle": false,
     "title": ""
    }
   },
   "outputs": [
    {
     "output_type": "display_data",
     "data": {
      "text/html": [
       "<style scoped>\n",
       "  .table-result-container {\n",
       "    max-height: 300px;\n",
       "    overflow: auto;\n",
       "  }\n",
       "  table, th, td {\n",
       "    border: 1px solid black;\n",
       "    border-collapse: collapse;\n",
       "  }\n",
       "  th, td {\n",
       "    padding: 5px;\n",
       "  }\n",
       "  th {\n",
       "    text-align: left;\n",
       "  }\n",
       "</style><div class='table-result-container'><table class='table-result'><thead style='background-color: white'><tr><th>id</th><th>name</th><th>department</th><th>salary</th><th>average_salary</th></tr></thead><tbody><tr><td>3</td><td>Charlie</td><td>Finance</td><td>90000.00</td><td>80000.000000</td></tr><tr><td>6</td><td>Frank</td><td>Finance</td><td>85000.00</td><td>80000.000000</td></tr><tr><td>10</td><td>Jack</td><td>Finance</td><td>81000.00</td><td>80000.000000</td></tr><tr><td>14</td><td>Nate</td><td>Finance</td><td>67000.00</td><td>80000.000000</td></tr><tr><td>18</td><td>Rachel</td><td>Finance</td><td>77000.00</td><td>80000.000000</td></tr><tr><td>1</td><td>Alice</td><td>HR</td><td>70000.00</td><td>65800.000000</td></tr><tr><td>4</td><td>David</td><td>HR</td><td>60000.00</td><td>65800.000000</td></tr><tr><td>8</td><td>Hank</td><td>HR</td><td>69000.00</td><td>65800.000000</td></tr><tr><td>12</td><td>Liam</td><td>HR</td><td>62000.00</td><td>65800.000000</td></tr><tr><td>16</td><td>Paul</td><td>HR</td><td>68000.00</td><td>65800.000000</td></tr><tr><td>2</td><td>Bob</td><td>IT</td><td>80000.00</td><td>76666.666667</td></tr><tr><td>5</td><td>Eva</td><td>IT</td><td>75000.00</td><td>76666.666667</td></tr><tr><td>9</td><td>Ivy</td><td>IT</td><td>78000.00</td><td>76666.666667</td></tr><tr><td>13</td><td>Mona</td><td>IT</td><td>73000.00</td><td>76666.666667</td></tr><tr><td>17</td><td>Quinn</td><td>IT</td><td>74000.00</td><td>76666.666667</td></tr><tr><td>20</td><td>Tina</td><td>IT</td><td>80000.00</td><td>76666.666667</td></tr><tr><td>7</td><td>Grace</td><td>Marketing</td><td>72000.00</td><td>72250.000000</td></tr><tr><td>11</td><td>Kelly</td><td>Marketing</td><td>70000.00</td><td>72250.000000</td></tr><tr><td>15</td><td>Olivia</td><td>Marketing</td><td>75000.00</td><td>72250.000000</td></tr><tr><td>19</td><td>Sam</td><td>Marketing</td><td>72000.00</td><td>72250.000000</td></tr></tbody></table></div>"
      ]
     },
     "metadata": {
      "application/vnd.databricks.v1+output": {
       "addedWidgets": {},
       "aggData": [],
       "aggError": "",
       "aggOverflow": false,
       "aggSchema": [],
       "aggSeriesLimitReached": false,
       "aggType": "",
       "arguments": {},
       "columnCustomDisplayInfos": {},
       "data": [
        [
         3,
         "Charlie",
         "Finance",
         "90000.00",
         "80000.000000"
        ],
        [
         6,
         "Frank",
         "Finance",
         "85000.00",
         "80000.000000"
        ],
        [
         10,
         "Jack",
         "Finance",
         "81000.00",
         "80000.000000"
        ],
        [
         14,
         "Nate",
         "Finance",
         "67000.00",
         "80000.000000"
        ],
        [
         18,
         "Rachel",
         "Finance",
         "77000.00",
         "80000.000000"
        ],
        [
         1,
         "Alice",
         "HR",
         "70000.00",
         "65800.000000"
        ],
        [
         4,
         "David",
         "HR",
         "60000.00",
         "65800.000000"
        ],
        [
         8,
         "Hank",
         "HR",
         "69000.00",
         "65800.000000"
        ],
        [
         12,
         "Liam",
         "HR",
         "62000.00",
         "65800.000000"
        ],
        [
         16,
         "Paul",
         "HR",
         "68000.00",
         "65800.000000"
        ],
        [
         2,
         "Bob",
         "IT",
         "80000.00",
         "76666.666667"
        ],
        [
         5,
         "Eva",
         "IT",
         "75000.00",
         "76666.666667"
        ],
        [
         9,
         "Ivy",
         "IT",
         "78000.00",
         "76666.666667"
        ],
        [
         13,
         "Mona",
         "IT",
         "73000.00",
         "76666.666667"
        ],
        [
         17,
         "Quinn",
         "IT",
         "74000.00",
         "76666.666667"
        ],
        [
         20,
         "Tina",
         "IT",
         "80000.00",
         "76666.666667"
        ],
        [
         7,
         "Grace",
         "Marketing",
         "72000.00",
         "72250.000000"
        ],
        [
         11,
         "Kelly",
         "Marketing",
         "70000.00",
         "72250.000000"
        ],
        [
         15,
         "Olivia",
         "Marketing",
         "75000.00",
         "72250.000000"
        ],
        [
         19,
         "Sam",
         "Marketing",
         "72000.00",
         "72250.000000"
        ]
       ],
       "datasetInfos": [],
       "dbfsResultPath": null,
       "isJsonSchema": true,
       "metadata": {
        "dataframeName": "_sqldf",
        "executionCount": 15
       },
       "overflow": false,
       "plotOptions": {
        "customPlotOptions": {},
        "displayType": "table",
        "pivotAggregation": null,
        "pivotColumns": null,
        "xColumns": null,
        "yColumns": null
       },
       "removedWidgets": [],
       "schema": [
        {
         "metadata": "{}",
         "name": "id",
         "type": "\"integer\""
        },
        {
         "metadata": "{\"__CHAR_VARCHAR_TYPE_STRING\":\"varchar(50)\"}",
         "name": "name",
         "type": "\"string\""
        },
        {
         "metadata": "{\"__CHAR_VARCHAR_TYPE_STRING\":\"varchar(50)\"}",
         "name": "department",
         "type": "\"string\""
        },
        {
         "metadata": "{}",
         "name": "salary",
         "type": "\"decimal(10,2)\""
        },
        {
         "metadata": "{}",
         "name": "average_salary",
         "type": "\"decimal(14,6)\""
        }
       ],
       "type": "table"
      }
     },
     "output_type": "display_data"
    }
   ],
   "source": [
    "%sql\n",
    "SELECT\n",
    "    id,\n",
    "    name,\n",
    "    department,\n",
    "    salary,\n",
    "    AVG(salary) OVER (PARTITION BY department) AS average_salary\n",
    "FROM\n",
    "    employees;\n"
   ]
  },
  {
   "cell_type": "code",
   "execution_count": 0,
   "metadata": {
    "application/vnd.databricks.v1+cell": {
     "cellMetadata": {
      "byteLimit": 2048000,
      "implicitDf": true,
      "rowLimit": 10000
     },
     "inputWidgets": {},
     "nuid": "e5025ad1-cc30-4072-8127-7de71598fb0e",
     "showTitle": false,
     "title": ""
    }
   },
   "outputs": [
    {
     "output_type": "display_data",
     "data": {
      "text/html": [
       "<style scoped>\n",
       "  .table-result-container {\n",
       "    max-height: 300px;\n",
       "    overflow: auto;\n",
       "  }\n",
       "  table, th, td {\n",
       "    border: 1px solid black;\n",
       "    border-collapse: collapse;\n",
       "  }\n",
       "  th, td {\n",
       "    padding: 5px;\n",
       "  }\n",
       "  th {\n",
       "    text-align: left;\n",
       "  }\n",
       "</style><div class='table-result-container'><table class='table-result'><thead style='background-color: white'><tr><th>id</th><th>name</th><th>department</th><th>salary</th><th>prev_salary</th><th>next_salary</th></tr></thead><tbody><tr><td>14</td><td>Nate</td><td>Finance</td><td>67000.00</td><td>null</td><td>77000.00</td></tr><tr><td>18</td><td>Rachel</td><td>Finance</td><td>77000.00</td><td>67000.00</td><td>81000.00</td></tr><tr><td>10</td><td>Jack</td><td>Finance</td><td>81000.00</td><td>77000.00</td><td>85000.00</td></tr><tr><td>6</td><td>Frank</td><td>Finance</td><td>85000.00</td><td>81000.00</td><td>90000.00</td></tr><tr><td>3</td><td>Charlie</td><td>Finance</td><td>90000.00</td><td>85000.00</td><td>null</td></tr><tr><td>4</td><td>David</td><td>HR</td><td>60000.00</td><td>null</td><td>62000.00</td></tr><tr><td>12</td><td>Liam</td><td>HR</td><td>62000.00</td><td>60000.00</td><td>68000.00</td></tr><tr><td>16</td><td>Paul</td><td>HR</td><td>68000.00</td><td>62000.00</td><td>69000.00</td></tr><tr><td>8</td><td>Hank</td><td>HR</td><td>69000.00</td><td>68000.00</td><td>70000.00</td></tr><tr><td>1</td><td>Alice</td><td>HR</td><td>70000.00</td><td>69000.00</td><td>null</td></tr><tr><td>13</td><td>Mona</td><td>IT</td><td>73000.00</td><td>null</td><td>74000.00</td></tr><tr><td>17</td><td>Quinn</td><td>IT</td><td>74000.00</td><td>73000.00</td><td>75000.00</td></tr><tr><td>5</td><td>Eva</td><td>IT</td><td>75000.00</td><td>74000.00</td><td>78000.00</td></tr><tr><td>9</td><td>Ivy</td><td>IT</td><td>78000.00</td><td>75000.00</td><td>80000.00</td></tr><tr><td>2</td><td>Bob</td><td>IT</td><td>80000.00</td><td>78000.00</td><td>80000.00</td></tr><tr><td>20</td><td>Tina</td><td>IT</td><td>80000.00</td><td>80000.00</td><td>null</td></tr><tr><td>11</td><td>Kelly</td><td>Marketing</td><td>70000.00</td><td>null</td><td>72000.00</td></tr><tr><td>7</td><td>Grace</td><td>Marketing</td><td>72000.00</td><td>70000.00</td><td>72000.00</td></tr><tr><td>19</td><td>Sam</td><td>Marketing</td><td>72000.00</td><td>72000.00</td><td>75000.00</td></tr><tr><td>15</td><td>Olivia</td><td>Marketing</td><td>75000.00</td><td>72000.00</td><td>null</td></tr></tbody></table></div>"
      ]
     },
     "metadata": {
      "application/vnd.databricks.v1+output": {
       "addedWidgets": {},
       "aggData": [],
       "aggError": "",
       "aggOverflow": false,
       "aggSchema": [],
       "aggSeriesLimitReached": false,
       "aggType": "",
       "arguments": {},
       "columnCustomDisplayInfos": {},
       "data": [
        [
         14,
         "Nate",
         "Finance",
         "67000.00",
         null,
         "77000.00"
        ],
        [
         18,
         "Rachel",
         "Finance",
         "77000.00",
         "67000.00",
         "81000.00"
        ],
        [
         10,
         "Jack",
         "Finance",
         "81000.00",
         "77000.00",
         "85000.00"
        ],
        [
         6,
         "Frank",
         "Finance",
         "85000.00",
         "81000.00",
         "90000.00"
        ],
        [
         3,
         "Charlie",
         "Finance",
         "90000.00",
         "85000.00",
         null
        ],
        [
         4,
         "David",
         "HR",
         "60000.00",
         null,
         "62000.00"
        ],
        [
         12,
         "Liam",
         "HR",
         "62000.00",
         "60000.00",
         "68000.00"
        ],
        [
         16,
         "Paul",
         "HR",
         "68000.00",
         "62000.00",
         "69000.00"
        ],
        [
         8,
         "Hank",
         "HR",
         "69000.00",
         "68000.00",
         "70000.00"
        ],
        [
         1,
         "Alice",
         "HR",
         "70000.00",
         "69000.00",
         null
        ],
        [
         13,
         "Mona",
         "IT",
         "73000.00",
         null,
         "74000.00"
        ],
        [
         17,
         "Quinn",
         "IT",
         "74000.00",
         "73000.00",
         "75000.00"
        ],
        [
         5,
         "Eva",
         "IT",
         "75000.00",
         "74000.00",
         "78000.00"
        ],
        [
         9,
         "Ivy",
         "IT",
         "78000.00",
         "75000.00",
         "80000.00"
        ],
        [
         2,
         "Bob",
         "IT",
         "80000.00",
         "78000.00",
         "80000.00"
        ],
        [
         20,
         "Tina",
         "IT",
         "80000.00",
         "80000.00",
         null
        ],
        [
         11,
         "Kelly",
         "Marketing",
         "70000.00",
         null,
         "72000.00"
        ],
        [
         7,
         "Grace",
         "Marketing",
         "72000.00",
         "70000.00",
         "72000.00"
        ],
        [
         19,
         "Sam",
         "Marketing",
         "72000.00",
         "72000.00",
         "75000.00"
        ],
        [
         15,
         "Olivia",
         "Marketing",
         "75000.00",
         "72000.00",
         null
        ]
       ],
       "datasetInfos": [],
       "dbfsResultPath": null,
       "isJsonSchema": true,
       "metadata": {
        "dataframeName": "_sqldf",
        "executionCount": 17
       },
       "overflow": false,
       "plotOptions": {
        "customPlotOptions": {},
        "displayType": "table",
        "pivotAggregation": null,
        "pivotColumns": null,
        "xColumns": null,
        "yColumns": null
       },
       "removedWidgets": [],
       "schema": [
        {
         "metadata": "{}",
         "name": "id",
         "type": "\"integer\""
        },
        {
         "metadata": "{\"__CHAR_VARCHAR_TYPE_STRING\":\"varchar(50)\"}",
         "name": "name",
         "type": "\"string\""
        },
        {
         "metadata": "{\"__CHAR_VARCHAR_TYPE_STRING\":\"varchar(50)\"}",
         "name": "department",
         "type": "\"string\""
        },
        {
         "metadata": "{}",
         "name": "salary",
         "type": "\"decimal(10,2)\""
        },
        {
         "metadata": "{}",
         "name": "prev_salary",
         "type": "\"decimal(10,2)\""
        },
        {
         "metadata": "{}",
         "name": "next_salary",
         "type": "\"decimal(10,2)\""
        }
       ],
       "type": "table"
      }
     },
     "output_type": "display_data"
    }
   ],
   "source": [
    "%sql\n",
    "SELECT\n",
    "    id,\n",
    "    name,\n",
    "    department,\n",
    "    salary,\n",
    "    LAG(salary, 1) OVER (PARTITION BY department ORDER BY salary) AS prev_salary,\n",
    "    LEAD(salary, 1) OVER (PARTITION BY department ORDER BY salary) AS next_salary\n",
    "FROM\n",
    "    employees;\n"
   ]
  },
  {
   "cell_type": "code",
   "execution_count": 0,
   "metadata": {
    "application/vnd.databricks.v1+cell": {
     "cellMetadata": {
      "byteLimit": 2048000,
      "implicitDf": true,
      "rowLimit": 10000
     },
     "inputWidgets": {},
     "nuid": "b0e9f5b1-843b-4ff7-a236-a95eb3633d59",
     "showTitle": false,
     "title": ""
    }
   },
   "outputs": [
    {
     "output_type": "display_data",
     "data": {
      "text/html": [
       "<style scoped>\n",
       "  .table-result-container {\n",
       "    max-height: 300px;\n",
       "    overflow: auto;\n",
       "  }\n",
       "  table, th, td {\n",
       "    border: 1px solid black;\n",
       "    border-collapse: collapse;\n",
       "  }\n",
       "  th, td {\n",
       "    padding: 5px;\n",
       "  }\n",
       "  th {\n",
       "    text-align: left;\n",
       "  }\n",
       "</style><div class='table-result-container'><table class='table-result'><thead style='background-color: white'><tr><th>id</th><th>name</th><th>department</th><th>salary</th><th>quartile</th></tr></thead><tbody><tr><td>3</td><td>Charlie</td><td>Finance</td><td>90000.00</td><td>1</td></tr><tr><td>6</td><td>Frank</td><td>Finance</td><td>85000.00</td><td>1</td></tr><tr><td>10</td><td>Jack</td><td>Finance</td><td>81000.00</td><td>2</td></tr><tr><td>18</td><td>Rachel</td><td>Finance</td><td>77000.00</td><td>3</td></tr><tr><td>14</td><td>Nate</td><td>Finance</td><td>67000.00</td><td>4</td></tr><tr><td>1</td><td>Alice</td><td>HR</td><td>70000.00</td><td>1</td></tr><tr><td>8</td><td>Hank</td><td>HR</td><td>69000.00</td><td>1</td></tr><tr><td>16</td><td>Paul</td><td>HR</td><td>68000.00</td><td>2</td></tr><tr><td>12</td><td>Liam</td><td>HR</td><td>62000.00</td><td>3</td></tr><tr><td>4</td><td>David</td><td>HR</td><td>60000.00</td><td>4</td></tr><tr><td>2</td><td>Bob</td><td>IT</td><td>80000.00</td><td>1</td></tr><tr><td>20</td><td>Tina</td><td>IT</td><td>80000.00</td><td>1</td></tr><tr><td>9</td><td>Ivy</td><td>IT</td><td>78000.00</td><td>2</td></tr><tr><td>5</td><td>Eva</td><td>IT</td><td>75000.00</td><td>2</td></tr><tr><td>17</td><td>Quinn</td><td>IT</td><td>74000.00</td><td>3</td></tr><tr><td>13</td><td>Mona</td><td>IT</td><td>73000.00</td><td>4</td></tr><tr><td>15</td><td>Olivia</td><td>Marketing</td><td>75000.00</td><td>1</td></tr><tr><td>7</td><td>Grace</td><td>Marketing</td><td>72000.00</td><td>2</td></tr><tr><td>19</td><td>Sam</td><td>Marketing</td><td>72000.00</td><td>3</td></tr><tr><td>11</td><td>Kelly</td><td>Marketing</td><td>70000.00</td><td>4</td></tr></tbody></table></div>"
      ]
     },
     "metadata": {
      "application/vnd.databricks.v1+output": {
       "addedWidgets": {},
       "aggData": [],
       "aggError": "",
       "aggOverflow": false,
       "aggSchema": [],
       "aggSeriesLimitReached": false,
       "aggType": "",
       "arguments": {},
       "columnCustomDisplayInfos": {},
       "data": [
        [
         3,
         "Charlie",
         "Finance",
         "90000.00",
         1
        ],
        [
         6,
         "Frank",
         "Finance",
         "85000.00",
         1
        ],
        [
         10,
         "Jack",
         "Finance",
         "81000.00",
         2
        ],
        [
         18,
         "Rachel",
         "Finance",
         "77000.00",
         3
        ],
        [
         14,
         "Nate",
         "Finance",
         "67000.00",
         4
        ],
        [
         1,
         "Alice",
         "HR",
         "70000.00",
         1
        ],
        [
         8,
         "Hank",
         "HR",
         "69000.00",
         1
        ],
        [
         16,
         "Paul",
         "HR",
         "68000.00",
         2
        ],
        [
         12,
         "Liam",
         "HR",
         "62000.00",
         3
        ],
        [
         4,
         "David",
         "HR",
         "60000.00",
         4
        ],
        [
         2,
         "Bob",
         "IT",
         "80000.00",
         1
        ],
        [
         20,
         "Tina",
         "IT",
         "80000.00",
         1
        ],
        [
         9,
         "Ivy",
         "IT",
         "78000.00",
         2
        ],
        [
         5,
         "Eva",
         "IT",
         "75000.00",
         2
        ],
        [
         17,
         "Quinn",
         "IT",
         "74000.00",
         3
        ],
        [
         13,
         "Mona",
         "IT",
         "73000.00",
         4
        ],
        [
         15,
         "Olivia",
         "Marketing",
         "75000.00",
         1
        ],
        [
         7,
         "Grace",
         "Marketing",
         "72000.00",
         2
        ],
        [
         19,
         "Sam",
         "Marketing",
         "72000.00",
         3
        ],
        [
         11,
         "Kelly",
         "Marketing",
         "70000.00",
         4
        ]
       ],
       "datasetInfos": [],
       "dbfsResultPath": null,
       "isJsonSchema": true,
       "metadata": {
        "dataframeName": "_sqldf",
        "executionCount": 19
       },
       "overflow": false,
       "plotOptions": {
        "customPlotOptions": {},
        "displayType": "table",
        "pivotAggregation": null,
        "pivotColumns": null,
        "xColumns": null,
        "yColumns": null
       },
       "removedWidgets": [],
       "schema": [
        {
         "metadata": "{}",
         "name": "id",
         "type": "\"integer\""
        },
        {
         "metadata": "{\"__CHAR_VARCHAR_TYPE_STRING\":\"varchar(50)\"}",
         "name": "name",
         "type": "\"string\""
        },
        {
         "metadata": "{\"__CHAR_VARCHAR_TYPE_STRING\":\"varchar(50)\"}",
         "name": "department",
         "type": "\"string\""
        },
        {
         "metadata": "{}",
         "name": "salary",
         "type": "\"decimal(10,2)\""
        },
        {
         "metadata": "{}",
         "name": "quartile",
         "type": "\"integer\""
        }
       ],
       "type": "table"
      }
     },
     "output_type": "display_data"
    }
   ],
   "source": [
    "%sql\n",
    "SELECT\n",
    "    id,\n",
    "    name,\n",
    "    department,\n",
    "    salary,\n",
    "    NTILE(4) OVER (PARTITION BY department ORDER BY salary DESC) AS quartile\n",
    "FROM\n",
    "    employees;\n"
   ]
  },
  {
   "cell_type": "code",
   "execution_count": 0,
   "metadata": {
    "application/vnd.databricks.v1+cell": {
     "cellMetadata": {
      "byteLimit": 2048000,
      "implicitDf": true,
      "rowLimit": 10000
     },
     "inputWidgets": {},
     "nuid": "9dac7361-9b2b-4f11-a97b-a338e24dca6f",
     "showTitle": false,
     "title": ""
    }
   },
   "outputs": [
    {
     "output_type": "display_data",
     "data": {
      "text/html": [
       "<style scoped>\n",
       "  .table-result-container {\n",
       "    max-height: 300px;\n",
       "    overflow: auto;\n",
       "  }\n",
       "  table, th, td {\n",
       "    border: 1px solid black;\n",
       "    border-collapse: collapse;\n",
       "  }\n",
       "  th, td {\n",
       "    padding: 5px;\n",
       "  }\n",
       "  th {\n",
       "    text-align: left;\n",
       "  }\n",
       "</style><div class='table-result-container'><table class='table-result'><thead style='background-color: white'><tr><th>id</th><th>name</th><th>department</th><th>salary</th><th>cum_dist</th></tr></thead><tbody><tr><td>14</td><td>Nate</td><td>Finance</td><td>67000.00</td><td>0.2</td></tr><tr><td>18</td><td>Rachel</td><td>Finance</td><td>77000.00</td><td>0.4</td></tr><tr><td>10</td><td>Jack</td><td>Finance</td><td>81000.00</td><td>0.6</td></tr><tr><td>6</td><td>Frank</td><td>Finance</td><td>85000.00</td><td>0.8</td></tr><tr><td>3</td><td>Charlie</td><td>Finance</td><td>90000.00</td><td>1.0</td></tr><tr><td>4</td><td>David</td><td>HR</td><td>60000.00</td><td>0.2</td></tr><tr><td>12</td><td>Liam</td><td>HR</td><td>62000.00</td><td>0.4</td></tr><tr><td>16</td><td>Paul</td><td>HR</td><td>68000.00</td><td>0.6</td></tr><tr><td>8</td><td>Hank</td><td>HR</td><td>69000.00</td><td>0.8</td></tr><tr><td>1</td><td>Alice</td><td>HR</td><td>70000.00</td><td>1.0</td></tr><tr><td>13</td><td>Mona</td><td>IT</td><td>73000.00</td><td>0.16666666666666666</td></tr><tr><td>17</td><td>Quinn</td><td>IT</td><td>74000.00</td><td>0.3333333333333333</td></tr><tr><td>5</td><td>Eva</td><td>IT</td><td>75000.00</td><td>0.5</td></tr><tr><td>9</td><td>Ivy</td><td>IT</td><td>78000.00</td><td>0.6666666666666666</td></tr><tr><td>2</td><td>Bob</td><td>IT</td><td>80000.00</td><td>1.0</td></tr><tr><td>20</td><td>Tina</td><td>IT</td><td>80000.00</td><td>1.0</td></tr><tr><td>11</td><td>Kelly</td><td>Marketing</td><td>70000.00</td><td>0.25</td></tr><tr><td>7</td><td>Grace</td><td>Marketing</td><td>72000.00</td><td>0.75</td></tr><tr><td>19</td><td>Sam</td><td>Marketing</td><td>72000.00</td><td>0.75</td></tr><tr><td>15</td><td>Olivia</td><td>Marketing</td><td>75000.00</td><td>1.0</td></tr></tbody></table></div>"
      ]
     },
     "metadata": {
      "application/vnd.databricks.v1+output": {
       "addedWidgets": {},
       "aggData": [],
       "aggError": "",
       "aggOverflow": false,
       "aggSchema": [],
       "aggSeriesLimitReached": false,
       "aggType": "",
       "arguments": {},
       "columnCustomDisplayInfos": {},
       "data": [
        [
         14,
         "Nate",
         "Finance",
         "67000.00",
         0.2
        ],
        [
         18,
         "Rachel",
         "Finance",
         "77000.00",
         0.4
        ],
        [
         10,
         "Jack",
         "Finance",
         "81000.00",
         0.6
        ],
        [
         6,
         "Frank",
         "Finance",
         "85000.00",
         0.8
        ],
        [
         3,
         "Charlie",
         "Finance",
         "90000.00",
         1.0
        ],
        [
         4,
         "David",
         "HR",
         "60000.00",
         0.2
        ],
        [
         12,
         "Liam",
         "HR",
         "62000.00",
         0.4
        ],
        [
         16,
         "Paul",
         "HR",
         "68000.00",
         0.6
        ],
        [
         8,
         "Hank",
         "HR",
         "69000.00",
         0.8
        ],
        [
         1,
         "Alice",
         "HR",
         "70000.00",
         1.0
        ],
        [
         13,
         "Mona",
         "IT",
         "73000.00",
         0.16666666666666666
        ],
        [
         17,
         "Quinn",
         "IT",
         "74000.00",
         0.3333333333333333
        ],
        [
         5,
         "Eva",
         "IT",
         "75000.00",
         0.5
        ],
        [
         9,
         "Ivy",
         "IT",
         "78000.00",
         0.6666666666666666
        ],
        [
         2,
         "Bob",
         "IT",
         "80000.00",
         1.0
        ],
        [
         20,
         "Tina",
         "IT",
         "80000.00",
         1.0
        ],
        [
         11,
         "Kelly",
         "Marketing",
         "70000.00",
         0.25
        ],
        [
         7,
         "Grace",
         "Marketing",
         "72000.00",
         0.75
        ],
        [
         19,
         "Sam",
         "Marketing",
         "72000.00",
         0.75
        ],
        [
         15,
         "Olivia",
         "Marketing",
         "75000.00",
         1.0
        ]
       ],
       "datasetInfos": [],
       "dbfsResultPath": null,
       "isJsonSchema": true,
       "metadata": {
        "dataframeName": "_sqldf",
        "executionCount": 21
       },
       "overflow": false,
       "plotOptions": {
        "customPlotOptions": {},
        "displayType": "table",
        "pivotAggregation": null,
        "pivotColumns": null,
        "xColumns": null,
        "yColumns": null
       },
       "removedWidgets": [],
       "schema": [
        {
         "metadata": "{}",
         "name": "id",
         "type": "\"integer\""
        },
        {
         "metadata": "{\"__CHAR_VARCHAR_TYPE_STRING\":\"varchar(50)\"}",
         "name": "name",
         "type": "\"string\""
        },
        {
         "metadata": "{\"__CHAR_VARCHAR_TYPE_STRING\":\"varchar(50)\"}",
         "name": "department",
         "type": "\"string\""
        },
        {
         "metadata": "{}",
         "name": "salary",
         "type": "\"decimal(10,2)\""
        },
        {
         "metadata": "{}",
         "name": "cum_dist",
         "type": "\"double\""
        }
       ],
       "type": "table"
      }
     },
     "output_type": "display_data"
    }
   ],
   "source": [
    "%sql\n",
    "SELECT\n",
    "    id,\n",
    "    name,\n",
    "    department,\n",
    "    salary,\n",
    "    CUME_DIST() OVER (PARTITION BY department ORDER BY salary) AS cum_dist\n",
    "FROM\n",
    "    employees;\n"
   ]
  },
  {
   "cell_type": "code",
   "execution_count": 0,
   "metadata": {
    "application/vnd.databricks.v1+cell": {
     "cellMetadata": {
      "byteLimit": 2048000,
      "implicitDf": true,
      "rowLimit": 10000
     },
     "inputWidgets": {},
     "nuid": "d3ad2c41-6315-4701-8506-e0ff493af75a",
     "showTitle": false,
     "title": ""
    }
   },
   "outputs": [
    {
     "output_type": "display_data",
     "data": {
      "text/html": [
       "<style scoped>\n",
       "  .table-result-container {\n",
       "    max-height: 300px;\n",
       "    overflow: auto;\n",
       "  }\n",
       "  table, th, td {\n",
       "    border: 1px solid black;\n",
       "    border-collapse: collapse;\n",
       "  }\n",
       "  th, td {\n",
       "    padding: 5px;\n",
       "  }\n",
       "  th {\n",
       "    text-align: left;\n",
       "  }\n",
       "</style><div class='table-result-container'><table class='table-result'><thead style='background-color: white'><tr><th>id</th><th>name</th><th>department</th><th>salary</th><th>percent_rank</th></tr></thead><tbody><tr><td>14</td><td>Nate</td><td>Finance</td><td>67000.00</td><td>0.0</td></tr><tr><td>18</td><td>Rachel</td><td>Finance</td><td>77000.00</td><td>0.25</td></tr><tr><td>10</td><td>Jack</td><td>Finance</td><td>81000.00</td><td>0.5</td></tr><tr><td>6</td><td>Frank</td><td>Finance</td><td>85000.00</td><td>0.75</td></tr><tr><td>3</td><td>Charlie</td><td>Finance</td><td>90000.00</td><td>1.0</td></tr><tr><td>4</td><td>David</td><td>HR</td><td>60000.00</td><td>0.0</td></tr><tr><td>12</td><td>Liam</td><td>HR</td><td>62000.00</td><td>0.25</td></tr><tr><td>16</td><td>Paul</td><td>HR</td><td>68000.00</td><td>0.5</td></tr><tr><td>8</td><td>Hank</td><td>HR</td><td>69000.00</td><td>0.75</td></tr><tr><td>1</td><td>Alice</td><td>HR</td><td>70000.00</td><td>1.0</td></tr><tr><td>13</td><td>Mona</td><td>IT</td><td>73000.00</td><td>0.0</td></tr><tr><td>17</td><td>Quinn</td><td>IT</td><td>74000.00</td><td>0.2</td></tr><tr><td>5</td><td>Eva</td><td>IT</td><td>75000.00</td><td>0.4</td></tr><tr><td>9</td><td>Ivy</td><td>IT</td><td>78000.00</td><td>0.6</td></tr><tr><td>2</td><td>Bob</td><td>IT</td><td>80000.00</td><td>0.8</td></tr><tr><td>20</td><td>Tina</td><td>IT</td><td>80000.00</td><td>0.8</td></tr><tr><td>11</td><td>Kelly</td><td>Marketing</td><td>70000.00</td><td>0.0</td></tr><tr><td>7</td><td>Grace</td><td>Marketing</td><td>72000.00</td><td>0.3333333333333333</td></tr><tr><td>19</td><td>Sam</td><td>Marketing</td><td>72000.00</td><td>0.3333333333333333</td></tr><tr><td>15</td><td>Olivia</td><td>Marketing</td><td>75000.00</td><td>1.0</td></tr></tbody></table></div>"
      ]
     },
     "metadata": {
      "application/vnd.databricks.v1+output": {
       "addedWidgets": {},
       "aggData": [],
       "aggError": "",
       "aggOverflow": false,
       "aggSchema": [],
       "aggSeriesLimitReached": false,
       "aggType": "",
       "arguments": {},
       "columnCustomDisplayInfos": {},
       "data": [
        [
         14,
         "Nate",
         "Finance",
         "67000.00",
         0.0
        ],
        [
         18,
         "Rachel",
         "Finance",
         "77000.00",
         0.25
        ],
        [
         10,
         "Jack",
         "Finance",
         "81000.00",
         0.5
        ],
        [
         6,
         "Frank",
         "Finance",
         "85000.00",
         0.75
        ],
        [
         3,
         "Charlie",
         "Finance",
         "90000.00",
         1.0
        ],
        [
         4,
         "David",
         "HR",
         "60000.00",
         0.0
        ],
        [
         12,
         "Liam",
         "HR",
         "62000.00",
         0.25
        ],
        [
         16,
         "Paul",
         "HR",
         "68000.00",
         0.5
        ],
        [
         8,
         "Hank",
         "HR",
         "69000.00",
         0.75
        ],
        [
         1,
         "Alice",
         "HR",
         "70000.00",
         1.0
        ],
        [
         13,
         "Mona",
         "IT",
         "73000.00",
         0.0
        ],
        [
         17,
         "Quinn",
         "IT",
         "74000.00",
         0.2
        ],
        [
         5,
         "Eva",
         "IT",
         "75000.00",
         0.4
        ],
        [
         9,
         "Ivy",
         "IT",
         "78000.00",
         0.6
        ],
        [
         2,
         "Bob",
         "IT",
         "80000.00",
         0.8
        ],
        [
         20,
         "Tina",
         "IT",
         "80000.00",
         0.8
        ],
        [
         11,
         "Kelly",
         "Marketing",
         "70000.00",
         0.0
        ],
        [
         7,
         "Grace",
         "Marketing",
         "72000.00",
         0.3333333333333333
        ],
        [
         19,
         "Sam",
         "Marketing",
         "72000.00",
         0.3333333333333333
        ],
        [
         15,
         "Olivia",
         "Marketing",
         "75000.00",
         1.0
        ]
       ],
       "datasetInfos": [],
       "dbfsResultPath": null,
       "isJsonSchema": true,
       "metadata": {
        "dataframeName": "_sqldf",
        "executionCount": 23
       },
       "overflow": false,
       "plotOptions": {
        "customPlotOptions": {},
        "displayType": "table",
        "pivotAggregation": null,
        "pivotColumns": null,
        "xColumns": null,
        "yColumns": null
       },
       "removedWidgets": [],
       "schema": [
        {
         "metadata": "{}",
         "name": "id",
         "type": "\"integer\""
        },
        {
         "metadata": "{\"__CHAR_VARCHAR_TYPE_STRING\":\"varchar(50)\"}",
         "name": "name",
         "type": "\"string\""
        },
        {
         "metadata": "{\"__CHAR_VARCHAR_TYPE_STRING\":\"varchar(50)\"}",
         "name": "department",
         "type": "\"string\""
        },
        {
         "metadata": "{}",
         "name": "salary",
         "type": "\"decimal(10,2)\""
        },
        {
         "metadata": "{}",
         "name": "percent_rank",
         "type": "\"double\""
        }
       ],
       "type": "table"
      }
     },
     "output_type": "display_data"
    }
   ],
   "source": [
    "%sql\n",
    "SELECT\n",
    "    id,\n",
    "    name,\n",
    "    department,\n",
    "    salary,\n",
    "    PERCENT_RANK() OVER (PARTITION BY department ORDER BY salary) AS percent_rank\n",
    "FROM\n",
    "    employees;\n"
   ]
  },
  {
   "cell_type": "code",
   "execution_count": 0,
   "metadata": {
    "application/vnd.databricks.v1+cell": {
     "cellMetadata": {
      "byteLimit": 2048000,
      "implicitDf": true,
      "rowLimit": 10000
     },
     "inputWidgets": {},
     "nuid": "a8846f40-cf6d-4209-94aa-c4f1f8521020",
     "showTitle": false,
     "title": ""
    }
   },
   "outputs": [
    {
     "output_type": "display_data",
     "data": {
      "text/html": [
       "<style scoped>\n",
       "  .table-result-container {\n",
       "    max-height: 300px;\n",
       "    overflow: auto;\n",
       "  }\n",
       "  table, th, td {\n",
       "    border: 1px solid black;\n",
       "    border-collapse: collapse;\n",
       "  }\n",
       "  th, td {\n",
       "    padding: 5px;\n",
       "  }\n",
       "  th {\n",
       "    text-align: left;\n",
       "  }\n",
       "</style><div class='table-result-container'><table class='table-result'><thead style='background-color: white'><tr><th>id</th><th>name</th><th>department</th><th>salary</th><th>first_salary</th><th>last_salary</th></tr></thead><tbody><tr><td>14</td><td>Nate</td><td>Finance</td><td>67000.00</td><td>67000.00</td><td>90000.00</td></tr><tr><td>18</td><td>Rachel</td><td>Finance</td><td>77000.00</td><td>67000.00</td><td>90000.00</td></tr><tr><td>10</td><td>Jack</td><td>Finance</td><td>81000.00</td><td>67000.00</td><td>90000.00</td></tr><tr><td>6</td><td>Frank</td><td>Finance</td><td>85000.00</td><td>67000.00</td><td>90000.00</td></tr><tr><td>3</td><td>Charlie</td><td>Finance</td><td>90000.00</td><td>67000.00</td><td>90000.00</td></tr><tr><td>4</td><td>David</td><td>HR</td><td>60000.00</td><td>60000.00</td><td>70000.00</td></tr><tr><td>12</td><td>Liam</td><td>HR</td><td>62000.00</td><td>60000.00</td><td>70000.00</td></tr><tr><td>16</td><td>Paul</td><td>HR</td><td>68000.00</td><td>60000.00</td><td>70000.00</td></tr><tr><td>8</td><td>Hank</td><td>HR</td><td>69000.00</td><td>60000.00</td><td>70000.00</td></tr><tr><td>1</td><td>Alice</td><td>HR</td><td>70000.00</td><td>60000.00</td><td>70000.00</td></tr><tr><td>13</td><td>Mona</td><td>IT</td><td>73000.00</td><td>73000.00</td><td>80000.00</td></tr><tr><td>17</td><td>Quinn</td><td>IT</td><td>74000.00</td><td>73000.00</td><td>80000.00</td></tr><tr><td>5</td><td>Eva</td><td>IT</td><td>75000.00</td><td>73000.00</td><td>80000.00</td></tr><tr><td>9</td><td>Ivy</td><td>IT</td><td>78000.00</td><td>73000.00</td><td>80000.00</td></tr><tr><td>2</td><td>Bob</td><td>IT</td><td>80000.00</td><td>73000.00</td><td>80000.00</td></tr><tr><td>20</td><td>Tina</td><td>IT</td><td>80000.00</td><td>73000.00</td><td>80000.00</td></tr><tr><td>11</td><td>Kelly</td><td>Marketing</td><td>70000.00</td><td>70000.00</td><td>75000.00</td></tr><tr><td>7</td><td>Grace</td><td>Marketing</td><td>72000.00</td><td>70000.00</td><td>75000.00</td></tr><tr><td>19</td><td>Sam</td><td>Marketing</td><td>72000.00</td><td>70000.00</td><td>75000.00</td></tr><tr><td>15</td><td>Olivia</td><td>Marketing</td><td>75000.00</td><td>70000.00</td><td>75000.00</td></tr></tbody></table></div>"
      ]
     },
     "metadata": {
      "application/vnd.databricks.v1+output": {
       "addedWidgets": {},
       "aggData": [],
       "aggError": "",
       "aggOverflow": false,
       "aggSchema": [],
       "aggSeriesLimitReached": false,
       "aggType": "",
       "arguments": {},
       "columnCustomDisplayInfos": {},
       "data": [
        [
         14,
         "Nate",
         "Finance",
         "67000.00",
         "67000.00",
         "90000.00"
        ],
        [
         18,
         "Rachel",
         "Finance",
         "77000.00",
         "67000.00",
         "90000.00"
        ],
        [
         10,
         "Jack",
         "Finance",
         "81000.00",
         "67000.00",
         "90000.00"
        ],
        [
         6,
         "Frank",
         "Finance",
         "85000.00",
         "67000.00",
         "90000.00"
        ],
        [
         3,
         "Charlie",
         "Finance",
         "90000.00",
         "67000.00",
         "90000.00"
        ],
        [
         4,
         "David",
         "HR",
         "60000.00",
         "60000.00",
         "70000.00"
        ],
        [
         12,
         "Liam",
         "HR",
         "62000.00",
         "60000.00",
         "70000.00"
        ],
        [
         16,
         "Paul",
         "HR",
         "68000.00",
         "60000.00",
         "70000.00"
        ],
        [
         8,
         "Hank",
         "HR",
         "69000.00",
         "60000.00",
         "70000.00"
        ],
        [
         1,
         "Alice",
         "HR",
         "70000.00",
         "60000.00",
         "70000.00"
        ],
        [
         13,
         "Mona",
         "IT",
         "73000.00",
         "73000.00",
         "80000.00"
        ],
        [
         17,
         "Quinn",
         "IT",
         "74000.00",
         "73000.00",
         "80000.00"
        ],
        [
         5,
         "Eva",
         "IT",
         "75000.00",
         "73000.00",
         "80000.00"
        ],
        [
         9,
         "Ivy",
         "IT",
         "78000.00",
         "73000.00",
         "80000.00"
        ],
        [
         2,
         "Bob",
         "IT",
         "80000.00",
         "73000.00",
         "80000.00"
        ],
        [
         20,
         "Tina",
         "IT",
         "80000.00",
         "73000.00",
         "80000.00"
        ],
        [
         11,
         "Kelly",
         "Marketing",
         "70000.00",
         "70000.00",
         "75000.00"
        ],
        [
         7,
         "Grace",
         "Marketing",
         "72000.00",
         "70000.00",
         "75000.00"
        ],
        [
         19,
         "Sam",
         "Marketing",
         "72000.00",
         "70000.00",
         "75000.00"
        ],
        [
         15,
         "Olivia",
         "Marketing",
         "75000.00",
         "70000.00",
         "75000.00"
        ]
       ],
       "datasetInfos": [],
       "dbfsResultPath": null,
       "isJsonSchema": true,
       "metadata": {
        "dataframeName": "_sqldf",
        "executionCount": 25
       },
       "overflow": false,
       "plotOptions": {
        "customPlotOptions": {},
        "displayType": "table",
        "pivotAggregation": null,
        "pivotColumns": null,
        "xColumns": null,
        "yColumns": null
       },
       "removedWidgets": [],
       "schema": [
        {
         "metadata": "{}",
         "name": "id",
         "type": "\"integer\""
        },
        {
         "metadata": "{\"__CHAR_VARCHAR_TYPE_STRING\":\"varchar(50)\"}",
         "name": "name",
         "type": "\"string\""
        },
        {
         "metadata": "{\"__CHAR_VARCHAR_TYPE_STRING\":\"varchar(50)\"}",
         "name": "department",
         "type": "\"string\""
        },
        {
         "metadata": "{}",
         "name": "salary",
         "type": "\"decimal(10,2)\""
        },
        {
         "metadata": "{}",
         "name": "first_salary",
         "type": "\"decimal(10,2)\""
        },
        {
         "metadata": "{}",
         "name": "last_salary",
         "type": "\"decimal(10,2)\""
        }
       ],
       "type": "table"
      }
     },
     "output_type": "display_data"
    }
   ],
   "source": [
    "%sql\n",
    "SELECT\n",
    "    id,\n",
    "    name,\n",
    "    department,\n",
    "    salary,\n",
    "    FIRST_VALUE(salary) OVER (PARTITION BY department ORDER BY salary) AS first_salary,\n",
    "    LAST_VALUE(salary) OVER (PARTITION BY department ORDER BY salary RANGE BETWEEN UNBOUNDED PRECEDING AND UNBOUNDED FOLLOWING) AS last_salary\n",
    "FROM\n",
    "    employees;\n"
   ]
  },
  {
   "cell_type": "code",
   "execution_count": 0,
   "metadata": {
    "application/vnd.databricks.v1+cell": {
     "cellMetadata": {
      "byteLimit": 2048000,
      "implicitDf": true,
      "rowLimit": 10000
     },
     "inputWidgets": {},
     "nuid": "afaa934a-d3f2-4562-94fe-2fd28294fd50",
     "showTitle": false,
     "title": ""
    }
   },
   "outputs": [
    {
     "output_type": "display_data",
     "data": {
      "text/html": [
       "<style scoped>\n",
       "  .table-result-container {\n",
       "    max-height: 300px;\n",
       "    overflow: auto;\n",
       "  }\n",
       "  table, th, td {\n",
       "    border: 1px solid black;\n",
       "    border-collapse: collapse;\n",
       "  }\n",
       "  th, td {\n",
       "    padding: 5px;\n",
       "  }\n",
       "  th {\n",
       "    text-align: left;\n",
       "  }\n",
       "</style><div class='table-result-container'><table class='table-result'><thead style='background-color: white'><tr><th>id</th><th>name</th><th>department</th><th>salary</th><th>min_salary</th></tr></thead><tbody><tr><td>3</td><td>Charlie</td><td>Finance</td><td>90000.00</td><td>67000.00</td></tr><tr><td>6</td><td>Frank</td><td>Finance</td><td>85000.00</td><td>67000.00</td></tr><tr><td>10</td><td>Jack</td><td>Finance</td><td>81000.00</td><td>67000.00</td></tr><tr><td>14</td><td>Nate</td><td>Finance</td><td>67000.00</td><td>67000.00</td></tr><tr><td>18</td><td>Rachel</td><td>Finance</td><td>77000.00</td><td>67000.00</td></tr><tr><td>1</td><td>Alice</td><td>HR</td><td>70000.00</td><td>60000.00</td></tr><tr><td>4</td><td>David</td><td>HR</td><td>60000.00</td><td>60000.00</td></tr><tr><td>8</td><td>Hank</td><td>HR</td><td>69000.00</td><td>60000.00</td></tr><tr><td>12</td><td>Liam</td><td>HR</td><td>62000.00</td><td>60000.00</td></tr><tr><td>16</td><td>Paul</td><td>HR</td><td>68000.00</td><td>60000.00</td></tr><tr><td>2</td><td>Bob</td><td>IT</td><td>80000.00</td><td>73000.00</td></tr><tr><td>5</td><td>Eva</td><td>IT</td><td>75000.00</td><td>73000.00</td></tr><tr><td>9</td><td>Ivy</td><td>IT</td><td>78000.00</td><td>73000.00</td></tr><tr><td>13</td><td>Mona</td><td>IT</td><td>73000.00</td><td>73000.00</td></tr><tr><td>17</td><td>Quinn</td><td>IT</td><td>74000.00</td><td>73000.00</td></tr><tr><td>20</td><td>Tina</td><td>IT</td><td>80000.00</td><td>73000.00</td></tr><tr><td>7</td><td>Grace</td><td>Marketing</td><td>72000.00</td><td>70000.00</td></tr><tr><td>11</td><td>Kelly</td><td>Marketing</td><td>70000.00</td><td>70000.00</td></tr><tr><td>15</td><td>Olivia</td><td>Marketing</td><td>75000.00</td><td>70000.00</td></tr><tr><td>19</td><td>Sam</td><td>Marketing</td><td>72000.00</td><td>70000.00</td></tr></tbody></table></div>"
      ]
     },
     "metadata": {
      "application/vnd.databricks.v1+output": {
       "addedWidgets": {},
       "aggData": [],
       "aggError": "",
       "aggOverflow": false,
       "aggSchema": [],
       "aggSeriesLimitReached": false,
       "aggType": "",
       "arguments": {},
       "columnCustomDisplayInfos": {},
       "data": [
        [
         3,
         "Charlie",
         "Finance",
         "90000.00",
         "67000.00"
        ],
        [
         6,
         "Frank",
         "Finance",
         "85000.00",
         "67000.00"
        ],
        [
         10,
         "Jack",
         "Finance",
         "81000.00",
         "67000.00"
        ],
        [
         14,
         "Nate",
         "Finance",
         "67000.00",
         "67000.00"
        ],
        [
         18,
         "Rachel",
         "Finance",
         "77000.00",
         "67000.00"
        ],
        [
         1,
         "Alice",
         "HR",
         "70000.00",
         "60000.00"
        ],
        [
         4,
         "David",
         "HR",
         "60000.00",
         "60000.00"
        ],
        [
         8,
         "Hank",
         "HR",
         "69000.00",
         "60000.00"
        ],
        [
         12,
         "Liam",
         "HR",
         "62000.00",
         "60000.00"
        ],
        [
         16,
         "Paul",
         "HR",
         "68000.00",
         "60000.00"
        ],
        [
         2,
         "Bob",
         "IT",
         "80000.00",
         "73000.00"
        ],
        [
         5,
         "Eva",
         "IT",
         "75000.00",
         "73000.00"
        ],
        [
         9,
         "Ivy",
         "IT",
         "78000.00",
         "73000.00"
        ],
        [
         13,
         "Mona",
         "IT",
         "73000.00",
         "73000.00"
        ],
        [
         17,
         "Quinn",
         "IT",
         "74000.00",
         "73000.00"
        ],
        [
         20,
         "Tina",
         "IT",
         "80000.00",
         "73000.00"
        ],
        [
         7,
         "Grace",
         "Marketing",
         "72000.00",
         "70000.00"
        ],
        [
         11,
         "Kelly",
         "Marketing",
         "70000.00",
         "70000.00"
        ],
        [
         15,
         "Olivia",
         "Marketing",
         "75000.00",
         "70000.00"
        ],
        [
         19,
         "Sam",
         "Marketing",
         "72000.00",
         "70000.00"
        ]
       ],
       "datasetInfos": [],
       "dbfsResultPath": null,
       "isJsonSchema": true,
       "metadata": {
        "dataframeName": "_sqldf",
        "executionCount": 27
       },
       "overflow": false,
       "plotOptions": {
        "customPlotOptions": {},
        "displayType": "table",
        "pivotAggregation": null,
        "pivotColumns": null,
        "xColumns": null,
        "yColumns": null
       },
       "removedWidgets": [],
       "schema": [
        {
         "metadata": "{}",
         "name": "id",
         "type": "\"integer\""
        },
        {
         "metadata": "{\"__CHAR_VARCHAR_TYPE_STRING\":\"varchar(50)\"}",
         "name": "name",
         "type": "\"string\""
        },
        {
         "metadata": "{\"__CHAR_VARCHAR_TYPE_STRING\":\"varchar(50)\"}",
         "name": "department",
         "type": "\"string\""
        },
        {
         "metadata": "{}",
         "name": "salary",
         "type": "\"decimal(10,2)\""
        },
        {
         "metadata": "{}",
         "name": "min_salary",
         "type": "\"decimal(10,2)\""
        }
       ],
       "type": "table"
      }
     },
     "output_type": "display_data"
    }
   ],
   "source": [
    "%sql\n",
    "SELECT\n",
    "    id,\n",
    "    name,\n",
    "    department,\n",
    "    salary,\n",
    "    MIN(salary) OVER (PARTITION BY department) AS min_salary\n",
    "FROM\n",
    "    employees;\n"
   ]
  },
  {
   "cell_type": "code",
   "execution_count": 0,
   "metadata": {
    "application/vnd.databricks.v1+cell": {
     "cellMetadata": {
      "byteLimit": 2048000,
      "implicitDf": true,
      "rowLimit": 10000
     },
     "inputWidgets": {},
     "nuid": "c657e65e-3359-40f2-8b4a-180aaa3c5485",
     "showTitle": false,
     "title": ""
    }
   },
   "outputs": [
    {
     "output_type": "display_data",
     "data": {
      "text/html": [
       "<style scoped>\n",
       "  .table-result-container {\n",
       "    max-height: 300px;\n",
       "    overflow: auto;\n",
       "  }\n",
       "  table, th, td {\n",
       "    border: 1px solid black;\n",
       "    border-collapse: collapse;\n",
       "  }\n",
       "  th, td {\n",
       "    padding: 5px;\n",
       "  }\n",
       "  th {\n",
       "    text-align: left;\n",
       "  }\n",
       "</style><div class='table-result-container'><table class='table-result'><thead style='background-color: white'><tr><th>id</th><th>name</th><th>department</th><th>salary</th><th>max_salary</th></tr></thead><tbody><tr><td>3</td><td>Charlie</td><td>Finance</td><td>90000.00</td><td>90000.00</td></tr><tr><td>6</td><td>Frank</td><td>Finance</td><td>85000.00</td><td>90000.00</td></tr><tr><td>10</td><td>Jack</td><td>Finance</td><td>81000.00</td><td>90000.00</td></tr><tr><td>14</td><td>Nate</td><td>Finance</td><td>67000.00</td><td>90000.00</td></tr><tr><td>18</td><td>Rachel</td><td>Finance</td><td>77000.00</td><td>90000.00</td></tr><tr><td>1</td><td>Alice</td><td>HR</td><td>70000.00</td><td>70000.00</td></tr><tr><td>4</td><td>David</td><td>HR</td><td>60000.00</td><td>70000.00</td></tr><tr><td>8</td><td>Hank</td><td>HR</td><td>69000.00</td><td>70000.00</td></tr><tr><td>12</td><td>Liam</td><td>HR</td><td>62000.00</td><td>70000.00</td></tr><tr><td>16</td><td>Paul</td><td>HR</td><td>68000.00</td><td>70000.00</td></tr><tr><td>2</td><td>Bob</td><td>IT</td><td>80000.00</td><td>80000.00</td></tr><tr><td>5</td><td>Eva</td><td>IT</td><td>75000.00</td><td>80000.00</td></tr><tr><td>9</td><td>Ivy</td><td>IT</td><td>78000.00</td><td>80000.00</td></tr><tr><td>13</td><td>Mona</td><td>IT</td><td>73000.00</td><td>80000.00</td></tr><tr><td>17</td><td>Quinn</td><td>IT</td><td>74000.00</td><td>80000.00</td></tr><tr><td>20</td><td>Tina</td><td>IT</td><td>80000.00</td><td>80000.00</td></tr><tr><td>7</td><td>Grace</td><td>Marketing</td><td>72000.00</td><td>75000.00</td></tr><tr><td>11</td><td>Kelly</td><td>Marketing</td><td>70000.00</td><td>75000.00</td></tr><tr><td>15</td><td>Olivia</td><td>Marketing</td><td>75000.00</td><td>75000.00</td></tr><tr><td>19</td><td>Sam</td><td>Marketing</td><td>72000.00</td><td>75000.00</td></tr></tbody></table></div>"
      ]
     },
     "metadata": {
      "application/vnd.databricks.v1+output": {
       "addedWidgets": {},
       "aggData": [],
       "aggError": "",
       "aggOverflow": false,
       "aggSchema": [],
       "aggSeriesLimitReached": false,
       "aggType": "",
       "arguments": {},
       "columnCustomDisplayInfos": {},
       "data": [
        [
         3,
         "Charlie",
         "Finance",
         "90000.00",
         "90000.00"
        ],
        [
         6,
         "Frank",
         "Finance",
         "85000.00",
         "90000.00"
        ],
        [
         10,
         "Jack",
         "Finance",
         "81000.00",
         "90000.00"
        ],
        [
         14,
         "Nate",
         "Finance",
         "67000.00",
         "90000.00"
        ],
        [
         18,
         "Rachel",
         "Finance",
         "77000.00",
         "90000.00"
        ],
        [
         1,
         "Alice",
         "HR",
         "70000.00",
         "70000.00"
        ],
        [
         4,
         "David",
         "HR",
         "60000.00",
         "70000.00"
        ],
        [
         8,
         "Hank",
         "HR",
         "69000.00",
         "70000.00"
        ],
        [
         12,
         "Liam",
         "HR",
         "62000.00",
         "70000.00"
        ],
        [
         16,
         "Paul",
         "HR",
         "68000.00",
         "70000.00"
        ],
        [
         2,
         "Bob",
         "IT",
         "80000.00",
         "80000.00"
        ],
        [
         5,
         "Eva",
         "IT",
         "75000.00",
         "80000.00"
        ],
        [
         9,
         "Ivy",
         "IT",
         "78000.00",
         "80000.00"
        ],
        [
         13,
         "Mona",
         "IT",
         "73000.00",
         "80000.00"
        ],
        [
         17,
         "Quinn",
         "IT",
         "74000.00",
         "80000.00"
        ],
        [
         20,
         "Tina",
         "IT",
         "80000.00",
         "80000.00"
        ],
        [
         7,
         "Grace",
         "Marketing",
         "72000.00",
         "75000.00"
        ],
        [
         11,
         "Kelly",
         "Marketing",
         "70000.00",
         "75000.00"
        ],
        [
         15,
         "Olivia",
         "Marketing",
         "75000.00",
         "75000.00"
        ],
        [
         19,
         "Sam",
         "Marketing",
         "72000.00",
         "75000.00"
        ]
       ],
       "datasetInfos": [],
       "dbfsResultPath": null,
       "isJsonSchema": true,
       "metadata": {
        "dataframeName": "_sqldf",
        "executionCount": 29
       },
       "overflow": false,
       "plotOptions": {
        "customPlotOptions": {},
        "displayType": "table",
        "pivotAggregation": null,
        "pivotColumns": null,
        "xColumns": null,
        "yColumns": null
       },
       "removedWidgets": [],
       "schema": [
        {
         "metadata": "{}",
         "name": "id",
         "type": "\"integer\""
        },
        {
         "metadata": "{\"__CHAR_VARCHAR_TYPE_STRING\":\"varchar(50)\"}",
         "name": "name",
         "type": "\"string\""
        },
        {
         "metadata": "{\"__CHAR_VARCHAR_TYPE_STRING\":\"varchar(50)\"}",
         "name": "department",
         "type": "\"string\""
        },
        {
         "metadata": "{}",
         "name": "salary",
         "type": "\"decimal(10,2)\""
        },
        {
         "metadata": "{}",
         "name": "max_salary",
         "type": "\"decimal(10,2)\""
        }
       ],
       "type": "table"
      }
     },
     "output_type": "display_data"
    }
   ],
   "source": [
    "%sql\n",
    "SELECT\n",
    "    id,\n",
    "    name,\n",
    "    department,\n",
    "    salary,\n",
    "    MAX(salary) OVER (PARTITION BY department) AS max_salary\n",
    "FROM\n",
    "    employees;\n"
   ]
  },
  {
   "cell_type": "code",
   "execution_count": 0,
   "metadata": {
    "application/vnd.databricks.v1+cell": {
     "cellMetadata": {
      "byteLimit": 2048000,
      "implicitDf": true,
      "rowLimit": 10000
     },
     "inputWidgets": {},
     "nuid": "b6bda7c3-4cbb-4464-997f-df807fed6d21",
     "showTitle": false,
     "title": ""
    }
   },
   "outputs": [
    {
     "output_type": "display_data",
     "data": {
      "text/html": [
       "<style scoped>\n",
       "  .table-result-container {\n",
       "    max-height: 300px;\n",
       "    overflow: auto;\n",
       "  }\n",
       "  table, th, td {\n",
       "    border: 1px solid black;\n",
       "    border-collapse: collapse;\n",
       "  }\n",
       "  th, td {\n",
       "    padding: 5px;\n",
       "  }\n",
       "  th {\n",
       "    text-align: left;\n",
       "  }\n",
       "</style><div class='table-result-container'><table class='table-result'><thead style='background-color: white'><tr><th>id</th><th>name</th><th>department</th><th>salary</th><th>department_count</th></tr></thead><tbody><tr><td>3</td><td>Charlie</td><td>Finance</td><td>90000.00</td><td>5</td></tr><tr><td>6</td><td>Frank</td><td>Finance</td><td>85000.00</td><td>5</td></tr><tr><td>10</td><td>Jack</td><td>Finance</td><td>81000.00</td><td>5</td></tr><tr><td>14</td><td>Nate</td><td>Finance</td><td>67000.00</td><td>5</td></tr><tr><td>18</td><td>Rachel</td><td>Finance</td><td>77000.00</td><td>5</td></tr><tr><td>1</td><td>Alice</td><td>HR</td><td>70000.00</td><td>5</td></tr><tr><td>4</td><td>David</td><td>HR</td><td>60000.00</td><td>5</td></tr><tr><td>8</td><td>Hank</td><td>HR</td><td>69000.00</td><td>5</td></tr><tr><td>12</td><td>Liam</td><td>HR</td><td>62000.00</td><td>5</td></tr><tr><td>16</td><td>Paul</td><td>HR</td><td>68000.00</td><td>5</td></tr><tr><td>2</td><td>Bob</td><td>IT</td><td>80000.00</td><td>6</td></tr><tr><td>5</td><td>Eva</td><td>IT</td><td>75000.00</td><td>6</td></tr><tr><td>9</td><td>Ivy</td><td>IT</td><td>78000.00</td><td>6</td></tr><tr><td>13</td><td>Mona</td><td>IT</td><td>73000.00</td><td>6</td></tr><tr><td>17</td><td>Quinn</td><td>IT</td><td>74000.00</td><td>6</td></tr><tr><td>20</td><td>Tina</td><td>IT</td><td>80000.00</td><td>6</td></tr><tr><td>7</td><td>Grace</td><td>Marketing</td><td>72000.00</td><td>4</td></tr><tr><td>11</td><td>Kelly</td><td>Marketing</td><td>70000.00</td><td>4</td></tr><tr><td>15</td><td>Olivia</td><td>Marketing</td><td>75000.00</td><td>4</td></tr><tr><td>19</td><td>Sam</td><td>Marketing</td><td>72000.00</td><td>4</td></tr></tbody></table></div>"
      ]
     },
     "metadata": {
      "application/vnd.databricks.v1+output": {
       "addedWidgets": {},
       "aggData": [],
       "aggError": "",
       "aggOverflow": false,
       "aggSchema": [],
       "aggSeriesLimitReached": false,
       "aggType": "",
       "arguments": {},
       "columnCustomDisplayInfos": {},
       "data": [
        [
         3,
         "Charlie",
         "Finance",
         "90000.00",
         5
        ],
        [
         6,
         "Frank",
         "Finance",
         "85000.00",
         5
        ],
        [
         10,
         "Jack",
         "Finance",
         "81000.00",
         5
        ],
        [
         14,
         "Nate",
         "Finance",
         "67000.00",
         5
        ],
        [
         18,
         "Rachel",
         "Finance",
         "77000.00",
         5
        ],
        [
         1,
         "Alice",
         "HR",
         "70000.00",
         5
        ],
        [
         4,
         "David",
         "HR",
         "60000.00",
         5
        ],
        [
         8,
         "Hank",
         "HR",
         "69000.00",
         5
        ],
        [
         12,
         "Liam",
         "HR",
         "62000.00",
         5
        ],
        [
         16,
         "Paul",
         "HR",
         "68000.00",
         5
        ],
        [
         2,
         "Bob",
         "IT",
         "80000.00",
         6
        ],
        [
         5,
         "Eva",
         "IT",
         "75000.00",
         6
        ],
        [
         9,
         "Ivy",
         "IT",
         "78000.00",
         6
        ],
        [
         13,
         "Mona",
         "IT",
         "73000.00",
         6
        ],
        [
         17,
         "Quinn",
         "IT",
         "74000.00",
         6
        ],
        [
         20,
         "Tina",
         "IT",
         "80000.00",
         6
        ],
        [
         7,
         "Grace",
         "Marketing",
         "72000.00",
         4
        ],
        [
         11,
         "Kelly",
         "Marketing",
         "70000.00",
         4
        ],
        [
         15,
         "Olivia",
         "Marketing",
         "75000.00",
         4
        ],
        [
         19,
         "Sam",
         "Marketing",
         "72000.00",
         4
        ]
       ],
       "datasetInfos": [],
       "dbfsResultPath": null,
       "isJsonSchema": true,
       "metadata": {
        "dataframeName": "_sqldf",
        "executionCount": 31
       },
       "overflow": false,
       "plotOptions": {
        "customPlotOptions": {},
        "displayType": "table",
        "pivotAggregation": null,
        "pivotColumns": null,
        "xColumns": null,
        "yColumns": null
       },
       "removedWidgets": [],
       "schema": [
        {
         "metadata": "{}",
         "name": "id",
         "type": "\"integer\""
        },
        {
         "metadata": "{\"__CHAR_VARCHAR_TYPE_STRING\":\"varchar(50)\"}",
         "name": "name",
         "type": "\"string\""
        },
        {
         "metadata": "{\"__CHAR_VARCHAR_TYPE_STRING\":\"varchar(50)\"}",
         "name": "department",
         "type": "\"string\""
        },
        {
         "metadata": "{}",
         "name": "salary",
         "type": "\"decimal(10,2)\""
        },
        {
         "metadata": "{}",
         "name": "department_count",
         "type": "\"long\""
        }
       ],
       "type": "table"
      }
     },
     "output_type": "display_data"
    }
   ],
   "source": [
    "%sql\n",
    "SELECT\n",
    "    id,\n",
    "    name,\n",
    "    department,\n",
    "    salary,\n",
    "    COUNT(*) OVER (PARTITION BY department) AS department_count\n",
    "FROM\n",
    "    employees;\n"
   ]
  }
 ],
 "metadata": {
  "application/vnd.databricks.v1+notebook": {
   "dashboards": [],
   "environmentMetadata": null,
   "language": "python",
   "notebookMetadata": {
    "mostRecentlyExecutedCommandWithImplicitDF": {
     "commandId": 869011933007236,
     "dataframes": [
      "_sqldf"
     ]
    },
    "pythonIndentUnit": 4
   },
   "notebookName": "Window_Functions_NB",
   "widgets": {}
  }
 },
 "nbformat": 4,
 "nbformat_minor": 0
}
