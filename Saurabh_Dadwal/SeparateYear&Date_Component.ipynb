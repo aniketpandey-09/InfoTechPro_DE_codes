{
 "cells": [
  {
   "cell_type": "code",
   "execution_count": 0,
   "metadata": {
    "application/vnd.databricks.v1+cell": {
     "cellMetadata": {
      "byteLimit": 2048000,
      "rowLimit": 10000
     },
     "inputWidgets": {},
     "nuid": "4cefabd7-3cd9-493e-a515-fe1f00702657",
     "showTitle": false,
     "title": ""
    }
   },
   "outputs": [
    {
     "output_type": "stream",
     "name": "stdout",
     "output_type": "stream",
     "text": [
      "+----------+------------------+--------------+--------------+\n|input_date|date_one_year_back|year_component|date_component|\n+----------+------------------+--------------+--------------+\n|2024-09-02|        2023-09-03|          2023|         09-03|\n+----------+------------------+--------------+--------------+\n\n"
     ]
    }
   ],
   "source": [
    "from pyspark.sql import SparkSession\n",
    "from pyspark.sql.functions import col, date_sub, year, date_format\n",
    "\n",
    "# Create a Spark session\n",
    "spark = SparkSession.builder.appName(\"DateConversion\").getOrCreate()\n",
    "\n",
    "# Sample data\n",
    "data = [(\"2024-09-02\",)]\n",
    "df = spark.createDataFrame(data, [\"input_date\"])\n",
    "\n",
    "# Define the date conversion function\n",
    "def process_date(df):\n",
    "    # Convert input_date to DateType\n",
    "    df = df.withColumn(\"input_date\", col(\"input_date\").cast(\"date\"))\n",
    "    \n",
    "    # Go one year back using date_sub with 365 days\n",
    "    df = df.withColumn(\"date_one_year_back\", date_sub(col(\"input_date\"), 365))\n",
    "    \n",
    "    # Extract the year component\n",
    "    df = df.withColumn(\"year_component\", year(col(\"date_one_year_back\")))\n",
    "    \n",
    "    # Extract the date component (in 'yyyy-MM-dd' format)\n",
    "    df = df.withColumn(\"date_component\", date_format(col(\"date_one_year_back\"), \"MM-dd\"))\n",
    "    \n",
    "    return df\n",
    "\n",
    "# Apply the function\n",
    "result_df = process_date(df)\n",
    "result_df.show()\n"
   ]
  }
 ],
 "metadata": {
  "application/vnd.databricks.v1+notebook": {
   "dashboards": [],
   "environmentMetadata": null,
   "language": "python",
   "notebookMetadata": {
    "mostRecentlyExecutedCommandWithImplicitDF": {
     "commandId": 1239816706175892,
     "dataframes": [
      "_sqldf"
     ]
    },
    "pythonIndentUnit": 4
   },
   "notebookName": "SeparateYear&Date_Component",
   "widgets": {}
  }
 },
 "nbformat": 4,
 "nbformat_minor": 0
}
