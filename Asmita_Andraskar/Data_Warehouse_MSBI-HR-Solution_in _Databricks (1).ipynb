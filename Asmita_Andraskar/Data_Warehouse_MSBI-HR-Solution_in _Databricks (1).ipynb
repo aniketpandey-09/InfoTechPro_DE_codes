{
 "cells": [
  {
   "cell_type": "code",
   "execution_count": 0,
   "metadata": {
    "application/vnd.databricks.v1+cell": {
     "cellMetadata": {
      "byteLimit": 2048000,
      "rowLimit": 10000
     },
     "inputWidgets": {},
     "nuid": "c4042333-4c44-40b8-a516-b2c92e4d287a",
     "showTitle": false,
     "tableResultSettingsMap": {},
     "title": ""
    }
   },
   "outputs": [
    {
     "output_type": "stream",
     "name": "stdout",
     "output_type": "stream",
     "text": [
      "+---------+--------------------+-------------+--------+-----------------+-----+----------------+------------+------------+---------+----+-------------------+---------------------+------+-----------------+-----------+-----+-----+--------------------+--------------+--------------------+-----------+----------------+--------------------+--------------------+\n|ProductID|                Name|ProductNumber|MakeFlag|FinishedGoodsFlag|Color|SafetyStockLevel|ReorderPoint|StandardCost|ListPrice|Size|SizeUnitMeasureCode|WeightUnitMeasureCode|Weight|DaysToManufacture|ProductLine|Class|Style|ProductSubcategoryID|ProductModelID|       SellStartDate|SellEndDate|DiscontinuedDate|             rowguid|        ModifiedDate|\n+---------+--------------------+-------------+--------+-----------------+-----+----------------+------------+------------+---------+----+-------------------+---------------------+------+-----------------+-----------+-----+-----+--------------------+--------------+--------------------+-----------+----------------+--------------------+--------------------+\n|        1|     Adjustable Race|      AR-5381|       0|                0| NULL|            1000|         750|        0.00|     0.00|NULL|               NULL|                 NULL|  NULL|                0|       NULL| NULL| NULL|                NULL|          NULL|2008-04-30 00:00:...|       NULL|            NULL|694215B7-08F7-4C0...|2014-02-08 10:01:...|\n|        2|        Bearing Ball|      BA-8327|       0|                0| NULL|            1000|         750|        0.00|     0.00|NULL|               NULL|                 NULL|  NULL|                0|       NULL| NULL| NULL|                NULL|          NULL|2008-04-30 00:00:...|       NULL|            NULL|58AE3C20-4F3A-474...|2014-02-08 10:01:...|\n|        3|     BB Ball Bearing|      BE-2349|       1|                0| NULL|             800|         600|        0.00|     0.00|NULL|               NULL|                 NULL|  NULL|                1|       NULL| NULL| NULL|                NULL|          NULL|2008-04-30 00:00:...|       NULL|            NULL|9C21AED2-5BFA-4F1...|2014-02-08 10:01:...|\n|        4|Headset Ball Bear...|      BE-2908|       0|                0| NULL|             800|         600|        0.00|     0.00|NULL|               NULL|                 NULL|  NULL|                0|       NULL| NULL| NULL|                NULL|          NULL|2008-04-30 00:00:...|       NULL|            NULL|ECFED6CB-51FF-49B...|2014-02-08 10:01:...|\n|      316|               Blade|      BL-2036|       1|                0| NULL|             800|         600|        0.00|     0.00|NULL|               NULL|                 NULL|  NULL|                1|       NULL| NULL| NULL|                NULL|          NULL|2008-04-30 00:00:...|       NULL|            NULL|E73E9750-603B-413...|2014-02-08 10:01:...|\n+---------+--------------------+-------------+--------+-----------------+-----+----------------+------------+------------+---------+----+-------------------+---------------------+------+-----------------+-----------+-----+-----+--------------------+--------------+--------------------+-----------+----------------+--------------------+--------------------+\nonly showing top 5 rows\n\n+--------------+------------------+------------------+------------+--------------------+--------------------+\n|ProductModelID|              Name|CatalogDescription|Instructions|             rowguid|        ModifiedDate|\n+--------------+------------------+------------------+------------+--------------------+--------------------+\n|             1|      Classic Vest|              NULL|        NULL|29321D47-1E4C-4AA...|2013-04-30 00:00:...|\n|             2|       Cycling Cap|              NULL|        NULL|474FB654-3C96-4CB...|2011-05-01 00:00:...|\n|             3|Full-Finger Gloves|              NULL|        NULL|A75483FE-3C47-4AA...|2012-04-30 00:00:...|\n|             4|Half-Finger Gloves|              NULL|        NULL|14B56F2A-D4AA-40A...|2012-04-30 00:00:...|\n|             5| HL Mountain Frame|              NULL|        NULL|FDD5407B-C2DB-49D...|2011-05-01 00:00:...|\n+--------------+------------------+------------------+------------+--------------------+--------------------+\nonly showing top 5 rows\n\n"
     ]
    }
   ],
   "source": [
    "#df1 = spark.read.format(\"csv\").option(\"header\", \"true\").load(\"dbfs:/FileStore/tables/production/salesorderdetails-1.csv\")\n",
    "#df2 = spark.read.format(\"csv\").option(\"header\", \"true\").load(\"dbfs:/FileStore/tables/production/Production_productDescCulture.csv\")\n",
    "#df3 = spark.read.format(\"csv\").option(\"header\", \"true\").load(\"dbfs:/FileStore/tables/production/salesorderheader.csv\")\n",
    "#df4 = spark.read.format(\"csv\").option(\"header\", \"true\").load(\"dbfs:/FileStore/tables/production/Production_productDescription.csv\")\n",
    "#df5 = spark.read.format(\"csv\").option(\"header\", \"true\").load(\"dbfs:/FileStore/tables/production/Production_productmodel.csv\")\n",
    "#df6 = spark.read.format(\"csv\").option(\"header\", \"true\").load(\"dbfs:/FileStore/tables/production/Production_product.csv\")\n",
    "#df6.show(5)\n",
    "#df5.show(5)"
   ]
  },
  {
   "cell_type": "code",
   "execution_count": 0,
   "metadata": {
    "application/vnd.databricks.v1+cell": {
     "cellMetadata": {
      "byteLimit": 2048000,
      "rowLimit": 10000
     },
     "inputWidgets": {},
     "nuid": "18d485b3-314e-4d40-9d38-dd654c425a4b",
     "showTitle": false,
     "tableResultSettingsMap": {},
     "title": ""
    }
   },
   "outputs": [
    {
     "output_type": "stream",
     "name": "stdout",
     "output_type": "stream",
     "text": [
      "+--------------+---------+--------------------+------------+------------+-------------+----+------------------+\n|ProductModelID|productID|        product_name|Reorderpoint|StandardCost|ProductNumber|Name|CatalogDescription|\n+--------------+---------+--------------------+------------+------------+-------------+----+------------------+\n|          NULL|        1|     Adjustable Race|         750|        0.00|      AR-5381|null|              null|\n|          NULL|        2|        Bearing Ball|         750|        0.00|      BA-8327|null|              null|\n|          NULL|        3|     BB Ball Bearing|         600|        0.00|      BE-2349|null|              null|\n|          NULL|        4|Headset Ball Bear...|         600|        0.00|      BE-2908|null|              null|\n|          NULL|      316|               Blade|         600|        0.00|      BL-2036|null|              null|\n+--------------+---------+--------------------+------------+------------+-------------+----+------------------+\nonly showing top 5 rows\n\n"
     ]
    }
   ],
   "source": [
    "from pyspark.sql import SparkSession\n",
    "from pyspark.sql.functions import col\n",
    "\n",
    "# Initialize Spark session\n",
    "spark = SparkSession.builder.appName(\"ProductionJoinJob\").getOrCreate()\n",
    "\n",
    "# Load the two tables into DataFrames\n",
    "# Assuming you are reading from a database or a source, replace with actual reading logic (e.g., JDBC)\n",
    "product_df = spark.read.format(\"csv\").option(\"header\", \"true\").load(\"dbfs:/FileStore/tables/production/Production_product.csv\")\n",
    "\n",
    "product_model_df = spark.read.format(\"csv\").option(\"header\", \"true\").load(\"dbfs:/FileStore/tables/production/Production_productmodel.csv\")\n",
    "\n",
    "# Rename the 'Name' column in one of the DataFrames to avoid ambiguity\n",
    "product_df = product_df.withColumnRenamed(\"Name\", \"product_name\")\n",
    "#product_model_df = product_model_df.withColumnRenamed(\"Name\", \"product_name\")\n",
    "\n",
    "# Sort DataFrames by ProductModelID\n",
    "sorted_product_df = product_df.orderBy(col(\"ProductModelID\").asc())\n",
    "sorted_product_model_df = product_model_df.orderBy(col(\"ProductModelID\").asc())\n",
    "\n",
    "# Select and rename columns for clarity in the final output\n",
    "sorted_product_df = product_df.select(\n",
    "    \"ProductModelID\", \n",
    "    \"productID\", \n",
    "    \"product_name\", \n",
    "    \"Reorderpoint\", \n",
    "    \"StandardCost\",\n",
    "    \"ProductNumber\" \n",
    ")\n",
    "\n",
    "sorted_product_model_df = sorted_product_model_df.select(\n",
    "    \"Name\",\n",
    "    \"CatalogDescription\",\n",
    "    \"ProductModelID\"\n",
    ")\n",
    "\n",
    "# Perform the left outer join on ProductModelID\n",
    "joined_df = sorted_product_df.join(sorted_product_model_df, on=\"ProductModelID\", how=\"left\")\n",
    "\n",
    "# Show the results of the join\n",
    "joined_df.show(5)\n",
    "\n",
    "# Stop the Spark session\n",
    "#spark.stop()\n"
   ]
  },
  {
   "cell_type": "code",
   "execution_count": 0,
   "metadata": {
    "application/vnd.databricks.v1+cell": {
     "cellMetadata": {
      "byteLimit": 2048000,
      "rowLimit": 10000
     },
     "inputWidgets": {},
     "nuid": "9c0ad91f-94df-44e1-8ed8-6909eafef14e",
     "showTitle": false,
     "tableResultSettingsMap": {},
     "title": ""
    }
   },
   "outputs": [
    {
     "output_type": "stream",
     "name": "stdout",
     "output_type": "stream",
     "text": [
      "+---------+--------------------+-------------+--------+-----------------+-----+----------------+------------+------------+---------+----+-------------------+---------------------+------+-----------------+-----------+-----+-----+--------------------+--------------+--------------------+-----------+----------------+--------------------+--------------------+\n|ProductID|        product_name|ProductNumber|MakeFlag|FinishedGoodsFlag|Color|SafetyStockLevel|ReorderPoint|StandardCost|ListPrice|Size|SizeUnitMeasureCode|WeightUnitMeasureCode|Weight|DaysToManufacture|ProductLine|Class|Style|ProductSubcategoryID|ProductModelID|       SellStartDate|SellEndDate|DiscontinuedDate|             rowguid|        ModifiedDate|\n+---------+--------------------+-------------+--------+-----------------+-----+----------------+------------+------------+---------+----+-------------------+---------------------+------+-----------------+-----------+-----+-----+--------------------+--------------+--------------------+-----------+----------------+--------------------+--------------------+\n|        1|     Adjustable Race|      AR-5381|       0|                0| NULL|            1000|         750|        0.00|     0.00|NULL|               NULL|                 NULL|  NULL|                0|       NULL| NULL| NULL|                NULL|          NULL|2008-04-30 00:00:...|       NULL|            NULL|694215B7-08F7-4C0...|2014-02-08 10:01:...|\n|        2|        Bearing Ball|      BA-8327|       0|                0| NULL|            1000|         750|        0.00|     0.00|NULL|               NULL|                 NULL|  NULL|                0|       NULL| NULL| NULL|                NULL|          NULL|2008-04-30 00:00:...|       NULL|            NULL|58AE3C20-4F3A-474...|2014-02-08 10:01:...|\n|        3|     BB Ball Bearing|      BE-2349|       1|                0| NULL|             800|         600|        0.00|     0.00|NULL|               NULL|                 NULL|  NULL|                1|       NULL| NULL| NULL|                NULL|          NULL|2008-04-30 00:00:...|       NULL|            NULL|9C21AED2-5BFA-4F1...|2014-02-08 10:01:...|\n|        4|Headset Ball Bear...|      BE-2908|       0|                0| NULL|             800|         600|        0.00|     0.00|NULL|               NULL|                 NULL|  NULL|                0|       NULL| NULL| NULL|                NULL|          NULL|2008-04-30 00:00:...|       NULL|            NULL|ECFED6CB-51FF-49B...|2014-02-08 10:01:...|\n|      316|               Blade|      BL-2036|       1|                0| NULL|             800|         600|        0.00|     0.00|NULL|               NULL|                 NULL|  NULL|                1|       NULL| NULL| NULL|                NULL|          NULL|2008-04-30 00:00:...|       NULL|            NULL|E73E9750-603B-413...|2014-02-08 10:01:...|\n+---------+--------------------+-------------+--------+-----------------+-----+----------------+------------+------------+---------+----+-------------------+---------------------+------+-----------------+-----------+-----+-----+--------------------+--------------+--------------------+-----------+----------------+--------------------+--------------------+\nonly showing top 5 rows\n\n+--------------+------------------+------------------+------------+--------------------+--------------------+\n|ProductModelID|              Name|CatalogDescription|Instructions|             rowguid|        ModifiedDate|\n+--------------+------------------+------------------+------------+--------------------+--------------------+\n|             1|      Classic Vest|              NULL|        NULL|29321D47-1E4C-4AA...|2013-04-30 00:00:...|\n|             2|       Cycling Cap|              NULL|        NULL|474FB654-3C96-4CB...|2011-05-01 00:00:...|\n|             3|Full-Finger Gloves|              NULL|        NULL|A75483FE-3C47-4AA...|2012-04-30 00:00:...|\n|             4|Half-Finger Gloves|              NULL|        NULL|14B56F2A-D4AA-40A...|2012-04-30 00:00:...|\n|             5| HL Mountain Frame|              NULL|        NULL|FDD5407B-C2DB-49D...|2011-05-01 00:00:...|\n+--------------+------------------+------------------+------------+--------------------+--------------------+\nonly showing top 5 rows\n\n"
     ]
    }
   ],
   "source": [
    "product_df.show(5)\n",
    "product_model_df.show(5)\n"
   ]
  },
  {
   "cell_type": "code",
   "execution_count": 0,
   "metadata": {
    "application/vnd.databricks.v1+cell": {
     "cellMetadata": {
      "byteLimit": 2048000,
      "rowLimit": 10000
     },
     "inputWidgets": {},
     "nuid": "1597a2bc-2bd4-42e4-b121-03030f7040a5",
     "showTitle": false,
     "tableResultSettingsMap": {},
     "title": ""
    }
   },
   "outputs": [],
   "source": [
    "# Ensure the data types are appropriate for sorting and joining\n",
    "# Convert ProductModelID to integer if necessary (assuming it's stored as string in CSV)\n",
    "product_df = product_df.withColumn(\"ProductModelID\", col(\"ProductModelID\").cast(\"int\"))\n",
    "product_model_df = product_model_df.withColumn(\"ProductModelID\", col(\"ProductModelID\").cast(\"int\"))\n",
    "\n",
    "# Sort DataFrames by ProductModelID in ascending order\n",
    "sorted_product_df = product_df.orderBy(col(\"ProductModelID\").asc())\n",
    "sorted_product_model_df = product_model_df.orderBy(col(\"ProductModelID\").asc())\n"
   ]
  },
  {
   "cell_type": "code",
   "execution_count": 0,
   "metadata": {
    "application/vnd.databricks.v1+cell": {
     "cellMetadata": {
      "byteLimit": 2048000,
      "rowLimit": 10000
     },
     "inputWidgets": {},
     "nuid": "96379863-2589-4376-8063-280510097fab",
     "showTitle": false,
     "tableResultSettingsMap": {},
     "title": ""
    }
   },
   "outputs": [],
   "source": []
  },
  {
   "cell_type": "code",
   "execution_count": 0,
   "metadata": {
    "application/vnd.databricks.v1+cell": {
     "cellMetadata": {
      "byteLimit": 2048000,
      "rowLimit": 10000
     },
     "inputWidgets": {},
     "nuid": "fb8edc2a-6857-43eb-b784-dfa86371f0cc",
     "showTitle": false,
     "tableResultSettingsMap": {},
     "title": ""
    }
   },
   "outputs": [
    {
     "output_type": "stream",
     "name": "stdout",
     "output_type": "stream",
     "text": [
      "+--------------------+--------------------+--------------+---------+\n|ProductDescriptionID|         Description|ProductModelID|CultureID|\n+--------------------+--------------------+--------------+---------+\n|                   3|     Chromoly steel.|            95|   en    |\n|                   4|Aluminum alloy cu...|            96|   en    |\n|                   5|Aluminum alloy cu...|            97|   en    |\n|                   8|Suitable for any ...|            23|   en    |\n|                  64|This bike deliver...|            22|   en    |\n+--------------------+--------------------+--------------+---------+\nonly showing top 5 rows\n\n"
     ]
    }
   ],
   "source": [
    "\n",
    "\n",
    "# Load the two tables into DataFrames\n",
    "# Assuming you are reading from a database or a source, replace with actual reading logic (e.g., JDBC)\n",
    "product_descr_df = spark.read.format(\"csv\").option(\"header\", \"true\").load(\"dbfs:/FileStore/tables/production/Production_productDescription.csv\")\n",
    "product_modeldescrCult_df = spark.read.format(\"csv\").option(\"header\", \"true\").load(\"dbfs:/FileStore/tables/production/Production_productDescCulture.csv\")\n",
    "\n",
    "\n",
    "# Sort DataFrames by ProductModelID\n",
    "sorted_product_descr_df = product_descr_df.orderBy(col(\"ProductDescriptionID\").asc())\n",
    "sorted_product_modeldescrCult_df = product_modeldescrCult_df.orderBy(col(\"ProductDescriptionID\").asc())\n",
    "\n",
    "# Select and rename columns for clarity in the final output\n",
    "sorted_product_descr_df = sorted_product_descr_df.select(\n",
    "    \"ProductDescriptionID\", \n",
    "    \"Description\"\n",
    ")\n",
    "\n",
    "sorted_product_modeldescrCult_df = product_modeldescrCult_df.select(\n",
    "    \"ProductDescriptionID\",\n",
    "    \"ProductModelID\",\n",
    "    \"CultureID\"\n",
    ")\n",
    "\n",
    "# Perform the left outer join on ProductModelID\n",
    "merge_join = sorted_product_descr_df.join(sorted_product_modeldescrCult_df, on=\"ProductDescriptionID\", how=\"inner\")\n",
    "\n",
    "# Show the results of the join\n",
    "merge_join.show(5)\n",
    "\n",
    "\n",
    "# Stop the Spark session\n",
    "#spark.stop()\n",
    "\n"
   ]
  },
  {
   "cell_type": "code",
   "execution_count": 0,
   "metadata": {
    "application/vnd.databricks.v1+cell": {
     "cellMetadata": {
      "byteLimit": 2048000,
      "rowLimit": 10000
     },
     "inputWidgets": {},
     "nuid": "d855e1b1-d3f3-4194-a296-b8b2970caa24",
     "showTitle": false,
     "tableResultSettingsMap": {},
     "title": ""
    }
   },
   "outputs": [
    {
     "output_type": "stream",
     "name": "stdout",
     "output_type": "stream",
     "text": [
      "+--------------------+--------------------+--------------+---------+\n|ProductDescriptionID|         Description|ProductModelID|CultureID|\n+--------------------+--------------------+--------------+---------+\n|                1199|Light-weight, win...|             1|   en    |\n|                1467|علب خفيفة الوزن، ...|             1|   ar    |\n|                1589|Sacs légers et ré...|             1|   fr    |\n|                1712|น้ำหนักเบา กันลม ...|             1|   th    |\n|                1838|קל-משקל, מגן מרוח...|             1|   he    |\n+--------------------+--------------------+--------------+---------+\nonly showing top 5 rows\n\n"
     ]
    }
   ],
   "source": [
    "# Sort the DataFrame by ProductModelID in ascending order\n",
    "sorted_df = merge_join.orderBy(\"ProductModelID\")\n",
    "\n",
    "# Show the sorted data\n",
    "sorted_df.show(5)\n"
   ]
  },
  {
   "cell_type": "code",
   "execution_count": 0,
   "metadata": {
    "application/vnd.databricks.v1+cell": {
     "cellMetadata": {
      "byteLimit": 2048000,
      "rowLimit": 10000
     },
     "inputWidgets": {},
     "nuid": "ce18d0d2-6ef3-4060-8691-3734070155ac",
     "showTitle": false,
     "tableResultSettingsMap": {},
     "title": ""
    }
   },
   "outputs": [
    {
     "output_type": "stream",
     "name": "stdout",
     "output_type": "stream",
     "text": [
      "+--------------+---------+--------------------+------------+------------+-------------+-----------------+--------------------+--------------------+--------------------+---------+\n|ProductModelID|productID|        product_name|Reorderpoint|StandardCost|ProductNumber|             Name|  CatalogDescription|ProductDescriptionID|         Description|CultureID|\n+--------------+---------+--------------------+------------+------------+-------------+-----------------+--------------------+--------------------+--------------------+---------+\n|            95|      994|   LL Bottom Bracket|         375|     23.9716|      BB-7421|LL Bottom Bracket|                NULL|                   3|     Chromoly steel.|   en    |\n|            96|      995|   ML Bottom Bracket|         375|     44.9506|      BB-8107|ML Bottom Bracket|                NULL|                   4|Aluminum alloy cu...|   en    |\n|            97|      996|   HL Bottom Bracket|         375|     53.9416|      BB-9108|HL Bottom Bracket|                NULL|                   5|Aluminum alloy cu...|   en    |\n|            23|      993|Mountain-500 Blac...|          75|    294.5797|   BK-M18B-52|     Mountain-500|\"<?xml-stylesheet...|                   8|Suitable for any ...|   en    |\n|            23|      992|Mountain-500 Blac...|          75|    294.5797|   BK-M18B-48|     Mountain-500|\"<?xml-stylesheet...|                   8|Suitable for any ...|   en    |\n+--------------+---------+--------------------+------------+------------+-------------+-----------------+--------------------+--------------------+--------------------+---------+\nonly showing top 5 rows\n\n"
     ]
    }
   ],
   "source": [
    "# Select only the relevant columns from each DataFrame for the join\n",
    "joined_df1 = joined_df.join(merge_join, on=\"ProductModelID\", how=\"inner\")\n",
    "\n",
    "# Show the results of the join\n",
    "joined_df1.show(5)"
   ]
  },
  {
   "cell_type": "code",
   "execution_count": 0,
   "metadata": {
    "application/vnd.databricks.v1+cell": {
     "cellMetadata": {
      "byteLimit": 2048000,
      "implicitDf": true,
      "rowLimit": 10000
     },
     "inputWidgets": {},
     "nuid": "359856b5-8310-451d-9421-abd080df68dd",
     "showTitle": false,
     "tableResultSettingsMap": {},
     "title": ""
    }
   },
   "outputs": [
    {
     "output_type": "stream",
     "name": "stdout",
     "output_type": "stream",
     "text": [
      "+--------------+---------+--------------------+------------+------------+-------------+-----------------+--------------------+--------------------+--------------------+---------+-----------------+\n|ProductModelID|productID|        product_name|Reorderpoint|StandardCost|ProductNumber|             Name|  CatalogDescription|ProductDescriptionID|         Description|CultureID|       Upper_Name|\n+--------------+---------+--------------------+------------+------------+-------------+-----------------+--------------------+--------------------+--------------------+---------+-----------------+\n|            95|      994|   LL Bottom Bracket|         375|     23.9716|      BB-7421|LL Bottom Bracket|                NULL|                   3|     Chromoly steel.|   en    |LL BOTTOM BRACKET|\n|            96|      995|   ML Bottom Bracket|         375|     44.9506|      BB-8107|ML Bottom Bracket|                NULL|                   4|Aluminum alloy cu...|   en    |ML BOTTOM BRACKET|\n|            97|      996|   HL Bottom Bracket|         375|     53.9416|      BB-9108|HL Bottom Bracket|                NULL|                   5|Aluminum alloy cu...|   en    |HL BOTTOM BRACKET|\n|            23|      993|Mountain-500 Blac...|          75|    294.5797|   BK-M18B-52|     Mountain-500|\"<?xml-stylesheet...|                   8|Suitable for any ...|   en    |     MOUNTAIN-500|\n|            23|      992|Mountain-500 Blac...|          75|    294.5797|   BK-M18B-48|     Mountain-500|\"<?xml-stylesheet...|                   8|Suitable for any ...|   en    |     MOUNTAIN-500|\n+--------------+---------+--------------------+------------+------------+-------------+-----------------+--------------------+--------------------+--------------------+---------+-----------------+\nonly showing top 5 rows\n\n"
     ]
    }
   ],
   "source": [
    "from pyspark.sql.functions import upper\n",
    "\n",
    "# Convert the 'Name' column to uppercase using withColumn\n",
    "joined_df1_upper = joined_df1.withColumn(\"Upper_Name\", upper(joined_df1[\"Name\"]))\n",
    "\n",
    "# Show the updated DataFrame\n",
    "joined_df1_upper.show(5)\n",
    "\n"
   ]
  },
  {
   "cell_type": "code",
   "execution_count": 0,
   "metadata": {
    "application/vnd.databricks.v1+cell": {
     "cellMetadata": {
      "byteLimit": 2048000,
      "rowLimit": 10000
     },
     "inputWidgets": {},
     "nuid": "25956df6-d879-4c13-9629-09f7ee51bf28",
     "showTitle": false,
     "tableResultSettingsMap": {},
     "title": ""
    }
   },
   "outputs": [
    {
     "output_type": "stream",
     "name": "stdout",
     "output_type": "stream",
     "text": [
      "root\n |-- ProductModelID: string (nullable = true)\n |-- productID: string (nullable = true)\n |-- product_name: string (nullable = true)\n |-- Reorderpoint: string (nullable = true)\n |-- StandardCost: string (nullable = true)\n |-- ProductNumber: string (nullable = true)\n |-- Name: string (nullable = true)\n |-- CatalogDescription: string (nullable = true)\n |-- ProductDescriptionID: string (nullable = true)\n |-- Description: string (nullable = true)\n |-- CultureID: string (nullable = true)\n |-- Upper_Name: string (nullable = true)\n\n"
     ]
    }
   ],
   "source": [
    "joined_df1_upper.printSchema()"
   ]
  },
  {
   "cell_type": "code",
   "execution_count": 0,
   "metadata": {
    "application/vnd.databricks.v1+cell": {
     "cellMetadata": {
      "byteLimit": 2048000,
      "rowLimit": 10000
     },
     "inputWidgets": {},
     "nuid": "b160b741-2b2a-41fb-92e3-bf28f3a66290",
     "showTitle": false,
     "tableResultSettingsMap": {},
     "title": ""
    }
   },
   "outputs": [
    {
     "output_type": "stream",
     "name": "stdout",
     "output_type": "stream",
     "text": [
      "+-------------+--------+-------------+\n|ProductNumber|Category|ProductCarNbr|\n+-------------+--------+-------------+\n|BB-7421      |BB      |7421         |\n|BB-8107      |BB      |8107         |\n|BB-9108      |BB      |9108         |\n|BK-M18B-52   |BK      |null         |\n|BK-M18B-48   |BK      |null         |\n|BK-M18B-44   |BK      |null         |\n|BK-M18B-42   |BK      |null         |\n|BK-M18B-40   |BK      |null         |\n|BK-M18S-52   |BK      |null         |\n|BK-M18S-48   |BK      |null         |\n|BK-M18S-44   |BK      |null         |\n|BK-M18S-42   |BK      |null         |\n|BK-M18S-40   |BK      |null         |\n|BK-M38S-46   |BK      |null         |\n|BK-M38S-42   |BK      |null         |\n|BK-M38S-40   |BK      |null         |\n|BK-M38S-38   |BK      |null         |\n|BK-M47B-48   |BK      |null         |\n|BK-M47B-44   |BK      |null         |\n|BK-M47B-40   |BK      |null         |\n+-------------+--------+-------------+\nonly showing top 20 rows\n\n"
     ]
    }
   ],
   "source": [
    "# Register the DataFrame as a temporary SQL table\n",
    "joined_df1_upper.createOrReplaceTempView(\"product_data\")\n",
    "\n",
    "# SQL query to split the ProductNumber into Category and ProductCarNbr\n",
    "sql_query = \"\"\"\n",
    "SELECT \n",
    "    ProductNumber,\n",
    "    LEFT(ProductNumber, INSTR(ProductNumber, '-') - 1) AS Category,\n",
    "    CAST(SUBSTRING(ProductNumber, INSTR(ProductNumber, '-') + 1) AS INT) AS ProductCarNbr\n",
    "FROM product_data\n",
    "\"\"\"\n",
    "\n",
    "# Execute the SQL query\n",
    "df_split_sql = spark.sql(sql_query)\n",
    "\n",
    "# Show the resulting DataFrame\n",
    "df_split_sql.show(truncate=False)\n"
   ]
  },
  {
   "cell_type": "code",
   "execution_count": 0,
   "metadata": {
    "application/vnd.databricks.v1+cell": {
     "cellMetadata": {
      "byteLimit": 2048000,
      "rowLimit": 10000
     },
     "inputWidgets": {},
     "nuid": "4300ebf5-6c05-4074-b1e9-fc0f47ec7477",
     "showTitle": false,
     "tableResultSettingsMap": {},
     "title": ""
    }
   },
   "outputs": [
    {
     "output_type": "stream",
     "name": "stdout",
     "output_type": "stream",
     "text": [
      "+--------------+---------+-------------------------+------------+------------+-------------+-----------------+-----------------------------------------------------------------------------------------------------------------------------------------------------------------------------------------------------------------------------------------------------------------------------------------------------------------------------------------------------------------------------------------------------------------------------------------------------------------------------------------------------------------------------+--------------------+-------------------------------------------------------------------------------------------------------------------------------------------------------+---------+-----------------+--------+-------------+\n|ProductModelID|productID|product_name             |Reorderpoint|StandardCost|ProductNumber|Name             |CatalogDescription                                                                                                                                                                                                                                                                                                                                                                                                                                                                                                           |ProductDescriptionID|Description                                                                                                                                            |CultureID|Upper_Name       |Category|ProductCarNbr|\n+--------------+---------+-------------------------+------------+------------+-------------+-----------------+-----------------------------------------------------------------------------------------------------------------------------------------------------------------------------------------------------------------------------------------------------------------------------------------------------------------------------------------------------------------------------------------------------------------------------------------------------------------------------------------------------------------------------+--------------------+-------------------------------------------------------------------------------------------------------------------------------------------------------+---------+-----------------+--------+-------------+\n|95            |994      |LL Bottom Bracket        |375         |23.9716     |BB-7421      |LL Bottom Bracket|NULL                                                                                                                                                                                                                                                                                                                                                                                                                                                                                                                         |3                   |Chromoly steel.                                                                                                                                        |en       |LL BOTTOM BRACKET|BB      |7421         |\n|96            |995      |ML Bottom Bracket        |375         |44.9506     |BB-8107      |ML Bottom Bracket|NULL                                                                                                                                                                                                                                                                                                                                                                                                                                                                                                                         |4                   |Aluminum alloy cups; large diameter spindle.                                                                                                           |en       |ML BOTTOM BRACKET|BB      |8107         |\n|97            |996      |HL Bottom Bracket        |375         |53.9416     |BB-9108      |HL Bottom Bracket|NULL                                                                                                                                                                                                                                                                                                                                                                                                                                                                                                                         |5                   |Aluminum alloy cups and a hollow axle.                                                                                                                 |en       |HL BOTTOM BRACKET|BB      |9108         |\n|23            |993      |Mountain-500 Black, 52   |75          |294.5797    |BK-M18B-52   |Mountain-500     |\"<?xml-stylesheet href=\"\"ProductDescription.xsl\"\" type=\"\"text/xsl\"\"?><p1:ProductDescription xmlns:p1=\"\"http://schemas.microsoft.com/sqlserver/2004/07/adventure-works/ProductModelDescription\"\" xmlns:wm=\"\"http://schemas.microsoft.com/sqlserver/2004/07/adventure-works/ProductModelWarrAndMain\"\" xmlns:wf=\"\"http://www.adventure-works.com/schemas/OtherFeatures\"\" xmlns:html=\"\"http://www.w3.org/1999/xhtml\"\" ProductModelID=\"\"23\"\" ProductModelName=\"\"Mountain-500\"\"><p1:Summary><html:p>Suitable for any type of riding|8                   |Suitable for any type of riding, on or off-road. Fits any budget. Smooth-shifting with a comfortable ride.                                             |en       |MOUNTAIN-500     |BK      |null         |\n|23            |992      |Mountain-500 Black, 48   |75          |294.5797    |BK-M18B-48   |Mountain-500     |\"<?xml-stylesheet href=\"\"ProductDescription.xsl\"\" type=\"\"text/xsl\"\"?><p1:ProductDescription xmlns:p1=\"\"http://schemas.microsoft.com/sqlserver/2004/07/adventure-works/ProductModelDescription\"\" xmlns:wm=\"\"http://schemas.microsoft.com/sqlserver/2004/07/adventure-works/ProductModelWarrAndMain\"\" xmlns:wf=\"\"http://www.adventure-works.com/schemas/OtherFeatures\"\" xmlns:html=\"\"http://www.w3.org/1999/xhtml\"\" ProductModelID=\"\"23\"\" ProductModelName=\"\"Mountain-500\"\"><p1:Summary><html:p>Suitable for any type of riding|8                   |Suitable for any type of riding, on or off-road. Fits any budget. Smooth-shifting with a comfortable ride.                                             |en       |MOUNTAIN-500     |BK      |null         |\n|23            |991      |Mountain-500 Black, 44   |75          |294.5797    |BK-M18B-44   |Mountain-500     |\"<?xml-stylesheet href=\"\"ProductDescription.xsl\"\" type=\"\"text/xsl\"\"?><p1:ProductDescription xmlns:p1=\"\"http://schemas.microsoft.com/sqlserver/2004/07/adventure-works/ProductModelDescription\"\" xmlns:wm=\"\"http://schemas.microsoft.com/sqlserver/2004/07/adventure-works/ProductModelWarrAndMain\"\" xmlns:wf=\"\"http://www.adventure-works.com/schemas/OtherFeatures\"\" xmlns:html=\"\"http://www.w3.org/1999/xhtml\"\" ProductModelID=\"\"23\"\" ProductModelName=\"\"Mountain-500\"\"><p1:Summary><html:p>Suitable for any type of riding|8                   |Suitable for any type of riding, on or off-road. Fits any budget. Smooth-shifting with a comfortable ride.                                             |en       |MOUNTAIN-500     |BK      |null         |\n|23            |990      |Mountain-500 Black, 42   |75          |294.5797    |BK-M18B-42   |Mountain-500     |\"<?xml-stylesheet href=\"\"ProductDescription.xsl\"\" type=\"\"text/xsl\"\"?><p1:ProductDescription xmlns:p1=\"\"http://schemas.microsoft.com/sqlserver/2004/07/adventure-works/ProductModelDescription\"\" xmlns:wm=\"\"http://schemas.microsoft.com/sqlserver/2004/07/adventure-works/ProductModelWarrAndMain\"\" xmlns:wf=\"\"http://www.adventure-works.com/schemas/OtherFeatures\"\" xmlns:html=\"\"http://www.w3.org/1999/xhtml\"\" ProductModelID=\"\"23\"\" ProductModelName=\"\"Mountain-500\"\"><p1:Summary><html:p>Suitable for any type of riding|8                   |Suitable for any type of riding, on or off-road. Fits any budget. Smooth-shifting with a comfortable ride.                                             |en       |MOUNTAIN-500     |BK      |null         |\n|23            |989      |Mountain-500 Black, 40   |75          |294.5797    |BK-M18B-40   |Mountain-500     |\"<?xml-stylesheet href=\"\"ProductDescription.xsl\"\" type=\"\"text/xsl\"\"?><p1:ProductDescription xmlns:p1=\"\"http://schemas.microsoft.com/sqlserver/2004/07/adventure-works/ProductModelDescription\"\" xmlns:wm=\"\"http://schemas.microsoft.com/sqlserver/2004/07/adventure-works/ProductModelWarrAndMain\"\" xmlns:wf=\"\"http://www.adventure-works.com/schemas/OtherFeatures\"\" xmlns:html=\"\"http://www.w3.org/1999/xhtml\"\" ProductModelID=\"\"23\"\" ProductModelName=\"\"Mountain-500\"\"><p1:Summary><html:p>Suitable for any type of riding|8                   |Suitable for any type of riding, on or off-road. Fits any budget. Smooth-shifting with a comfortable ride.                                             |en       |MOUNTAIN-500     |BK      |null         |\n|23            |988      |Mountain-500 Silver, 52  |75          |308.2179    |BK-M18S-52   |Mountain-500     |\"<?xml-stylesheet href=\"\"ProductDescription.xsl\"\" type=\"\"text/xsl\"\"?><p1:ProductDescription xmlns:p1=\"\"http://schemas.microsoft.com/sqlserver/2004/07/adventure-works/ProductModelDescription\"\" xmlns:wm=\"\"http://schemas.microsoft.com/sqlserver/2004/07/adventure-works/ProductModelWarrAndMain\"\" xmlns:wf=\"\"http://www.adventure-works.com/schemas/OtherFeatures\"\" xmlns:html=\"\"http://www.w3.org/1999/xhtml\"\" ProductModelID=\"\"23\"\" ProductModelName=\"\"Mountain-500\"\"><p1:Summary><html:p>Suitable for any type of riding|8                   |Suitable for any type of riding, on or off-road. Fits any budget. Smooth-shifting with a comfortable ride.                                             |en       |MOUNTAIN-500     |BK      |null         |\n|23            |987      |Mountain-500 Silver, 48  |75          |308.2179    |BK-M18S-48   |Mountain-500     |\"<?xml-stylesheet href=\"\"ProductDescription.xsl\"\" type=\"\"text/xsl\"\"?><p1:ProductDescription xmlns:p1=\"\"http://schemas.microsoft.com/sqlserver/2004/07/adventure-works/ProductModelDescription\"\" xmlns:wm=\"\"http://schemas.microsoft.com/sqlserver/2004/07/adventure-works/ProductModelWarrAndMain\"\" xmlns:wf=\"\"http://www.adventure-works.com/schemas/OtherFeatures\"\" xmlns:html=\"\"http://www.w3.org/1999/xhtml\"\" ProductModelID=\"\"23\"\" ProductModelName=\"\"Mountain-500\"\"><p1:Summary><html:p>Suitable for any type of riding|8                   |Suitable for any type of riding, on or off-road. Fits any budget. Smooth-shifting with a comfortable ride.                                             |en       |MOUNTAIN-500     |BK      |null         |\n|23            |986      |Mountain-500 Silver, 44  |75          |308.2179    |BK-M18S-44   |Mountain-500     |\"<?xml-stylesheet href=\"\"ProductDescription.xsl\"\" type=\"\"text/xsl\"\"?><p1:ProductDescription xmlns:p1=\"\"http://schemas.microsoft.com/sqlserver/2004/07/adventure-works/ProductModelDescription\"\" xmlns:wm=\"\"http://schemas.microsoft.com/sqlserver/2004/07/adventure-works/ProductModelWarrAndMain\"\" xmlns:wf=\"\"http://www.adventure-works.com/schemas/OtherFeatures\"\" xmlns:html=\"\"http://www.w3.org/1999/xhtml\"\" ProductModelID=\"\"23\"\" ProductModelName=\"\"Mountain-500\"\"><p1:Summary><html:p>Suitable for any type of riding|8                   |Suitable for any type of riding, on or off-road. Fits any budget. Smooth-shifting with a comfortable ride.                                             |en       |MOUNTAIN-500     |BK      |null         |\n|23            |985      |Mountain-500 Silver, 42  |75          |308.2179    |BK-M18S-42   |Mountain-500     |\"<?xml-stylesheet href=\"\"ProductDescription.xsl\"\" type=\"\"text/xsl\"\"?><p1:ProductDescription xmlns:p1=\"\"http://schemas.microsoft.com/sqlserver/2004/07/adventure-works/ProductModelDescription\"\" xmlns:wm=\"\"http://schemas.microsoft.com/sqlserver/2004/07/adventure-works/ProductModelWarrAndMain\"\" xmlns:wf=\"\"http://www.adventure-works.com/schemas/OtherFeatures\"\" xmlns:html=\"\"http://www.w3.org/1999/xhtml\"\" ProductModelID=\"\"23\"\" ProductModelName=\"\"Mountain-500\"\"><p1:Summary><html:p>Suitable for any type of riding|8                   |Suitable for any type of riding, on or off-road. Fits any budget. Smooth-shifting with a comfortable ride.                                             |en       |MOUNTAIN-500     |BK      |null         |\n|23            |984      |Mountain-500 Silver, 40  |75          |308.2179    |BK-M18S-40   |Mountain-500     |\"<?xml-stylesheet href=\"\"ProductDescription.xsl\"\" type=\"\"text/xsl\"\"?><p1:ProductDescription xmlns:p1=\"\"http://schemas.microsoft.com/sqlserver/2004/07/adventure-works/ProductModelDescription\"\" xmlns:wm=\"\"http://schemas.microsoft.com/sqlserver/2004/07/adventure-works/ProductModelWarrAndMain\"\" xmlns:wf=\"\"http://www.adventure-works.com/schemas/OtherFeatures\"\" xmlns:html=\"\"http://www.w3.org/1999/xhtml\"\" ProductModelID=\"\"23\"\" ProductModelName=\"\"Mountain-500\"\"><p1:Summary><html:p>Suitable for any type of riding|8                   |Suitable for any type of riding, on or off-road. Fits any budget. Smooth-shifting with a comfortable ride.                                             |en       |MOUNTAIN-500     |BK      |null         |\n|22            |983      |Mountain-400-W Silver, 46|75          |419.7784    |BK-M38S-46   |Mountain-400-W   |NULL                                                                                                                                                                                                                                                                                                                                                                                                                                                                                                                         |64                  |This bike delivers a high-level of performance on a budget. It is responsive and maneuverable, and offers peace-of-mind when you decide to go off-road.|en       |MOUNTAIN-400-W   |BK      |null         |\n|22            |982      |Mountain-400-W Silver, 42|75          |419.7784    |BK-M38S-42   |Mountain-400-W   |NULL                                                                                                                                                                                                                                                                                                                                                                                                                                                                                                                         |64                  |This bike delivers a high-level of performance on a budget. It is responsive and maneuverable, and offers peace-of-mind when you decide to go off-road.|en       |MOUNTAIN-400-W   |BK      |null         |\n|22            |981      |Mountain-400-W Silver, 40|75          |419.7784    |BK-M38S-40   |Mountain-400-W   |NULL                                                                                                                                                                                                                                                                                                                                                                                                                                                                                                                         |64                  |This bike delivers a high-level of performance on a budget. It is responsive and maneuverable, and offers peace-of-mind when you decide to go off-road.|en       |MOUNTAIN-400-W   |BK      |null         |\n|22            |980      |Mountain-400-W Silver, 38|75          |419.7784    |BK-M38S-38   |Mountain-400-W   |NULL                                                                                                                                                                                                                                                                                                                                                                                                                                                                                                                         |64                  |This bike delivers a high-level of performance on a budget. It is responsive and maneuverable, and offers peace-of-mind when you decide to go off-road.|en       |MOUNTAIN-400-W   |BK      |null         |\n|21            |788      |Mountain-300 Black, 48   |75          |598.4354    |BK-M47B-48   |Mountain-300     |NULL                                                                                                                                                                                                                                                                                                                                                                                                                                                                                                                         |88                  |For true trail addicts.  An extremely durable bike that will go anywhere and keep you in control on challenging terrain - without breaking your budget.|en       |MOUNTAIN-300     |BK      |null         |\n|21            |787      |Mountain-300 Black, 44   |75          |598.4354    |BK-M47B-44   |Mountain-300     |NULL                                                                                                                                                                                                                                                                                                                                                                                                                                                                                                                         |88                  |For true trail addicts.  An extremely durable bike that will go anywhere and keep you in control on challenging terrain - without breaking your budget.|en       |MOUNTAIN-300     |BK      |null         |\n|21            |786      |Mountain-300 Black, 40   |75          |598.4354    |BK-M47B-40   |Mountain-300     |NULL                                                                                                                                                                                                                                                                                                                                                                                                                                                                                                                         |88                  |For true trail addicts.  An extremely durable bike that will go anywhere and keep you in control on challenging terrain - without breaking your budget.|en       |MOUNTAIN-300     |BK      |null         |\n+--------------+---------+-------------------------+------------+------------+-------------+-----------------+-----------------------------------------------------------------------------------------------------------------------------------------------------------------------------------------------------------------------------------------------------------------------------------------------------------------------------------------------------------------------------------------------------------------------------------------------------------------------------------------------------------------------------+--------------------+-------------------------------------------------------------------------------------------------------------------------------------------------------+---------+-----------------+--------+-------------+\nonly showing top 20 rows\n\n"
     ]
    }
   ],
   "source": [
    "# Register the DataFrame as a temporary SQL table\n",
    "joined_df1_upper.createOrReplaceTempView(\"product_data\")\n",
    "\n",
    "# SQL query to split the ProductNumber into Category and ProductCarNbr\n",
    "sql_query = \"\"\"\n",
    "SELECT \n",
    "    *,\n",
    "    LEFT(ProductNumber, INSTR(ProductNumber, '-') - 1) AS Category,\n",
    "    CAST(SUBSTRING(ProductNumber, INSTR(ProductNumber, '-') + 1) AS INT) AS ProductCarNbr\n",
    "FROM product_data\n",
    "\"\"\"\n",
    "\n",
    "# Execute the SQL query\n",
    "df_split_sql = spark.sql(sql_query)\n",
    "\n",
    "# Show the resulting DataFrame\n",
    "df_split_sql.show(truncate=False)"
   ]
  },
  {
   "cell_type": "code",
   "execution_count": 0,
   "metadata": {
    "application/vnd.databricks.v1+cell": {
     "cellMetadata": {
      "byteLimit": 2048000,
      "rowLimit": 10000
     },
     "inputWidgets": {},
     "nuid": "2c817e95-9e7c-4178-914c-3b239f060d37",
     "showTitle": false,
     "tableResultSettingsMap": {},
     "title": ""
    }
   },
   "outputs": [
    {
     "output_type": "stream",
     "name": "stdout",
     "output_type": "stream",
     "text": [
      "+--------------+---------+--------------------+------------+------------+-------------+-------------+------------------+--------------------+-------------------------------------+---------+-------------+--------+-------------+\n|ProductModelID|productID|        product_name|Reorderpoint|StandardCost|ProductNumber|         Name|CatalogDescription|ProductDescriptionID|                          Description|CultureID|   Upper_Name|Category|ProductCarNbr|\n+--------------+---------+--------------------+------------+------------+-------------+-------------+------------------+--------------------+-------------------------------------+---------+-------------+--------+-------------+\n|             6|      680|HL Road Frame - B...|         375|     1059.31|   FR-R92B-58|HL Road Frame|              NULL|                1948|重量最轻、质量最好的铝制车架采用最...|   zh-cht|HL ROAD FRAME|      FR|         null|\n|             6|      680|HL Road Frame - B...|         375|     1059.31|   FR-R92B-58|HL Road Frame|              NULL|                1827|                 מסגרת האלומיניום ...|   he    |HL ROAD FRAME|      FR|         null|\n|             6|      680|HL Road Frame - B...|         375|     1059.31|   FR-R92B-58|HL Road Frame|              NULL|                1696|                 เฟรมอลูมิเนียมคุณ...|   th    |HL ROAD FRAME|      FR|         null|\n|             6|      680|HL Road Frame - B...|         375|     1059.31|   FR-R92B-58|HL Road Frame|              NULL|                1573|                 Notre cadre en al...|   fr    |HL ROAD FRAME|      FR|         null|\n|             6|      680|HL Road Frame - B...|         375|     1059.31|   FR-R92B-58|HL Road Frame|              NULL|                1451|                 لقد تم صناعة هيكل...|   ar    |HL ROAD FRAME|      FR|         null|\n+--------------+---------+--------------------+------------+------------+-------------+-------------+------------------+--------------------+-------------------------------------+---------+-------------+--------+-------------+\nonly showing top 5 rows\n\n"
     ]
    }
   ],
   "source": [
    "df_split_sql.write.format(\"csv\").mode(\"overwrite\").option(\"header\", \"true\").save(\"dbfs:/FileStore/tables/dimension/Data_warehouse_dim_product_sale\")\n",
    "\n",
    "# Show a sample of the final dimension table\n",
    "df_split_sql.show(5)\n",
    "\n",
    "# Stop the Spark session\n",
    "#spark.stop()"
   ]
  }
 ],
 "metadata": {
  "application/vnd.databricks.v1+notebook": {
   "dashboards": [],
   "environmentMetadata": null,
   "language": "python",
   "notebookMetadata": {
    "mostRecentlyExecutedCommandWithImplicitDF": {
     "commandId": -1,
     "dataframes": [
      "_sqldf"
     ]
    },
    "pythonIndentUnit": 4
   },
   "notebookName": "Data_Warehouse_MSBI-HR-Solution_in _Databricks",
   "widgets": {}
  }
 },
 "nbformat": 4,
 "nbformat_minor": 0
}
