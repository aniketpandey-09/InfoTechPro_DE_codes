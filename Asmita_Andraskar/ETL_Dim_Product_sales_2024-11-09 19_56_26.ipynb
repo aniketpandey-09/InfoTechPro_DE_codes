{
 "cells": [
  {
   "cell_type": "code",
   "execution_count": 0,
   "metadata": {
    "application/vnd.databricks.v1+cell": {
     "cellMetadata": {
      "byteLimit": 2048000,
      "rowLimit": 10000
     },
     "inputWidgets": {},
     "nuid": "218267cb-086a-4bad-916c-38f373a629d8",
     "showTitle": false,
     "tableResultSettingsMap": {},
     "title": ""
    }
   },
   "outputs": [],
   "source": [
    "from pyspark.sql import SparkSession\n",
    "from pyspark.sql.functions import col\n",
    "\n",
    "# Initialize Spark session\n",
    "spark = SparkSession.builder.appName(\"StagingToDimension\").getOrCreate()\n",
    "\n",
    "# Load source data (Product Table) from staging tables\n",
    "product_df = spark.read.format(\"csv\").option(\"header\", \"true\").load(\"dbfs:/FileStore/tables/production/Production_product.csv\")\n",
    "\n",
    "# Load lookup tables for enrichment\n",
    "product_model_df = spark.read.format(\"csv\").option(\"header\", \"true\").load(\"dbfs:/FileStore/tables/production/Production_productmodel.csv\")\n",
    "product_descr_df = spark.read.format(\"csv\").option(\"header\", \"true\").load(\"dbfs:/FileStore/tables/production/Production_productDescription.csv\")\n"
   ]
  },
  {
   "cell_type": "code",
   "execution_count": 0,
   "metadata": {
    "application/vnd.databricks.v1+cell": {
     "cellMetadata": {
      "byteLimit": 2048000,
      "rowLimit": 10000
     },
     "inputWidgets": {},
     "nuid": "2035ff77-acc0-477c-9efa-f93990061e30",
     "showTitle": false,
     "tableResultSettingsMap": {},
     "title": ""
    }
   },
   "outputs": [],
   "source": [
    "product_df = product_df.withColumnRenamed(\"Name\", \"product_name\")\n",
    "product_df = product_df.withColumnRenamed(\"Name\", \"product_name\")\n"
   ]
  },
  {
   "cell_type": "code",
   "execution_count": 0,
   "metadata": {
    "application/vnd.databricks.v1+cell": {
     "cellMetadata": {
      "byteLimit": 2048000,
      "rowLimit": 10000
     },
     "inputWidgets": {},
     "nuid": "286feaa7-d1a5-41f3-9560-e1f1c209bff5",
     "showTitle": false,
     "tableResultSettingsMap": {},
     "title": ""
    }
   },
   "outputs": [
    {
     "output_type": "stream",
     "name": "stdout",
     "output_type": "stream",
     "text": [
      "+---------+---------------+-------------+--------+-----------------+-----+----------------+------------+------------+---------+----+-------------------+---------------------+------+-----------------+-----------+-----+-----+--------------------+--------------+--------------------+-----------+----------------+--------------------+--------------------+\n|ProductID|   product_name|ProductNumber|MakeFlag|FinishedGoodsFlag|Color|SafetyStockLevel|ReorderPoint|StandardCost|ListPrice|Size|SizeUnitMeasureCode|WeightUnitMeasureCode|Weight|DaysToManufacture|ProductLine|Class|Style|ProductSubcategoryID|ProductModelID|       SellStartDate|SellEndDate|DiscontinuedDate|             rowguid|        ModifiedDate|\n+---------+---------------+-------------+--------+-----------------+-----+----------------+------------+------------+---------+----+-------------------+---------------------+------+-----------------+-----------+-----+-----+--------------------+--------------+--------------------+-----------+----------------+--------------------+--------------------+\n|        1|Adjustable Race|      AR-5381|       0|                0| NULL|            1000|         750|        0.00|     0.00|NULL|               NULL|                 NULL|  NULL|                0|       NULL| NULL| NULL|                NULL|          NULL|2008-04-30 00:00:...|       NULL|            NULL|694215B7-08F7-4C0...|2014-02-08 10:01:...|\n|        2|   Bearing Ball|      BA-8327|       0|                0| NULL|            1000|         750|        0.00|     0.00|NULL|               NULL|                 NULL|  NULL|                0|       NULL| NULL| NULL|                NULL|          NULL|2008-04-30 00:00:...|       NULL|            NULL|58AE3C20-4F3A-474...|2014-02-08 10:01:...|\n+---------+---------------+-------------+--------+-----------------+-----+----------------+------------+------------+---------+----+-------------------+---------------------+------+-----------------+-----------+-----+-----+--------------------+--------------+--------------------+-----------+----------------+--------------------+--------------------+\nonly showing top 2 rows\n\n"
     ]
    }
   ],
   "source": [
    "product_df.show(2)\n"
   ]
  },
  {
   "cell_type": "code",
   "execution_count": 0,
   "metadata": {
    "application/vnd.databricks.v1+cell": {
     "cellMetadata": {
      "byteLimit": 2048000,
      "rowLimit": 10000
     },
     "inputWidgets": {},
     "nuid": "f2aa11f3-f64a-4f5a-a924-f9619c483ef0",
     "showTitle": false,
     "tableResultSettingsMap": {},
     "title": ""
    }
   },
   "outputs": [
    {
     "output_type": "stream",
     "name": "stdout",
     "output_type": "stream",
     "text": [
      "+--------------+------------+------------------+------------+--------------------+--------------------+\n|ProductModelID|        Name|CatalogDescription|Instructions|             rowguid|        ModifiedDate|\n+--------------+------------+------------------+------------+--------------------+--------------------+\n|             1|Classic Vest|              NULL|        NULL|29321D47-1E4C-4AA...|2013-04-30 00:00:...|\n|             2| Cycling Cap|              NULL|        NULL|474FB654-3C96-4CB...|2011-05-01 00:00:...|\n+--------------+------------+------------------+------------+--------------------+--------------------+\nonly showing top 2 rows\n\n"
     ]
    }
   ],
   "source": [
    "product_model_df.show(2)"
   ]
  },
  {
   "cell_type": "code",
   "execution_count": 0,
   "metadata": {
    "application/vnd.databricks.v1+cell": {
     "cellMetadata": {
      "byteLimit": 2048000,
      "rowLimit": 10000
     },
     "inputWidgets": {},
     "nuid": "a3f5e27c-1f03-4432-bd63-a7dff6fd4eda",
     "showTitle": false,
     "tableResultSettingsMap": {},
     "title": ""
    }
   },
   "outputs": [
    {
     "output_type": "stream",
     "name": "stdout",
     "output_type": "stream",
     "text": [
      "+--------------------+--------------------+--------------------+--------------------+\n|ProductDescriptionID|         Description|             rowguid|        ModifiedDate|\n+--------------------+--------------------+--------------------+--------------------+\n|                   3|     Chromoly steel.|301EED3A-1A82-485...|2013-04-30 00:00:...|\n|                   4|Aluminum alloy cu...|DFEBA528-DA11-465...|2013-04-30 00:00:...|\n+--------------------+--------------------+--------------------+--------------------+\nonly showing top 2 rows\n\n"
     ]
    }
   ],
   "source": [
    "product_descr_df.show(2)"
   ]
  },
  {
   "cell_type": "code",
   "execution_count": 0,
   "metadata": {
    "application/vnd.databricks.v1+cell": {
     "cellMetadata": {
      "byteLimit": 2048000,
      "rowLimit": 10000
     },
     "inputWidgets": {},
     "nuid": "06402c42-78b1-4533-9a06-2fbd0de7fc9a",
     "showTitle": false,
     "tableResultSettingsMap": {},
     "title": ""
    }
   },
   "outputs": [],
   "source": [
    "# Convert necessary columns to appropriate data types for joining and transformations\n",
    "product_df = product_df.withColumn(\"ProductID\", col(\"ProductID\").cast(\"int\"))\n",
    "product_df = product_df.withColumn(\"ReorderPoint\", col(\"ReorderPoint\").cast(\"int\"))\n",
    "product_df = product_df.withColumn(\"StandardCost\", col(\"StandardCost\").cast(\"float\"))\n",
    "\n",
    "product_model_df = product_model_df.withColumn(\"ProductModelID\", col(\"ProductModelID\").cast(\"int\"))\n",
    "product_descr_df = product_descr_df.withColumn(\"ProductDescriptionID\", col(\"ProductDescriptionID\").cast(\"int\"))"
   ]
  },
  {
   "cell_type": "code",
   "execution_count": 0,
   "metadata": {
    "application/vnd.databricks.v1+cell": {
     "cellMetadata": {
      "byteLimit": 2048000,
      "rowLimit": 10000
     },
     "inputWidgets": {},
     "nuid": "645618c9-6a6f-4da9-98e6-57aea2b43ed0",
     "showTitle": false,
     "tableResultSettingsMap": {},
     "title": ""
    }
   },
   "outputs": [],
   "source": [
    "# Cast columns for joining if needed (e.g., ProductModelID as Integer)\n",
    "product_df = product_df.withColumn(\"ProductModelID\", col(\"ProductModelID\").cast(\"int\"))\n",
    "product_model_df = product_model_df.withColumn(\"ProductModelID\", col(\"ProductModelID\").cast(\"int\"))\n",
    "\n",
    "# Step 1: Join product_df with product_model_df on ProductModelID\n",
    "enriched_df = product_df.join(\n",
    "    product_model_df.select(\"ProductModelID\", \"Name\", \"CatalogDescription\"), \n",
    "    on=\"ProductModelID\", \n",
    "    how=\"left\"\n",
    ")"
   ]
  },
  {
   "cell_type": "code",
   "execution_count": 0,
   "metadata": {
    "application/vnd.databricks.v1+cell": {
     "cellMetadata": {
      "byteLimit": 2048000,
      "rowLimit": 10000
     },
     "inputWidgets": {},
     "nuid": "1a526883-b0e5-485b-af59-be47eb47b793",
     "showTitle": false,
     "tableResultSettingsMap": {},
     "title": ""
    }
   },
   "outputs": [
    {
     "output_type": "stream",
     "name": "stdout",
     "output_type": "stream",
     "text": [
      "Columns in enriched_df: ['ProductModelID', 'ProductID', 'product_name', 'ProductNumber', 'MakeFlag', 'FinishedGoodsFlag', 'Color', 'SafetyStockLevel', 'ReorderPoint', 'StandardCost', 'ListPrice', 'Size', 'SizeUnitMeasureCode', 'WeightUnitMeasureCode', 'Weight', 'DaysToManufacture', 'ProductLine', 'Class', 'Style', 'ProductSubcategoryID', 'SellStartDate', 'SellEndDate', 'DiscontinuedDate', 'rowguid', 'ModifiedDate', 'Name', 'CatalogDescription']\n"
     ]
    }
   ],
   "source": [
    "print(\"Columns in enriched_df:\", enriched_df.columns)"
   ]
  },
  {
   "cell_type": "code",
   "execution_count": 0,
   "metadata": {
    "application/vnd.databricks.v1+cell": {
     "cellMetadata": {
      "byteLimit": 2048000,
      "rowLimit": 10000
     },
     "inputWidgets": {},
     "nuid": "390c7361-524c-4460-b266-b85259fa3518",
     "showTitle": false,
     "tableResultSettingsMap": {},
     "title": ""
    }
   },
   "outputs": [],
   "source": [
    "\n",
    "# Step 2: Select and rename columns for the dimension table\n",
    "# Select and rename columns for the dimension table\n",
    "dim_product_sale_df = enriched_df.select(\n",
    "    col(\"ProductID\").alias(\"product_id\"),\n",
    "    col(\"Name\").alias(\"product_name\"),                     # Using 'Name' as product_name\n",
    "    col(\"CatalogDescription\").alias(\"product_description\"),  # Using 'CatalogDescription' as product_description\n",
    "    col(\"ReorderPoint\").alias(\"reorder_point\"),\n",
    "    col(\"StandardCost\").alias(\"standard_cost\")\n",
    ")\n",
    "\n"
   ]
  },
  {
   "cell_type": "code",
   "execution_count": 0,
   "metadata": {
    "application/vnd.databricks.v1+cell": {
     "cellMetadata": {
      "byteLimit": 2048000,
      "rowLimit": 10000
     },
     "inputWidgets": {},
     "nuid": "df1fa271-2457-471c-b660-69f30ab82036",
     "showTitle": false,
     "tableResultSettingsMap": {},
     "title": ""
    }
   },
   "outputs": [
    {
     "output_type": "stream",
     "name": "stdout",
     "output_type": "stream",
     "text": [
      "+----------+------------+-------------------+-------------+-------------+\n|product_id|product_name|product_description|reorder_point|standard_cost|\n+----------+------------+-------------------+-------------+-------------+\n|         1|        null|               null|          750|          0.0|\n|         2|        null|               null|          750|          0.0|\n|         3|        null|               null|          600|          0.0|\n|         4|        null|               null|          600|          0.0|\n|       316|        null|               null|          600|          0.0|\n+----------+------------+-------------------+-------------+-------------+\nonly showing top 5 rows\n\n"
     ]
    }
   ],
   "source": [
    "\n",
    "# Write the final enriched data to the dimension table (saving as a CSV for illustration)\n",
    "dim_product_sale_df.write.format(\"csv\").mode(\"overwrite\").option(\"header\", \"true\").save(\"dbfs:/FileStore/tables/dimension/dim_product_sale\")\n",
    "\n",
    "# Show a sample of the final dimension table\n",
    "dim_product_sale_df.show(5)\n",
    "\n",
    "# Stop the Spark session\n",
    "#spark.stop()"
   ]
  },
  {
   "cell_type": "code",
   "execution_count": 0,
   "metadata": {
    "application/vnd.databricks.v1+cell": {
     "cellMetadata": {
      "byteLimit": 2048000,
      "rowLimit": 10000
     },
     "inputWidgets": {},
     "nuid": "09481d35-c14d-497f-a396-20a7df46fe4f",
     "showTitle": false,
     "tableResultSettingsMap": {},
     "title": ""
    }
   },
   "outputs": [],
   "source": []
  }
 ],
 "metadata": {
  "application/vnd.databricks.v1+notebook": {
   "dashboards": [],
   "environmentMetadata": null,
   "language": "python",
   "notebookMetadata": {
    "pythonIndentUnit": 2
   },
   "notebookName": "ETL_Dim_Product_sales_2024-11-09 19:56:26",
   "widgets": {}
  }
 },
 "nbformat": 4,
 "nbformat_minor": 0
}
